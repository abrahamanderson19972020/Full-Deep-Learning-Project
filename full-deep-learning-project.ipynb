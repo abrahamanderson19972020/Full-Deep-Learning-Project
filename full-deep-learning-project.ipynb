{
 "cells": [
  {
   "cell_type": "code",
   "execution_count": 1,
   "metadata": {
    "_cell_guid": "b1076dfc-b9ad-4769-8c92-a6c4dae69d19",
    "_uuid": "8f2839f25d086af736a60e9eeb907d3b93b6e0e5",
    "execution": {
     "iopub.execute_input": "2020-12-24T00:09:52.824236Z",
     "iopub.status.busy": "2020-12-24T00:09:52.823614Z",
     "iopub.status.idle": "2020-12-24T00:09:52.838248Z",
     "shell.execute_reply": "2020-12-24T00:09:52.837539Z"
    },
    "papermill": {
     "duration": 0.069815,
     "end_time": "2020-12-24T00:09:52.838421",
     "exception": false,
     "start_time": "2020-12-24T00:09:52.768606",
     "status": "completed"
    },
    "tags": []
   },
   "outputs": [
    {
     "name": "stdout",
     "output_type": "stream",
     "text": [
      "/kaggle/input/lending-club-loans/lending_club_loan_two.csv\n"
     ]
    }
   ],
   "source": [
    "# This Python 3 environment comes with many helpful analytics libraries installed\n",
    "# It is defined by the kaggle/python Docker image: https://github.com/kaggle/docker-python\n",
    "# For example, here's several helpful packages to load\n",
    "\n",
    "import numpy as np # linear algebra\n",
    "import pandas as pd # data processing, CSV file I/O (e.g. pd.read_csv)\n",
    "\n",
    "# Input data files are available in the read-only \"../input/\" directory\n",
    "# For example, running this (by clicking run or pressing Shift+Enter) will list all files under the input directory\n",
    "\n",
    "import os\n",
    "for dirname, _, filenames in os.walk('/kaggle/input'):\n",
    "    for filename in filenames:\n",
    "        print(os.path.join(dirname, filename))\n",
    "\n",
    "# You can write up to 20GB to the current directory (/kaggle/working/) that gets preserved as output when you create a version using \"Save & Run All\" \n",
    "# You can also write temporary files to /kaggle/temp/, but they won't be saved outside of the current session"
   ]
  },
  {
   "cell_type": "code",
   "execution_count": 2,
   "metadata": {
    "execution": {
     "iopub.execute_input": "2020-12-24T00:09:52.942046Z",
     "iopub.status.busy": "2020-12-24T00:09:52.941498Z",
     "iopub.status.idle": "2020-12-24T00:09:54.005715Z",
     "shell.execute_reply": "2020-12-24T00:09:54.004976Z"
    },
    "papermill": {
     "duration": 1.116279,
     "end_time": "2020-12-24T00:09:54.005840",
     "exception": false,
     "start_time": "2020-12-24T00:09:52.889561",
     "status": "completed"
    },
    "tags": []
   },
   "outputs": [],
   "source": [
    "import matplotlib.pyplot as plt\n",
    "import seaborn as sns"
   ]
  },
  {
   "cell_type": "markdown",
   "metadata": {
    "papermill": {
     "duration": 0.048333,
     "end_time": "2020-12-24T00:09:54.103626",
     "exception": false,
     "start_time": "2020-12-24T00:09:54.055293",
     "status": "completed"
    },
    "tags": []
   },
   "source": [
    "# 1. Information and Importing Data: "
   ]
  },
  {
   "cell_type": "code",
   "execution_count": 3,
   "metadata": {
    "execution": {
     "iopub.execute_input": "2020-12-24T00:09:54.208487Z",
     "iopub.status.busy": "2020-12-24T00:09:54.207808Z",
     "iopub.status.idle": "2020-12-24T00:09:57.332255Z",
     "shell.execute_reply": "2020-12-24T00:09:57.332789Z"
    },
    "papermill": {
     "duration": 3.180769,
     "end_time": "2020-12-24T00:09:57.332933",
     "exception": false,
     "start_time": "2020-12-24T00:09:54.152164",
     "status": "completed"
    },
    "tags": []
   },
   "outputs": [
    {
     "data": {
      "text/html": [
       "<div>\n",
       "<style scoped>\n",
       "    .dataframe tbody tr th:only-of-type {\n",
       "        vertical-align: middle;\n",
       "    }\n",
       "\n",
       "    .dataframe tbody tr th {\n",
       "        vertical-align: top;\n",
       "    }\n",
       "\n",
       "    .dataframe thead th {\n",
       "        text-align: right;\n",
       "    }\n",
       "</style>\n",
       "<table border=\"1\" class=\"dataframe\">\n",
       "  <thead>\n",
       "    <tr style=\"text-align: right;\">\n",
       "      <th></th>\n",
       "      <th>loan_amnt</th>\n",
       "      <th>term</th>\n",
       "      <th>int_rate</th>\n",
       "      <th>installment</th>\n",
       "      <th>grade</th>\n",
       "      <th>sub_grade</th>\n",
       "      <th>emp_title</th>\n",
       "      <th>emp_length</th>\n",
       "      <th>home_ownership</th>\n",
       "      <th>annual_inc</th>\n",
       "      <th>...</th>\n",
       "      <th>open_acc</th>\n",
       "      <th>pub_rec</th>\n",
       "      <th>revol_bal</th>\n",
       "      <th>revol_util</th>\n",
       "      <th>total_acc</th>\n",
       "      <th>initial_list_status</th>\n",
       "      <th>application_type</th>\n",
       "      <th>mort_acc</th>\n",
       "      <th>pub_rec_bankruptcies</th>\n",
       "      <th>address</th>\n",
       "    </tr>\n",
       "  </thead>\n",
       "  <tbody>\n",
       "    <tr>\n",
       "      <th>0</th>\n",
       "      <td>10000.0</td>\n",
       "      <td>36 months</td>\n",
       "      <td>11.44</td>\n",
       "      <td>329.48</td>\n",
       "      <td>B</td>\n",
       "      <td>B4</td>\n",
       "      <td>Marketing</td>\n",
       "      <td>10+ years</td>\n",
       "      <td>RENT</td>\n",
       "      <td>117000.0</td>\n",
       "      <td>...</td>\n",
       "      <td>16.0</td>\n",
       "      <td>0.0</td>\n",
       "      <td>36369.0</td>\n",
       "      <td>41.8</td>\n",
       "      <td>25.0</td>\n",
       "      <td>w</td>\n",
       "      <td>INDIVIDUAL</td>\n",
       "      <td>0.0</td>\n",
       "      <td>0.0</td>\n",
       "      <td>0174 Michelle Gateway\\nMendozaberg, OK 22690</td>\n",
       "    </tr>\n",
       "    <tr>\n",
       "      <th>1</th>\n",
       "      <td>8000.0</td>\n",
       "      <td>36 months</td>\n",
       "      <td>11.99</td>\n",
       "      <td>265.68</td>\n",
       "      <td>B</td>\n",
       "      <td>B5</td>\n",
       "      <td>Credit analyst</td>\n",
       "      <td>4 years</td>\n",
       "      <td>MORTGAGE</td>\n",
       "      <td>65000.0</td>\n",
       "      <td>...</td>\n",
       "      <td>17.0</td>\n",
       "      <td>0.0</td>\n",
       "      <td>20131.0</td>\n",
       "      <td>53.3</td>\n",
       "      <td>27.0</td>\n",
       "      <td>f</td>\n",
       "      <td>INDIVIDUAL</td>\n",
       "      <td>3.0</td>\n",
       "      <td>0.0</td>\n",
       "      <td>1076 Carney Fort Apt. 347\\nLoganmouth, SD 05113</td>\n",
       "    </tr>\n",
       "    <tr>\n",
       "      <th>2</th>\n",
       "      <td>15600.0</td>\n",
       "      <td>36 months</td>\n",
       "      <td>10.49</td>\n",
       "      <td>506.97</td>\n",
       "      <td>B</td>\n",
       "      <td>B3</td>\n",
       "      <td>Statistician</td>\n",
       "      <td>&lt; 1 year</td>\n",
       "      <td>RENT</td>\n",
       "      <td>43057.0</td>\n",
       "      <td>...</td>\n",
       "      <td>13.0</td>\n",
       "      <td>0.0</td>\n",
       "      <td>11987.0</td>\n",
       "      <td>92.2</td>\n",
       "      <td>26.0</td>\n",
       "      <td>f</td>\n",
       "      <td>INDIVIDUAL</td>\n",
       "      <td>0.0</td>\n",
       "      <td>0.0</td>\n",
       "      <td>87025 Mark Dale Apt. 269\\nNew Sabrina, WV 05113</td>\n",
       "    </tr>\n",
       "    <tr>\n",
       "      <th>3</th>\n",
       "      <td>7200.0</td>\n",
       "      <td>36 months</td>\n",
       "      <td>6.49</td>\n",
       "      <td>220.65</td>\n",
       "      <td>A</td>\n",
       "      <td>A2</td>\n",
       "      <td>Client Advocate</td>\n",
       "      <td>6 years</td>\n",
       "      <td>RENT</td>\n",
       "      <td>54000.0</td>\n",
       "      <td>...</td>\n",
       "      <td>6.0</td>\n",
       "      <td>0.0</td>\n",
       "      <td>5472.0</td>\n",
       "      <td>21.5</td>\n",
       "      <td>13.0</td>\n",
       "      <td>f</td>\n",
       "      <td>INDIVIDUAL</td>\n",
       "      <td>0.0</td>\n",
       "      <td>0.0</td>\n",
       "      <td>823 Reid Ford\\nDelacruzside, MA 00813</td>\n",
       "    </tr>\n",
       "    <tr>\n",
       "      <th>4</th>\n",
       "      <td>24375.0</td>\n",
       "      <td>60 months</td>\n",
       "      <td>17.27</td>\n",
       "      <td>609.33</td>\n",
       "      <td>C</td>\n",
       "      <td>C5</td>\n",
       "      <td>Destiny Management Inc.</td>\n",
       "      <td>9 years</td>\n",
       "      <td>MORTGAGE</td>\n",
       "      <td>55000.0</td>\n",
       "      <td>...</td>\n",
       "      <td>13.0</td>\n",
       "      <td>0.0</td>\n",
       "      <td>24584.0</td>\n",
       "      <td>69.8</td>\n",
       "      <td>43.0</td>\n",
       "      <td>f</td>\n",
       "      <td>INDIVIDUAL</td>\n",
       "      <td>1.0</td>\n",
       "      <td>0.0</td>\n",
       "      <td>679 Luna Roads\\nGreggshire, VA 11650</td>\n",
       "    </tr>\n",
       "  </tbody>\n",
       "</table>\n",
       "<p>5 rows × 27 columns</p>\n",
       "</div>"
      ],
      "text/plain": [
       "   loan_amnt        term  int_rate  installment grade sub_grade  \\\n",
       "0    10000.0   36 months     11.44       329.48     B        B4   \n",
       "1     8000.0   36 months     11.99       265.68     B        B5   \n",
       "2    15600.0   36 months     10.49       506.97     B        B3   \n",
       "3     7200.0   36 months      6.49       220.65     A        A2   \n",
       "4    24375.0   60 months     17.27       609.33     C        C5   \n",
       "\n",
       "                 emp_title emp_length home_ownership  annual_inc  ...  \\\n",
       "0                Marketing  10+ years           RENT    117000.0  ...   \n",
       "1          Credit analyst     4 years       MORTGAGE     65000.0  ...   \n",
       "2             Statistician   < 1 year           RENT     43057.0  ...   \n",
       "3          Client Advocate    6 years           RENT     54000.0  ...   \n",
       "4  Destiny Management Inc.    9 years       MORTGAGE     55000.0  ...   \n",
       "\n",
       "  open_acc pub_rec revol_bal revol_util total_acc  initial_list_status  \\\n",
       "0     16.0     0.0   36369.0       41.8      25.0                    w   \n",
       "1     17.0     0.0   20131.0       53.3      27.0                    f   \n",
       "2     13.0     0.0   11987.0       92.2      26.0                    f   \n",
       "3      6.0     0.0    5472.0       21.5      13.0                    f   \n",
       "4     13.0     0.0   24584.0       69.8      43.0                    f   \n",
       "\n",
       "  application_type  mort_acc  pub_rec_bankruptcies  \\\n",
       "0       INDIVIDUAL       0.0                   0.0   \n",
       "1       INDIVIDUAL       3.0                   0.0   \n",
       "2       INDIVIDUAL       0.0                   0.0   \n",
       "3       INDIVIDUAL       0.0                   0.0   \n",
       "4       INDIVIDUAL       1.0                   0.0   \n",
       "\n",
       "                                           address  \n",
       "0     0174 Michelle Gateway\\nMendozaberg, OK 22690  \n",
       "1  1076 Carney Fort Apt. 347\\nLoganmouth, SD 05113  \n",
       "2  87025 Mark Dale Apt. 269\\nNew Sabrina, WV 05113  \n",
       "3            823 Reid Ford\\nDelacruzside, MA 00813  \n",
       "4             679 Luna Roads\\nGreggshire, VA 11650  \n",
       "\n",
       "[5 rows x 27 columns]"
      ]
     },
     "execution_count": 3,
     "metadata": {},
     "output_type": "execute_result"
    }
   ],
   "source": [
    "df=pd.read_csv(\"../input/lending-club-loans/lending_club_loan_two.csv\")\n",
    "df.head()"
   ]
  },
  {
   "cell_type": "markdown",
   "metadata": {
    "papermill": {
     "duration": 0.050977,
     "end_time": "2020-12-24T00:09:57.434859",
     "exception": false,
     "start_time": "2020-12-24T00:09:57.383882",
     "status": "completed"
    },
    "tags": []
   },
   "source": [
    "----\n",
    "-----\n",
    "Here is the information on this particular data set:\n",
    "\n",
    "<table border=\"1\" class=\"dataframe\">\n",
    "  <thead>\n",
    "    <tr style=\"text-align: right;\">\n",
    "      <th></th>\n",
    "      <th>LoanStatNew</th>\n",
    "      <th>Description</th>\n",
    "    </tr>\n",
    "  </thead>\n",
    "  <tbody>\n",
    "    <tr>\n",
    "      <th>0</th>\n",
    "      <td>loan_amnt</td>\n",
    "      <td>The listed amount of the loan applied for by the borrower. If at some point in time, the credit department reduces the loan amount, then it will be reflected in this value.</td>\n",
    "    </tr>\n",
    "    <tr>\n",
    "      <th>1</th>\n",
    "      <td>term</td>\n",
    "      <td>The number of payments on the loan. Values are in months and can be either 36 or 60.</td>\n",
    "    </tr>\n",
    "    <tr>\n",
    "      <th>2</th>\n",
    "      <td>int_rate</td>\n",
    "      <td>Interest Rate on the loan</td>\n",
    "    </tr>\n",
    "    <tr>\n",
    "      <th>3</th>\n",
    "      <td>installment</td>\n",
    "      <td>The monthly payment owed by the borrower if the loan originates.</td>\n",
    "    </tr>\n",
    "    <tr>\n",
    "      <th>4</th>\n",
    "      <td>grade</td>\n",
    "      <td>LC assigned loan grade</td>\n",
    "    </tr>\n",
    "    <tr>\n",
    "      <th>5</th>\n",
    "      <td>sub_grade</td>\n",
    "      <td>LC assigned loan subgrade</td>\n",
    "    </tr>\n",
    "    <tr>\n",
    "      <th>6</th>\n",
    "      <td>emp_title</td>\n",
    "      <td>The job title supplied by the Borrower when applying for the loan.*</td>\n",
    "    </tr>\n",
    "    <tr>\n",
    "      <th>7</th>\n",
    "      <td>emp_length</td>\n",
    "      <td>Employment length in years. Possible values are between 0 and 10 where 0 means less than one year and 10 means ten or more years.</td>\n",
    "    </tr>\n",
    "    <tr>\n",
    "      <th>8</th>\n",
    "      <td>home_ownership</td>\n",
    "      <td>The home ownership status provided by the borrower during registration or obtained from the credit report. Our values are: RENT, OWN, MORTGAGE, OTHER</td>\n",
    "    </tr>\n",
    "    <tr>\n",
    "      <th>9</th>\n",
    "      <td>annual_inc</td>\n",
    "      <td>The self-reported annual income provided by the borrower during registration.</td>\n",
    "    </tr>\n",
    "    <tr>\n",
    "      <th>10</th>\n",
    "      <td>verification_status</td>\n",
    "      <td>Indicates if income was verified by LC, not verified, or if the income source was verified</td>\n",
    "    </tr>\n",
    "    <tr>\n",
    "      <th>11</th>\n",
    "      <td>issue_d</td>\n",
    "      <td>The month which the loan was funded</td>\n",
    "    </tr>\n",
    "    <tr>\n",
    "      <th>12</th>\n",
    "      <td>loan_status</td>\n",
    "      <td>Current status of the loan</td>\n",
    "    </tr>\n",
    "    <tr>\n",
    "      <th>13</th>\n",
    "      <td>purpose</td>\n",
    "      <td>A category provided by the borrower for the loan request.</td>\n",
    "    </tr>\n",
    "    <tr>\n",
    "      <th>14</th>\n",
    "      <td>title</td>\n",
    "      <td>The loan title provided by the borrower</td>\n",
    "    </tr>\n",
    "    <tr>\n",
    "      <th>15</th>\n",
    "      <td>zip_code</td>\n",
    "      <td>The first 3 numbers of the zip code provided by the borrower in the loan application.</td>\n",
    "    </tr>\n",
    "    <tr>\n",
    "      <th>16</th>\n",
    "      <td>addr_state</td>\n",
    "      <td>The state provided by the borrower in the loan application</td>\n",
    "    </tr>\n",
    "    <tr>\n",
    "      <th>17</th>\n",
    "      <td>dti</td>\n",
    "      <td>A ratio calculated using the borrower’s total monthly debt payments on the total debt obligations, excluding mortgage and the requested LC loan, divided by the borrower’s self-reported monthly income.</td>\n",
    "    </tr>\n",
    "    <tr>\n",
    "      <th>18</th>\n",
    "      <td>earliest_cr_line</td>\n",
    "      <td>The month the borrower's earliest reported credit line was opened</td>\n",
    "    </tr>\n",
    "    <tr>\n",
    "      <th>19</th>\n",
    "      <td>open_acc</td>\n",
    "      <td>The number of open credit lines in the borrower's credit file.</td>\n",
    "    </tr>\n",
    "    <tr>\n",
    "      <th>20</th>\n",
    "      <td>pub_rec</td>\n",
    "      <td>Number of derogatory public records</td>\n",
    "    </tr>\n",
    "    <tr>\n",
    "      <th>21</th>\n",
    "      <td>revol_bal</td>\n",
    "      <td>Total credit revolving balance</td>\n",
    "    </tr>\n",
    "    <tr>\n",
    "      <th>22</th>\n",
    "      <td>revol_util</td>\n",
    "      <td>Revolving line utilization rate, or the amount of credit the borrower is using relative to all available revolving credit.</td>\n",
    "    </tr>\n",
    "    <tr>\n",
    "      <th>23</th>\n",
    "      <td>total_acc</td>\n",
    "      <td>The total number of credit lines currently in the borrower's credit file</td>\n",
    "    </tr>\n",
    "    <tr>\n",
    "      <th>24</th>\n",
    "      <td>initial_list_status</td>\n",
    "      <td>The initial listing status of the loan. Possible values are – W, F</td>\n",
    "    </tr>\n",
    "    <tr>\n",
    "      <th>25</th>\n",
    "      <td>application_type</td>\n",
    "      <td>Indicates whether the loan is an individual application or a joint application with two co-borrowers</td>\n",
    "    </tr>\n",
    "    <tr>\n",
    "      <th>26</th>\n",
    "      <td>mort_acc</td>\n",
    "      <td>Number of mortgage accounts.</td>\n",
    "    </tr>\n",
    "    <tr>\n",
    "      <th>27</th>\n",
    "      <td>pub_rec_bankruptcies</td>\n",
    "      <td>Number of public record bankruptcies</td>\n",
    "    </tr>\n",
    "  </tbody>\n",
    "</table>\n",
    "\n",
    "---\n",
    "----"
   ]
  },
  {
   "cell_type": "markdown",
   "metadata": {
    "papermill": {
     "duration": 0.050451,
     "end_time": "2020-12-24T00:09:57.535234",
     "exception": false,
     "start_time": "2020-12-24T00:09:57.484783",
     "status": "completed"
    },
    "tags": []
   },
   "source": [
    "# 2. Explarotory Data Analysis:"
   ]
  },
  {
   "cell_type": "code",
   "execution_count": 4,
   "metadata": {
    "execution": {
     "iopub.execute_input": "2020-12-24T00:09:57.640460Z",
     "iopub.status.busy": "2020-12-24T00:09:57.639849Z",
     "iopub.status.idle": "2020-12-24T00:09:57.944063Z",
     "shell.execute_reply": "2020-12-24T00:09:57.944495Z"
    },
    "papermill": {
     "duration": 0.359304,
     "end_time": "2020-12-24T00:09:57.944632",
     "exception": false,
     "start_time": "2020-12-24T00:09:57.585328",
     "status": "completed"
    },
    "tags": []
   },
   "outputs": [
    {
     "data": {
      "text/plain": [
       "<matplotlib.axes._subplots.AxesSubplot at 0x7f69198b5990>"
      ]
     },
     "execution_count": 4,
     "metadata": {},
     "output_type": "execute_result"
    },
    {
     "data": {
      "image/png": "[encoded data removed]",
      "text/plain": [
       "<Figure size 1080x720 with 1 Axes>"
      ]
     },
     "metadata": {},
     "output_type": "display_data"
    }
   ],
   "source": [
    "sns.set_style(\"whitegrid\")\n",
    "plt.figure(figsize=(15,10))\n",
    "sns.countplot(x=\"loan_status\",data=df,palette=\"viridis\")\n",
    "#This is the target column our ML algorithm will base on its predictions"
   ]
  },
  {
   "cell_type": "code",
   "execution_count": 5,
   "metadata": {
    "execution": {
     "iopub.execute_input": "2020-12-24T00:09:58.070082Z",
     "iopub.status.busy": "2020-12-24T00:09:58.069470Z",
     "iopub.status.idle": "2020-12-24T00:09:58.422796Z",
     "shell.execute_reply": "2020-12-24T00:09:58.423218Z"
    },
    "papermill": {
     "duration": 0.418442,
     "end_time": "2020-12-24T00:09:58.423378",
     "exception": false,
     "start_time": "2020-12-24T00:09:58.004936",
     "status": "completed"
    },
    "tags": []
   },
   "outputs": [
    {
     "data": {
      "text/plain": [
       "(array([2.2670e+03, 5.6280e+03, 5.4990e+03, 1.1040e+04, 9.0380e+03,\n",
       "        1.9163e+04, 1.9787e+04, 7.9990e+03, 1.5863e+04, 1.7886e+04,\n",
       "        1.3435e+04, 9.0640e+03, 3.3680e+04, 1.0295e+04, 2.5228e+04,\n",
       "        8.2190e+03, 4.8240e+03, 1.1680e+04, 2.3176e+04, 1.3024e+04,\n",
       "        6.5570e+03, 3.7200e+03, 1.2104e+04, 4.9210e+03, 2.1937e+04,\n",
       "        7.4400e+03, 2.4210e+03, 4.2610e+03, 2.7940e+03, 1.0325e+04,\n",
       "        2.1090e+03, 1.0351e+04, 2.1240e+03, 1.5810e+03, 6.5600e+03,\n",
       "        1.0060e+03, 1.2990e+03, 7.5930e+03, 8.9500e+02, 1.5990e+03,\n",
       "        7.8400e+02, 1.0770e+03, 5.8100e+02, 1.4938e+04, 4.7000e+01,\n",
       "        8.0000e+00, 7.0000e+00, 8.0000e+00, 4.0000e+00, 1.8400e+02]),\n",
       " array([  500.,  1290.,  2080.,  2870.,  3660.,  4450.,  5240.,  6030.,\n",
       "         6820.,  7610.,  8400.,  9190.,  9980., 10770., 11560., 12350.,\n",
       "        13140., 13930., 14720., 15510., 16300., 17090., 17880., 18670.,\n",
       "        19460., 20250., 21040., 21830., 22620., 23410., 24200., 24990.,\n",
       "        25780., 26570., 27360., 28150., 28940., 29730., 30520., 31310.,\n",
       "        32100., 32890., 33680., 34470., 35260., 36050., 36840., 37630.,\n",
       "        38420., 39210., 40000.]),\n",
       " <a list of 50 Patch objects>)"
      ]
     },
     "execution_count": 5,
     "metadata": {},
     "output_type": "execute_result"
    },
    {
     "data": {
      "image/png": "[encoded data removed]",
      "text/plain": [
       "<Figure size 1080x720 with 1 Axes>"
      ]
     },
     "metadata": {},
     "output_type": "display_data"
    }
   ],
   "source": [
    "plt.figure(figsize=(15,10))\n",
    "plt.hist(df[\"loan_amnt\"],bins=50)"
   ]
  },
  {
   "cell_type": "code",
   "execution_count": 6,
   "metadata": {
    "execution": {
     "iopub.execute_input": "2020-12-24T00:09:58.542463Z",
     "iopub.status.busy": "2020-12-24T00:09:58.541811Z",
     "iopub.status.idle": "2020-12-24T00:09:58.717973Z",
     "shell.execute_reply": "2020-12-24T00:09:58.718436Z"
    },
    "papermill": {
     "duration": 0.243401,
     "end_time": "2020-12-24T00:09:58.718571",
     "exception": false,
     "start_time": "2020-12-24T00:09:58.475170",
     "status": "completed"
    },
    "tags": []
   },
   "outputs": [
    {
     "data": {
      "text/html": [
       "<div>\n",
       "<style scoped>\n",
       "    .dataframe tbody tr th:only-of-type {\n",
       "        vertical-align: middle;\n",
       "    }\n",
       "\n",
       "    .dataframe tbody tr th {\n",
       "        vertical-align: top;\n",
       "    }\n",
       "\n",
       "    .dataframe thead th {\n",
       "        text-align: right;\n",
       "    }\n",
       "</style>\n",
       "<table border=\"1\" class=\"dataframe\">\n",
       "  <thead>\n",
       "    <tr style=\"text-align: right;\">\n",
       "      <th></th>\n",
       "      <th>loan_amnt</th>\n",
       "      <th>int_rate</th>\n",
       "      <th>installment</th>\n",
       "      <th>annual_inc</th>\n",
       "      <th>dti</th>\n",
       "      <th>open_acc</th>\n",
       "      <th>pub_rec</th>\n",
       "      <th>revol_bal</th>\n",
       "      <th>revol_util</th>\n",
       "      <th>total_acc</th>\n",
       "      <th>mort_acc</th>\n",
       "      <th>pub_rec_bankruptcies</th>\n",
       "    </tr>\n",
       "  </thead>\n",
       "  <tbody>\n",
       "    <tr>\n",
       "      <th>loan_amnt</th>\n",
       "      <td>1.000000</td>\n",
       "      <td>0.168921</td>\n",
       "      <td>0.953929</td>\n",
       "      <td>0.336887</td>\n",
       "      <td>0.016636</td>\n",
       "      <td>0.198556</td>\n",
       "      <td>-0.077779</td>\n",
       "      <td>0.328320</td>\n",
       "      <td>0.099911</td>\n",
       "      <td>0.223886</td>\n",
       "      <td>0.222315</td>\n",
       "      <td>-0.106539</td>\n",
       "    </tr>\n",
       "    <tr>\n",
       "      <th>int_rate</th>\n",
       "      <td>0.168921</td>\n",
       "      <td>1.000000</td>\n",
       "      <td>0.162758</td>\n",
       "      <td>-0.056771</td>\n",
       "      <td>0.079038</td>\n",
       "      <td>0.011649</td>\n",
       "      <td>0.060986</td>\n",
       "      <td>-0.011280</td>\n",
       "      <td>0.293659</td>\n",
       "      <td>-0.036404</td>\n",
       "      <td>-0.082583</td>\n",
       "      <td>0.057450</td>\n",
       "    </tr>\n",
       "    <tr>\n",
       "      <th>installment</th>\n",
       "      <td>0.953929</td>\n",
       "      <td>0.162758</td>\n",
       "      <td>1.000000</td>\n",
       "      <td>0.330381</td>\n",
       "      <td>0.015786</td>\n",
       "      <td>0.188973</td>\n",
       "      <td>-0.067892</td>\n",
       "      <td>0.316455</td>\n",
       "      <td>0.123915</td>\n",
       "      <td>0.202430</td>\n",
       "      <td>0.193694</td>\n",
       "      <td>-0.098628</td>\n",
       "    </tr>\n",
       "    <tr>\n",
       "      <th>annual_inc</th>\n",
       "      <td>0.336887</td>\n",
       "      <td>-0.056771</td>\n",
       "      <td>0.330381</td>\n",
       "      <td>1.000000</td>\n",
       "      <td>-0.081685</td>\n",
       "      <td>0.136150</td>\n",
       "      <td>-0.013720</td>\n",
       "      <td>0.299773</td>\n",
       "      <td>0.027871</td>\n",
       "      <td>0.193023</td>\n",
       "      <td>0.236320</td>\n",
       "      <td>-0.050162</td>\n",
       "    </tr>\n",
       "    <tr>\n",
       "      <th>dti</th>\n",
       "      <td>0.016636</td>\n",
       "      <td>0.079038</td>\n",
       "      <td>0.015786</td>\n",
       "      <td>-0.081685</td>\n",
       "      <td>1.000000</td>\n",
       "      <td>0.136181</td>\n",
       "      <td>-0.017639</td>\n",
       "      <td>0.063571</td>\n",
       "      <td>0.088375</td>\n",
       "      <td>0.102128</td>\n",
       "      <td>-0.025439</td>\n",
       "      <td>-0.014558</td>\n",
       "    </tr>\n",
       "    <tr>\n",
       "      <th>open_acc</th>\n",
       "      <td>0.198556</td>\n",
       "      <td>0.011649</td>\n",
       "      <td>0.188973</td>\n",
       "      <td>0.136150</td>\n",
       "      <td>0.136181</td>\n",
       "      <td>1.000000</td>\n",
       "      <td>-0.018392</td>\n",
       "      <td>0.221192</td>\n",
       "      <td>-0.131420</td>\n",
       "      <td>0.680728</td>\n",
       "      <td>0.109205</td>\n",
       "      <td>-0.027732</td>\n",
       "    </tr>\n",
       "    <tr>\n",
       "      <th>pub_rec</th>\n",
       "      <td>-0.077779</td>\n",
       "      <td>0.060986</td>\n",
       "      <td>-0.067892</td>\n",
       "      <td>-0.013720</td>\n",
       "      <td>-0.017639</td>\n",
       "      <td>-0.018392</td>\n",
       "      <td>1.000000</td>\n",
       "      <td>-0.101664</td>\n",
       "      <td>-0.075910</td>\n",
       "      <td>0.019723</td>\n",
       "      <td>0.011552</td>\n",
       "      <td>0.699408</td>\n",
       "    </tr>\n",
       "    <tr>\n",
       "      <th>revol_bal</th>\n",
       "      <td>0.328320</td>\n",
       "      <td>-0.011280</td>\n",
       "      <td>0.316455</td>\n",
       "      <td>0.299773</td>\n",
       "      <td>0.063571</td>\n",
       "      <td>0.221192</td>\n",
       "      <td>-0.101664</td>\n",
       "      <td>1.000000</td>\n",
       "      <td>0.226346</td>\n",
       "      <td>0.191616</td>\n",
       "      <td>0.194925</td>\n",
       "      <td>-0.124532</td>\n",
       "    </tr>\n",
       "    <tr>\n",
       "      <th>revol_util</th>\n",
       "      <td>0.099911</td>\n",
       "      <td>0.293659</td>\n",
       "      <td>0.123915</td>\n",
       "      <td>0.027871</td>\n",
       "      <td>0.088375</td>\n",
       "      <td>-0.131420</td>\n",
       "      <td>-0.075910</td>\n",
       "      <td>0.226346</td>\n",
       "      <td>1.000000</td>\n",
       "      <td>-0.104273</td>\n",
       "      <td>0.007514</td>\n",
       "      <td>-0.086751</td>\n",
       "    </tr>\n",
       "    <tr>\n",
       "      <th>total_acc</th>\n",
       "      <td>0.223886</td>\n",
       "      <td>-0.036404</td>\n",
       "      <td>0.202430</td>\n",
       "      <td>0.193023</td>\n",
       "      <td>0.102128</td>\n",
       "      <td>0.680728</td>\n",
       "      <td>0.019723</td>\n",
       "      <td>0.191616</td>\n",
       "      <td>-0.104273</td>\n",
       "      <td>1.000000</td>\n",
       "      <td>0.381072</td>\n",
       "      <td>0.042035</td>\n",
       "    </tr>\n",
       "    <tr>\n",
       "      <th>mort_acc</th>\n",
       "      <td>0.222315</td>\n",
       "      <td>-0.082583</td>\n",
       "      <td>0.193694</td>\n",
       "      <td>0.236320</td>\n",
       "      <td>-0.025439</td>\n",
       "      <td>0.109205</td>\n",
       "      <td>0.011552</td>\n",
       "      <td>0.194925</td>\n",
       "      <td>0.007514</td>\n",
       "      <td>0.381072</td>\n",
       "      <td>1.000000</td>\n",
       "      <td>0.027239</td>\n",
       "    </tr>\n",
       "    <tr>\n",
       "      <th>pub_rec_bankruptcies</th>\n",
       "      <td>-0.106539</td>\n",
       "      <td>0.057450</td>\n",
       "      <td>-0.098628</td>\n",
       "      <td>-0.050162</td>\n",
       "      <td>-0.014558</td>\n",
       "      <td>-0.027732</td>\n",
       "      <td>0.699408</td>\n",
       "      <td>-0.124532</td>\n",
       "      <td>-0.086751</td>\n",
       "      <td>0.042035</td>\n",
       "      <td>0.027239</td>\n",
       "      <td>1.000000</td>\n",
       "    </tr>\n",
       "  </tbody>\n",
       "</table>\n",
       "</div>"
      ],
      "text/plain": [
       "                      loan_amnt  int_rate  installment  annual_inc       dti  \\\n",
       "loan_amnt              1.000000  0.168921     0.953929    0.336887  0.016636   \n",
       "int_rate               0.168921  1.000000     0.162758   -0.056771  0.079038   \n",
       "installment            0.953929  0.162758     1.000000    0.330381  0.015786   \n",
       "annual_inc             0.336887 -0.056771     0.330381    1.000000 -0.081685   \n",
       "dti                    0.016636  0.079038     0.015786   -0.081685  1.000000   \n",
       "open_acc               0.198556  0.011649     0.188973    0.136150  0.136181   \n",
       "pub_rec               -0.077779  0.060986    -0.067892   -0.013720 -0.017639   \n",
       "revol_bal              0.328320 -0.011280     0.316455    0.299773  0.063571   \n",
       "revol_util             0.099911  0.293659     0.123915    0.027871  0.088375   \n",
       "total_acc              0.223886 -0.036404     0.202430    0.193023  0.102128   \n",
       "mort_acc               0.222315 -0.082583     0.193694    0.236320 -0.025439   \n",
       "pub_rec_bankruptcies  -0.106539  0.057450    -0.098628   -0.050162 -0.014558   \n",
       "\n",
       "                      open_acc   pub_rec  revol_bal  revol_util  total_acc  \\\n",
       "loan_amnt             0.198556 -0.077779   0.328320    0.099911   0.223886   \n",
       "int_rate              0.011649  0.060986  -0.011280    0.293659  -0.036404   \n",
       "installment           0.188973 -0.067892   0.316455    0.123915   0.202430   \n",
       "annual_inc            0.136150 -0.013720   0.299773    0.027871   0.193023   \n",
       "dti                   0.136181 -0.017639   0.063571    0.088375   0.102128   \n",
       "open_acc              1.000000 -0.018392   0.221192   -0.131420   0.680728   \n",
       "pub_rec              -0.018392  1.000000  -0.101664   -0.075910   0.019723   \n",
       "revol_bal             0.221192 -0.101664   1.000000    0.226346   0.191616   \n",
       "revol_util           -0.131420 -0.075910   0.226346    1.000000  -0.104273   \n",
       "total_acc             0.680728  0.019723   0.191616   -0.104273   1.000000   \n",
       "mort_acc              0.109205  0.011552   0.194925    0.007514   0.381072   \n",
       "pub_rec_bankruptcies -0.027732  0.699408  -0.124532   -0.086751   0.042035   \n",
       "\n",
       "                      mort_acc  pub_rec_bankruptcies  \n",
       "loan_amnt             0.222315             -0.106539  \n",
       "int_rate             -0.082583              0.057450  \n",
       "installment           0.193694             -0.098628  \n",
       "annual_inc            0.236320             -0.050162  \n",
       "dti                  -0.025439             -0.014558  \n",
       "open_acc              0.109205             -0.027732  \n",
       "pub_rec               0.011552              0.699408  \n",
       "revol_bal             0.194925             -0.124532  \n",
       "revol_util            0.007514             -0.086751  \n",
       "total_acc             0.381072              0.042035  \n",
       "mort_acc              1.000000              0.027239  \n",
       "pub_rec_bankruptcies  0.027239              1.000000  "
      ]
     },
     "execution_count": 6,
     "metadata": {},
     "output_type": "execute_result"
    }
   ],
   "source": [
    "df.corr()\n",
    "# here we explore correlation between the continuous feature variables"
   ]
  },
  {
   "cell_type": "code",
   "execution_count": 7,
   "metadata": {
    "execution": {
     "iopub.execute_input": "2020-12-24T00:09:58.827402Z",
     "iopub.status.busy": "2020-12-24T00:09:58.826746Z",
     "iopub.status.idle": "2020-12-24T00:09:59.713246Z",
     "shell.execute_reply": "2020-12-24T00:09:59.713771Z"
    },
    "papermill": {
     "duration": 0.942744,
     "end_time": "2020-12-24T00:09:59.713919",
     "exception": false,
     "start_time": "2020-12-24T00:09:58.771175",
     "status": "completed"
    },
    "tags": []
   },
   "outputs": [
    {
     "data": {
      "text/plain": [
       "<matplotlib.axes._subplots.AxesSubplot at 0x7f691956cb10>"
      ]
     },
     "execution_count": 7,
     "metadata": {},
     "output_type": "execute_result"
    },
    {
     "data": {
      "image/png": "[encoded data removed]",
      "text/plain": [
       "<Figure size 1080x720 with 2 Axes>"
      ]
     },
     "metadata": {},
     "output_type": "display_data"
    }
   ],
   "source": [
    "plt.figure(figsize=(15,10))\n",
    "sns.heatmap(df.corr(),cmap=\"viridis\",annot=True,linewidths=0.1)\n",
    "#Here we visualize these correlations"
   ]
  },
  {
   "cell_type": "code",
   "execution_count": 8,
   "metadata": {
    "execution": {
     "iopub.execute_input": "2020-12-24T00:09:59.832382Z",
     "iopub.status.busy": "2020-12-24T00:09:59.831741Z",
     "iopub.status.idle": "2020-12-24T00:10:01.082964Z",
     "shell.execute_reply": "2020-12-24T00:10:01.083440Z"
    },
    "papermill": {
     "duration": 1.313785,
     "end_time": "2020-12-24T00:10:01.083576",
     "exception": false,
     "start_time": "2020-12-24T00:09:59.769791",
     "status": "completed"
    },
    "tags": []
   },
   "outputs": [
    {
     "data": {
      "text/plain": [
       "<matplotlib.axes._subplots.AxesSubplot at 0x7f69194f1d10>"
      ]
     },
     "execution_count": 8,
     "metadata": {},
     "output_type": "execute_result"
    },
    {
     "data": {
      "image/png": "[encoded data removed]",
      "text/plain": [
       "<Figure size 1080x720 with 1 Axes>"
      ]
     },
     "metadata": {},
     "output_type": "display_data"
    }
   ],
   "source": [
    "#We notice the perfect correlation between the \"installment\" and loan amount features\n",
    "plt.figure(figsize=(15,10))\n",
    "sns.scatterplot(x=\"installment\",y=\"loan_amnt\", data=df, color=\"red\")"
   ]
  },
  {
   "cell_type": "code",
   "execution_count": 9,
   "metadata": {
    "execution": {
     "iopub.execute_input": "2020-12-24T00:10:01.224476Z",
     "iopub.status.busy": "2020-12-24T00:10:01.218905Z",
     "iopub.status.idle": "2020-12-24T00:10:01.447181Z",
     "shell.execute_reply": "2020-12-24T00:10:01.446673Z"
    },
    "papermill": {
     "duration": 0.30337,
     "end_time": "2020-12-24T00:10:01.447290",
     "exception": false,
     "start_time": "2020-12-24T00:10:01.143920",
     "status": "completed"
    },
    "tags": []
   },
   "outputs": [
    {
     "data": {
      "text/plain": [
       "<matplotlib.axes._subplots.AxesSubplot at 0x7f6919576510>"
      ]
     },
     "execution_count": 9,
     "metadata": {},
     "output_type": "execute_result"
    },
    {
     "data": {
      "image/png": "[encoded data removed]",
      "text/plain": [
       "<Figure size 1080x720 with 1 Axes>"
      ]
     },
     "metadata": {},
     "output_type": "display_data"
    }
   ],
   "source": [
    "plt.figure(figsize=(15,10))\n",
    "sns.boxplot(x=\"loan_status\", y=\"loan_amnt\",data=df)\n",
    "# Here we create a boxplot showing the relationship between the loan status and the Loan Amount"
   ]
  },
  {
   "cell_type": "markdown",
   "metadata": {
    "papermill": {
     "duration": 0.061036,
     "end_time": "2020-12-24T00:10:01.569642",
     "exception": false,
     "start_time": "2020-12-24T00:10:01.508606",
     "status": "completed"
    },
    "tags": []
   },
   "source": [
    "**Hello**"
   ]
  },
  {
   "cell_type": "code",
   "execution_count": 10,
   "metadata": {
    "execution": {
     "iopub.execute_input": "2020-12-24T00:10:01.706076Z",
     "iopub.status.busy": "2020-12-24T00:10:01.705168Z",
     "iopub.status.idle": "2020-12-24T00:10:01.764515Z",
     "shell.execute_reply": "2020-12-24T00:10:01.764042Z"
    },
    "papermill": {
     "duration": 0.133838,
     "end_time": "2020-12-24T00:10:01.764629",
     "exception": false,
     "start_time": "2020-12-24T00:10:01.630791",
     "status": "completed"
    },
    "tags": []
   },
   "outputs": [
    {
     "data": {
      "text/html": [
       "<div>\n",
       "<style scoped>\n",
       "    .dataframe tbody tr th:only-of-type {\n",
       "        vertical-align: middle;\n",
       "    }\n",
       "\n",
       "    .dataframe tbody tr th {\n",
       "        vertical-align: top;\n",
       "    }\n",
       "\n",
       "    .dataframe thead th {\n",
       "        text-align: right;\n",
       "    }\n",
       "</style>\n",
       "<table border=\"1\" class=\"dataframe\">\n",
       "  <thead>\n",
       "    <tr style=\"text-align: right;\">\n",
       "      <th></th>\n",
       "      <th>count</th>\n",
       "      <th>mean</th>\n",
       "      <th>std</th>\n",
       "      <th>min</th>\n",
       "      <th>25%</th>\n",
       "      <th>50%</th>\n",
       "      <th>75%</th>\n",
       "      <th>max</th>\n",
       "    </tr>\n",
       "    <tr>\n",
       "      <th>loan_status</th>\n",
       "      <th></th>\n",
       "      <th></th>\n",
       "      <th></th>\n",
       "      <th></th>\n",
       "      <th></th>\n",
       "      <th></th>\n",
       "      <th></th>\n",
       "      <th></th>\n",
       "    </tr>\n",
       "  </thead>\n",
       "  <tbody>\n",
       "    <tr>\n",
       "      <th>Charged Off</th>\n",
       "      <td>77673.0</td>\n",
       "      <td>15126.300967</td>\n",
       "      <td>8505.090557</td>\n",
       "      <td>1000.0</td>\n",
       "      <td>8525.0</td>\n",
       "      <td>14000.0</td>\n",
       "      <td>20000.0</td>\n",
       "      <td>40000.0</td>\n",
       "    </tr>\n",
       "    <tr>\n",
       "      <th>Fully Paid</th>\n",
       "      <td>318357.0</td>\n",
       "      <td>13866.878771</td>\n",
       "      <td>8302.319699</td>\n",
       "      <td>500.0</td>\n",
       "      <td>7500.0</td>\n",
       "      <td>12000.0</td>\n",
       "      <td>19225.0</td>\n",
       "      <td>40000.0</td>\n",
       "    </tr>\n",
       "  </tbody>\n",
       "</table>\n",
       "</div>"
      ],
      "text/plain": [
       "                count          mean          std     min     25%      50%  \\\n",
       "loan_status                                                                 \n",
       "Charged Off   77673.0  15126.300967  8505.090557  1000.0  8525.0  14000.0   \n",
       "Fully Paid   318357.0  13866.878771  8302.319699   500.0  7500.0  12000.0   \n",
       "\n",
       "                 75%      max  \n",
       "loan_status                    \n",
       "Charged Off  20000.0  40000.0  \n",
       "Fully Paid   19225.0  40000.0  "
      ]
     },
     "execution_count": 10,
     "metadata": {},
     "output_type": "execute_result"
    }
   ],
   "source": [
    "# from the box plot above we can see any difference between fully paind and charged off loans with respect to loan amoun\n",
    "#here we want to get more details \n",
    "df.groupby(\"loan_status\")[\"loan_amnt\"].describe()\n",
    "#The loan amount mean of fully paid loans are clearly fewer than charged off loans"
   ]
  },
  {
   "cell_type": "code",
   "execution_count": 11,
   "metadata": {
    "execution": {
     "iopub.execute_input": "2020-12-24T00:10:01.908120Z",
     "iopub.status.busy": "2020-12-24T00:10:01.900314Z",
     "iopub.status.idle": "2020-12-24T00:10:01.916878Z",
     "shell.execute_reply": "2020-12-24T00:10:01.916264Z"
    },
    "papermill": {
     "duration": 0.089137,
     "end_time": "2020-12-24T00:10:01.916985",
     "exception": false,
     "start_time": "2020-12-24T00:10:01.827848",
     "status": "completed"
    },
    "tags": []
   },
   "outputs": [
    {
     "data": {
      "text/plain": [
       "array(['B', 'A', 'C', 'E', 'D', 'F', 'G'], dtype=object)"
      ]
     },
     "execution_count": 11,
     "metadata": {},
     "output_type": "execute_result"
    }
   ],
   "source": [
    "df[\"grade\"].unique()\n",
    "#There are 7 different unique grades"
   ]
  },
  {
   "cell_type": "code",
   "execution_count": 12,
   "metadata": {
    "execution": {
     "iopub.execute_input": "2020-12-24T00:10:02.061168Z",
     "iopub.status.busy": "2020-12-24T00:10:02.060198Z",
     "iopub.status.idle": "2020-12-24T00:10:02.070272Z",
     "shell.execute_reply": "2020-12-24T00:10:02.069746Z"
    },
    "papermill": {
     "duration": 0.091694,
     "end_time": "2020-12-24T00:10:02.070394",
     "exception": false,
     "start_time": "2020-12-24T00:10:01.978700",
     "status": "completed"
    },
    "tags": []
   },
   "outputs": [
    {
     "data": {
      "text/plain": [
       "array(['B4', 'B5', 'B3', 'A2', 'C5', 'C3', 'A1', 'B2', 'C1', 'A5', 'E4',\n",
       "       'A4', 'A3', 'D1', 'C2', 'B1', 'D3', 'D5', 'D2', 'E1', 'E2', 'E5',\n",
       "       'F4', 'E3', 'D4', 'G1', 'F5', 'G2', 'C4', 'F1', 'F3', 'G5', 'G4',\n",
       "       'F2', 'G3'], dtype=object)"
      ]
     },
     "execution_count": 12,
     "metadata": {},
     "output_type": "execute_result"
    }
   ],
   "source": [
    "df[\"sub_grade\"].unique()\n",
    "#There are 35 different sub grades\n"
   ]
  },
  {
   "cell_type": "code",
   "execution_count": 13,
   "metadata": {
    "execution": {
     "iopub.execute_input": "2020-12-24T00:10:02.214204Z",
     "iopub.status.busy": "2020-12-24T00:10:02.208427Z",
     "iopub.status.idle": "2020-12-24T00:10:02.622013Z",
     "shell.execute_reply": "2020-12-24T00:10:02.622458Z"
    },
    "papermill": {
     "duration": 0.490115,
     "end_time": "2020-12-24T00:10:02.622616",
     "exception": false,
     "start_time": "2020-12-24T00:10:02.132501",
     "status": "completed"
    },
    "tags": []
   },
   "outputs": [
    {
     "data": {
      "text/plain": [
       "<matplotlib.axes._subplots.AxesSubplot at 0x7f69193445d0>"
      ]
     },
     "execution_count": 13,
     "metadata": {},
     "output_type": "execute_result"
    },
    {
     "data": {
      "image/png": "[encoded data removed]",
      "text/plain": [
       "<Figure size 1080x720 with 1 Axes>"
      ]
     },
     "metadata": {},
     "output_type": "display_data"
    }
   ],
   "source": [
    "plt.figure(figsize=(15,10))\n",
    "sns.countplot(x=\"grade\", data=df, hue=\"loan_status\",palette=\"magma\")\n",
    "# Here we creats a countplot per grade with the hue to the loan_status label"
   ]
  },
  {
   "cell_type": "code",
   "execution_count": 14,
   "metadata": {
    "execution": {
     "iopub.execute_input": "2020-12-24T00:10:02.762064Z",
     "iopub.status.busy": "2020-12-24T00:10:02.754636Z",
     "iopub.status.idle": "2020-12-24T00:10:03.244082Z",
     "shell.execute_reply": "2020-12-24T00:10:03.243549Z"
    },
    "papermill": {
     "duration": 0.558232,
     "end_time": "2020-12-24T00:10:03.244191",
     "exception": false,
     "start_time": "2020-12-24T00:10:02.685959",
     "status": "completed"
    },
    "tags": []
   },
   "outputs": [
    {
     "data": {
      "text/plain": [
       "<matplotlib.axes._subplots.AxesSubplot at 0x7f6916efd150>"
      ]
     },
     "execution_count": 14,
     "metadata": {},
     "output_type": "execute_result"
    },
    {
     "data": {
      "image/png": "[encoded data removed]",
      "text/plain": [
       "<Figure size 1080x720 with 1 Axes>"
      ]
     },
     "metadata": {},
     "output_type": "display_data"
    }
   ],
   "source": [
    "plt.figure(figsize=(15,10))\n",
    "sns.countplot(x=\"sub_grade\",data=df,palette=\"coolwarm\",order=sorted(df[\"sub_grade\"].unique()))\n",
    "#Here we explore both all loans made per subgrade as well being separated based on the loan_status\n"
   ]
  },
  {
   "cell_type": "code",
   "execution_count": 15,
   "metadata": {
    "execution": {
     "iopub.execute_input": "2020-12-24T00:10:03.397824Z",
     "iopub.status.busy": "2020-12-24T00:10:03.389869Z",
     "iopub.status.idle": "2020-12-24T00:10:04.134420Z",
     "shell.execute_reply": "2020-12-24T00:10:04.133482Z"
    },
    "papermill": {
     "duration": 0.824861,
     "end_time": "2020-12-24T00:10:04.134543",
     "exception": false,
     "start_time": "2020-12-24T00:10:03.309682",
     "status": "completed"
    },
    "tags": []
   },
   "outputs": [
    {
     "data": {
      "text/plain": [
       "<matplotlib.axes._subplots.AxesSubplot at 0x7f6916e5f390>"
      ]
     },
     "execution_count": 15,
     "metadata": {},
     "output_type": "execute_result"
    },
    {
     "data": {
      "image/png": "[encoded data removed]",
      "text/plain": [
       "<Figure size 1080x720 with 1 Axes>"
      ]
     },
     "metadata": {},
     "output_type": "display_data"
    }
   ],
   "source": [
    "plt.figure(figsize=(15,10))\n",
    "sns.countplot(x=\"sub_grade\",data=df,palette=\"coolwarm\",hue=\"loan_status\",order=sorted(df[\"sub_grade\"].unique()))\n",
    "#We can clearly notice that higher grades tend to pay back more than lower grades"
   ]
  },
  {
   "cell_type": "code",
   "execution_count": 16,
   "metadata": {
    "execution": {
     "iopub.execute_input": "2020-12-24T00:10:04.325667Z",
     "iopub.status.busy": "2020-12-24T00:10:04.300104Z",
     "iopub.status.idle": "2020-12-24T00:10:04.662567Z",
     "shell.execute_reply": "2020-12-24T00:10:04.662057Z"
    },
    "papermill": {
     "duration": 0.460947,
     "end_time": "2020-12-24T00:10:04.662689",
     "exception": false,
     "start_time": "2020-12-24T00:10:04.201742",
     "status": "completed"
    },
    "tags": []
   },
   "outputs": [
    {
     "data": {
      "text/plain": [
       "<matplotlib.axes._subplots.AxesSubplot at 0x7f6916c9c9d0>"
      ]
     },
     "execution_count": 16,
     "metadata": {},
     "output_type": "execute_result"
    },
    {
     "data": {
      "image/png": "[encoded data removed]",
      "text/plain": [
       "<Figure size 1080x720 with 1 Axes>"
      ]
     },
     "metadata": {},
     "output_type": "display_data"
    }
   ],
   "source": [
    "plt.figure(figsize=(15,10))\n",
    "sns.countplot(x=\"sub_grade\",data=df[(df['grade']=='G') | (df['grade']=='F')],palette=\"coolwarm\",hue=\"loan_status\",order=sorted(df[(df['grade']=='G') | (df['grade']=='F')][\"sub_grade\"].unique()))\n",
    "# Here we see only the grades F and G"
   ]
  },
  {
   "cell_type": "code",
   "execution_count": 17,
   "metadata": {
    "execution": {
     "iopub.execute_input": "2020-12-24T00:10:04.833601Z",
     "iopub.status.busy": "2020-12-24T00:10:04.832419Z",
     "iopub.status.idle": "2020-12-24T00:10:04.849515Z",
     "shell.execute_reply": "2020-12-24T00:10:04.849013Z"
    },
    "papermill": {
     "duration": 0.119677,
     "end_time": "2020-12-24T00:10:04.849622",
     "exception": false,
     "start_time": "2020-12-24T00:10:04.729945",
     "status": "completed"
    },
    "tags": []
   },
   "outputs": [
    {
     "data": {
      "text/html": [
       "<div>\n",
       "<style scoped>\n",
       "    .dataframe tbody tr th:only-of-type {\n",
       "        vertical-align: middle;\n",
       "    }\n",
       "\n",
       "    .dataframe tbody tr th {\n",
       "        vertical-align: top;\n",
       "    }\n",
       "\n",
       "    .dataframe thead th {\n",
       "        text-align: right;\n",
       "    }\n",
       "</style>\n",
       "<table border=\"1\" class=\"dataframe\">\n",
       "  <thead>\n",
       "    <tr style=\"text-align: right;\">\n",
       "      <th></th>\n",
       "      <th>loan_repaid</th>\n",
       "      <th>loan_status</th>\n",
       "    </tr>\n",
       "  </thead>\n",
       "  <tbody>\n",
       "    <tr>\n",
       "      <th>0</th>\n",
       "      <td>1</td>\n",
       "      <td>Fully Paid</td>\n",
       "    </tr>\n",
       "    <tr>\n",
       "      <th>1</th>\n",
       "      <td>1</td>\n",
       "      <td>Fully Paid</td>\n",
       "    </tr>\n",
       "    <tr>\n",
       "      <th>2</th>\n",
       "      <td>1</td>\n",
       "      <td>Fully Paid</td>\n",
       "    </tr>\n",
       "    <tr>\n",
       "      <th>3</th>\n",
       "      <td>1</td>\n",
       "      <td>Fully Paid</td>\n",
       "    </tr>\n",
       "    <tr>\n",
       "      <th>4</th>\n",
       "      <td>0</td>\n",
       "      <td>Charged Off</td>\n",
       "    </tr>\n",
       "    <tr>\n",
       "      <th>...</th>\n",
       "      <td>...</td>\n",
       "      <td>...</td>\n",
       "    </tr>\n",
       "    <tr>\n",
       "      <th>396025</th>\n",
       "      <td>1</td>\n",
       "      <td>Fully Paid</td>\n",
       "    </tr>\n",
       "    <tr>\n",
       "      <th>396026</th>\n",
       "      <td>1</td>\n",
       "      <td>Fully Paid</td>\n",
       "    </tr>\n",
       "    <tr>\n",
       "      <th>396027</th>\n",
       "      <td>1</td>\n",
       "      <td>Fully Paid</td>\n",
       "    </tr>\n",
       "    <tr>\n",
       "      <th>396028</th>\n",
       "      <td>1</td>\n",
       "      <td>Fully Paid</td>\n",
       "    </tr>\n",
       "    <tr>\n",
       "      <th>396029</th>\n",
       "      <td>1</td>\n",
       "      <td>Fully Paid</td>\n",
       "    </tr>\n",
       "  </tbody>\n",
       "</table>\n",
       "<p>396030 rows × 2 columns</p>\n",
       "</div>"
      ],
      "text/plain": [
       "        loan_repaid  loan_status\n",
       "0                 1   Fully Paid\n",
       "1                 1   Fully Paid\n",
       "2                 1   Fully Paid\n",
       "3                 1   Fully Paid\n",
       "4                 0  Charged Off\n",
       "...             ...          ...\n",
       "396025            1   Fully Paid\n",
       "396026            1   Fully Paid\n",
       "396027            1   Fully Paid\n",
       "396028            1   Fully Paid\n",
       "396029            1   Fully Paid\n",
       "\n",
       "[396030 rows x 2 columns]"
      ]
     },
     "execution_count": 17,
     "metadata": {},
     "output_type": "execute_result"
    }
   ],
   "source": [
    "df[\"loan_repaid\"]=df[\"loan_status\"].map({\"Fully Paid\":1, \"Charged Off\":0})\n",
    "df[[\"loan_repaid\",\"loan_status\"]]\n",
    "# Here create a new column called 'loan_repaid' which will contain a 1 if the loan status was \"Fully Paid\" and a 0 if it was \"Charged Off\""
   ]
  },
  {
   "cell_type": "code",
   "execution_count": 18,
   "metadata": {
    "execution": {
     "iopub.execute_input": "2020-12-24T00:10:04.992605Z",
     "iopub.status.busy": "2020-12-24T00:10:04.991930Z",
     "iopub.status.idle": "2020-12-24T00:10:05.431717Z",
     "shell.execute_reply": "2020-12-24T00:10:05.431044Z"
    },
    "papermill": {
     "duration": 0.515001,
     "end_time": "2020-12-24T00:10:05.431843",
     "exception": false,
     "start_time": "2020-12-24T00:10:04.916842",
     "status": "completed"
    },
    "tags": []
   },
   "outputs": [
    {
     "data": {
      "text/plain": [
       "<matplotlib.axes._subplots.AxesSubplot at 0x7f6916dedf10>"
      ]
     },
     "execution_count": 18,
     "metadata": {},
     "output_type": "execute_result"
    },
    {
     "data": {
      "image/png": "[encoded data removed]",
      "text/plain": [
       "<Figure size 1080x720 with 1 Axes>"
      ]
     },
     "metadata": {},
     "output_type": "display_data"
    }
   ],
   "source": [
    "plt.figure(figsize=(15,10))\n",
    "df.corr()[\"loan_repaid\"][:-1].sort_values().plot(kind=\"bar\",color=\"red\")\n",
    "#Here we create a bar plot showing the correlation of the numeric features to the new loan_repaid column"
   ]
  },
  {
   "cell_type": "markdown",
   "metadata": {
    "papermill": {
     "duration": 0.068691,
     "end_time": "2020-12-24T00:10:05.569698",
     "exception": false,
     "start_time": "2020-12-24T00:10:05.501007",
     "status": "completed"
    },
    "tags": []
   },
   "source": [
    "# 3. Data Preprocesing:"
   ]
  },
  {
   "cell_type": "code",
   "execution_count": 19,
   "metadata": {
    "execution": {
     "iopub.execute_input": "2020-12-24T00:10:05.714731Z",
     "iopub.status.busy": "2020-12-24T00:10:05.714061Z",
     "iopub.status.idle": "2020-12-24T00:10:05.994299Z",
     "shell.execute_reply": "2020-12-24T00:10:05.993701Z"
    },
    "papermill": {
     "duration": 0.354851,
     "end_time": "2020-12-24T00:10:05.994425",
     "exception": false,
     "start_time": "2020-12-24T00:10:05.639574",
     "status": "completed"
    },
    "tags": []
   },
   "outputs": [
    {
     "data": {
      "text/plain": [
       "loan_amnt                   0\n",
       "term                        0\n",
       "int_rate                    0\n",
       "installment                 0\n",
       "grade                       0\n",
       "sub_grade                   0\n",
       "emp_title               22927\n",
       "emp_length              18301\n",
       "home_ownership              0\n",
       "annual_inc                  0\n",
       "verification_status         0\n",
       "issue_d                     0\n",
       "loan_status                 0\n",
       "purpose                     0\n",
       "title                    1755\n",
       "dti                         0\n",
       "earliest_cr_line            0\n",
       "open_acc                    0\n",
       "pub_rec                     0\n",
       "revol_bal                   0\n",
       "revol_util                276\n",
       "total_acc                   0\n",
       "initial_list_status         0\n",
       "application_type            0\n",
       "mort_acc                37795\n",
       "pub_rec_bankruptcies      535\n",
       "address                     0\n",
       "loan_repaid                 0\n",
       "dtype: int64"
      ]
     },
     "execution_count": 19,
     "metadata": {},
     "output_type": "execute_result"
    }
   ],
   "source": [
    "df.isnull().sum()\n",
    "#here we want to find out the columns with missing values\n",
    "#There 6 columns with missing values"
   ]
  },
  {
   "cell_type": "code",
   "execution_count": 20,
   "metadata": {
    "execution": {
     "iopub.execute_input": "2020-12-24T00:10:06.138806Z",
     "iopub.status.busy": "2020-12-24T00:10:06.137684Z",
     "iopub.status.idle": "2020-12-24T00:10:06.420196Z",
     "shell.execute_reply": "2020-12-24T00:10:06.419566Z"
    },
    "papermill": {
     "duration": 0.356557,
     "end_time": "2020-12-24T00:10:06.420305",
     "exception": false,
     "start_time": "2020-12-24T00:10:06.063748",
     "status": "completed"
    },
    "tags": []
   },
   "outputs": [
    {
     "data": {
      "text/plain": [
       "loan_amnt               0.000000\n",
       "term                    0.000000\n",
       "int_rate                0.000000\n",
       "installment             0.000000\n",
       "grade                   0.000000\n",
       "sub_grade               0.000000\n",
       "emp_title               5.789208\n",
       "emp_length              4.621115\n",
       "home_ownership          0.000000\n",
       "annual_inc              0.000000\n",
       "verification_status     0.000000\n",
       "issue_d                 0.000000\n",
       "loan_status             0.000000\n",
       "purpose                 0.000000\n",
       "title                   0.443148\n",
       "dti                     0.000000\n",
       "earliest_cr_line        0.000000\n",
       "open_acc                0.000000\n",
       "pub_rec                 0.000000\n",
       "revol_bal               0.000000\n",
       "revol_util              0.069692\n",
       "total_acc               0.000000\n",
       "initial_list_status     0.000000\n",
       "application_type        0.000000\n",
       "mort_acc                9.543469\n",
       "pub_rec_bankruptcies    0.135091\n",
       "address                 0.000000\n",
       "loan_repaid             0.000000\n",
       "dtype: float64"
      ]
     },
     "execution_count": 20,
     "metadata": {},
     "output_type": "execute_result"
    }
   ],
   "source": [
    "100*df.isnull().sum()/len(df)\n",
    "#Here we see the percentages of missing values per column"
   ]
  },
  {
   "cell_type": "markdown",
   "metadata": {
    "papermill": {
     "duration": 0.070041,
     "end_time": "2020-12-24T00:10:06.560984",
     "exception": false,
     "start_time": "2020-12-24T00:10:06.490943",
     "status": "completed"
    },
    "tags": []
   },
   "source": [
    "The data with highest misisng rate pertages are emp_title(represents job title of the borrower), emp_length(employment length in years), and mort_acc(Number of mortgage accounts)."
   ]
  },
  {
   "cell_type": "code",
   "execution_count": 21,
   "metadata": {
    "execution": {
     "iopub.execute_input": "2020-12-24T00:10:06.791721Z",
     "iopub.status.busy": "2020-12-24T00:10:06.789444Z",
     "iopub.status.idle": "2020-12-24T00:10:06.795865Z",
     "shell.execute_reply": "2020-12-24T00:10:06.795406Z"
    },
    "papermill": {
     "duration": 0.165169,
     "end_time": "2020-12-24T00:10:06.795974",
     "exception": false,
     "start_time": "2020-12-24T00:10:06.630805",
     "status": "completed"
    },
    "tags": []
   },
   "outputs": [
    {
     "data": {
      "text/plain": [
       "173105"
      ]
     },
     "execution_count": 21,
     "metadata": {},
     "output_type": "execute_result"
    }
   ],
   "source": [
    "df[\"emp_title\"].nunique()\n",
    "#we see that there are 173105 employment titles"
   ]
  },
  {
   "cell_type": "code",
   "execution_count": 22,
   "metadata": {
    "execution": {
     "iopub.execute_input": "2020-12-24T00:10:07.043767Z",
     "iopub.status.busy": "2020-12-24T00:10:07.043136Z",
     "iopub.status.idle": "2020-12-24T00:10:07.166810Z",
     "shell.execute_reply": "2020-12-24T00:10:07.166143Z"
    },
    "papermill": {
     "duration": 0.301174,
     "end_time": "2020-12-24T00:10:07.166932",
     "exception": false,
     "start_time": "2020-12-24T00:10:06.865758",
     "status": "completed"
    },
    "tags": []
   },
   "outputs": [
    {
     "data": {
      "text/plain": [
       "Teacher                            4389\n",
       "Manager                            4250\n",
       "Registered Nurse                   1856\n",
       "RN                                 1846\n",
       "Supervisor                         1830\n",
       "                                   ... \n",
       "pag west audi stevens creek           1\n",
       "california amforge corp               1\n",
       "Hancock County Sheriff's Office       1\n",
       "Scitor Corporation                    1\n",
       "VHV                                   1\n",
       "Name: emp_title, Length: 173105, dtype: int64"
      ]
     },
     "execution_count": 22,
     "metadata": {},
     "output_type": "execute_result"
    }
   ],
   "source": [
    "df[\"emp_title\"].value_counts()"
   ]
  },
  {
   "cell_type": "code",
   "execution_count": 23,
   "metadata": {
    "execution": {
     "iopub.execute_input": "2020-12-24T00:10:07.380521Z",
     "iopub.status.busy": "2020-12-24T00:10:07.377009Z",
     "iopub.status.idle": "2020-12-24T00:10:07.384618Z",
     "shell.execute_reply": "2020-12-24T00:10:07.385117Z"
    },
    "papermill": {
     "duration": 0.146596,
     "end_time": "2020-12-24T00:10:07.385250",
     "exception": false,
     "start_time": "2020-12-24T00:10:07.238654",
     "status": "completed"
    },
    "tags": []
   },
   "outputs": [
    {
     "data": {
      "text/plain": [
       "Index(['loan_amnt', 'term', 'int_rate', 'installment', 'grade', 'sub_grade',\n",
       "       'emp_length', 'home_ownership', 'annual_inc', 'verification_status',\n",
       "       'issue_d', 'loan_status', 'purpose', 'title', 'dti', 'earliest_cr_line',\n",
       "       'open_acc', 'pub_rec', 'revol_bal', 'revol_util', 'total_acc',\n",
       "       'initial_list_status', 'application_type', 'mort_acc',\n",
       "       'pub_rec_bankruptcies', 'address', 'loan_repaid'],\n",
       "      dtype='object')"
      ]
     },
     "execution_count": 23,
     "metadata": {},
     "output_type": "execute_result"
    }
   ],
   "source": [
    "df.drop(\"emp_title\",axis=1, inplace=True)\n",
    "df.columns\n",
    "# We will drop this column because there are too many unique job titles to try to convert this to a dummy variable feature"
   ]
  },
  {
   "cell_type": "code",
   "execution_count": 24,
   "metadata": {
    "execution": {
     "iopub.execute_input": "2020-12-24T00:10:07.541980Z",
     "iopub.status.busy": "2020-12-24T00:10:07.541103Z",
     "iopub.status.idle": "2020-12-24T00:10:07.546137Z",
     "shell.execute_reply": "2020-12-24T00:10:07.546836Z"
    },
    "papermill": {
     "duration": 0.091678,
     "end_time": "2020-12-24T00:10:07.547061",
     "exception": false,
     "start_time": "2020-12-24T00:10:07.455383",
     "status": "completed"
    },
    "tags": []
   },
   "outputs": [
    {
     "data": {
      "text/plain": [
       "0    10+ years\n",
       "1      4 years\n",
       "2     < 1 year\n",
       "3      6 years\n",
       "4      9 years\n",
       "Name: emp_length, dtype: object"
      ]
     },
     "execution_count": 24,
     "metadata": {},
     "output_type": "execute_result"
    }
   ],
   "source": [
    "df[\"emp_length\"].head()"
   ]
  },
  {
   "cell_type": "code",
   "execution_count": 25,
   "metadata": {
    "execution": {
     "iopub.execute_input": "2020-12-24T00:10:07.782469Z",
     "iopub.status.busy": "2020-12-24T00:10:07.754926Z",
     "iopub.status.idle": "2020-12-24T00:10:07.788544Z",
     "shell.execute_reply": "2020-12-24T00:10:07.787973Z"
    },
    "papermill": {
     "duration": 0.145203,
     "end_time": "2020-12-24T00:10:07.788667",
     "exception": false,
     "start_time": "2020-12-24T00:10:07.643464",
     "status": "completed"
    },
    "tags": []
   },
   "outputs": [
    {
     "data": {
      "text/plain": [
       "array(['10+ years', '4 years', '< 1 year', '6 years', '9 years',\n",
       "       '2 years', '3 years', '8 years', '7 years', '5 years', '1 year',\n",
       "       nan], dtype=object)"
      ]
     },
     "execution_count": 25,
     "metadata": {},
     "output_type": "execute_result"
    }
   ],
   "source": [
    "df[\"emp_length\"].unique()"
   ]
  },
  {
   "cell_type": "code",
   "execution_count": 26,
   "metadata": {
    "execution": {
     "iopub.execute_input": "2020-12-24T00:10:07.988757Z",
     "iopub.status.busy": "2020-12-24T00:10:07.987707Z",
     "iopub.status.idle": "2020-12-24T00:10:08.334503Z",
     "shell.execute_reply": "2020-12-24T00:10:08.334013Z"
    },
    "papermill": {
     "duration": 0.463383,
     "end_time": "2020-12-24T00:10:08.334621",
     "exception": false,
     "start_time": "2020-12-24T00:10:07.871238",
     "status": "completed"
    },
    "tags": []
   },
   "outputs": [
    {
     "data": {
      "text/plain": [
       "<matplotlib.axes._subplots.AxesSubplot at 0x7f6916fe6cd0>"
      ]
     },
     "execution_count": 26,
     "metadata": {},
     "output_type": "execute_result"
    },
    {
     "data": {
      "image/png": "[encoded data removed]",
      "text/plain": [
       "<Figure size 1080x720 with 1 Axes>"
      ]
     },
     "metadata": {},
     "output_type": "display_data"
    }
   ],
   "source": [
    "plt.figure(figsize=(15,10))\n",
    "sns.set_style(\"whitegrid\")\n",
    "sns.countplot(x=\"emp_length\",data=df)"
   ]
  },
  {
   "cell_type": "code",
   "execution_count": 27,
   "metadata": {
    "execution": {
     "iopub.execute_input": "2020-12-24T00:10:08.528017Z",
     "iopub.status.busy": "2020-12-24T00:10:08.493606Z",
     "iopub.status.idle": "2020-12-24T00:10:09.046161Z",
     "shell.execute_reply": "2020-12-24T00:10:09.045576Z"
    },
    "papermill": {
     "duration": 0.634358,
     "end_time": "2020-12-24T00:10:09.046280",
     "exception": false,
     "start_time": "2020-12-24T00:10:08.411922",
     "status": "completed"
    },
    "tags": []
   },
   "outputs": [
    {
     "data": {
      "text/plain": [
       "<matplotlib.axes._subplots.AxesSubplot at 0x7f6916a96910>"
      ]
     },
     "execution_count": 27,
     "metadata": {},
     "output_type": "execute_result"
    },
    {
     "data": {
      "image/png": "[encoded data removed]",
      "text/plain": [
       "<Figure size 1080x720 with 1 Axes>"
      ]
     },
     "metadata": {},
     "output_type": "display_data"
    }
   ],
   "source": [
    "plt.figure(figsize=(15,10))\n",
    "sns.countplot(x=\"emp_length\", data=df, hue=\"loan_status\",palette=\"magma\")\n",
    "#From the plot we can not a distinctive difference between employment length and loan status"
   ]
  },
  {
   "cell_type": "code",
   "execution_count": 28,
   "metadata": {
    "execution": {
     "iopub.execute_input": "2020-12-24T00:10:09.227548Z",
     "iopub.status.busy": "2020-12-24T00:10:09.226853Z",
     "iopub.status.idle": "2020-12-24T00:10:09.606288Z",
     "shell.execute_reply": "2020-12-24T00:10:09.605746Z"
    },
    "papermill": {
     "duration": 0.486423,
     "end_time": "2020-12-24T00:10:09.606428",
     "exception": false,
     "start_time": "2020-12-24T00:10:09.120005",
     "status": "completed"
    },
    "tags": []
   },
   "outputs": [
    {
     "data": {
      "text/plain": [
       "emp_length\n",
       "1 year        20728\n",
       "10+ years    102826\n",
       "2 years       28903\n",
       "3 years       25483\n",
       "4 years       19344\n",
       "5 years       21403\n",
       "6 years       16898\n",
       "7 years       16764\n",
       "8 years       15339\n",
       "9 years       12244\n",
       "< 1 year      25162\n",
       "Name: loan_status, dtype: int64"
      ]
     },
     "execution_count": 28,
     "metadata": {},
     "output_type": "execute_result"
    }
   ],
   "source": [
    "df[df[\"loan_status\"]==\"Fully Paid\"].groupby(\"emp_length\").count()[\"loan_status\"]\n",
    "#Here we get number of person who has the loan status fully paid according to employment length"
   ]
  },
  {
   "cell_type": "code",
   "execution_count": 29,
   "metadata": {
    "execution": {
     "iopub.execute_input": "2020-12-24T00:10:09.854346Z",
     "iopub.status.busy": "2020-12-24T00:10:09.834141Z",
     "iopub.status.idle": "2020-12-24T00:10:10.118234Z",
     "shell.execute_reply": "2020-12-24T00:10:10.117613Z"
    },
    "papermill": {
     "duration": 0.431679,
     "end_time": "2020-12-24T00:10:10.118342",
     "exception": false,
     "start_time": "2020-12-24T00:10:09.686663",
     "status": "completed"
    },
    "tags": []
   },
   "outputs": [
    {
     "data": {
      "text/plain": [
       "emp_length\n",
       "1 year        25882\n",
       "10+ years    126041\n",
       "2 years       35827\n",
       "3 years       31665\n",
       "4 years       23952\n",
       "5 years       26495\n",
       "6 years       20841\n",
       "7 years       20819\n",
       "8 years       19168\n",
       "9 years       15314\n",
       "< 1 year      31725\n",
       "Name: loan_status, dtype: int64"
      ]
     },
     "execution_count": 29,
     "metadata": {},
     "output_type": "execute_result"
    }
   ],
   "source": [
    "df.groupby(\"emp_length\").count()[\"loan_status\"]\n",
    "#Here we get number of person  according to employment length"
   ]
  },
  {
   "cell_type": "code",
   "execution_count": 30,
   "metadata": {
    "execution": {
     "iopub.execute_input": "2020-12-24T00:10:10.297982Z",
     "iopub.status.busy": "2020-12-24T00:10:10.297308Z",
     "iopub.status.idle": "2020-12-24T00:10:10.404466Z",
     "shell.execute_reply": "2020-12-24T00:10:10.403948Z"
    },
    "papermill": {
     "duration": 0.211505,
     "end_time": "2020-12-24T00:10:10.404584",
     "exception": false,
     "start_time": "2020-12-24T00:10:10.193079",
     "status": "completed"
    },
    "tags": []
   },
   "outputs": [
    {
     "data": {
      "text/plain": [
       "emp_length\n",
       "1 year        5154\n",
       "10+ years    23215\n",
       "2 years       6924\n",
       "3 years       6182\n",
       "4 years       4608\n",
       "5 years       5092\n",
       "6 years       3943\n",
       "7 years       4055\n",
       "8 years       3829\n",
       "9 years       3070\n",
       "< 1 year      6563\n",
       "Name: loan_status, dtype: int64"
      ]
     },
     "execution_count": 30,
     "metadata": {},
     "output_type": "execute_result"
    }
   ],
   "source": [
    "df[df[\"loan_status\"]==\"Charged Off\"].groupby(\"emp_length\").count()[\"loan_status\"]\n",
    "#Here we get number of person who has the loan status charged of according to employment length"
   ]
  },
  {
   "cell_type": "markdown",
   "metadata": {
    "papermill": {
     "duration": 0.076182,
     "end_time": "2020-12-24T00:10:10.557067",
     "exception": false,
     "start_time": "2020-12-24T00:10:10.480885",
     "status": "completed"
    },
    "tags": []
   },
   "source": [
    "We need percentage in order to evaluate imporance of this column"
   ]
  },
  {
   "cell_type": "code",
   "execution_count": 31,
   "metadata": {
    "execution": {
     "iopub.execute_input": "2020-12-24T00:10:10.738780Z",
     "iopub.status.busy": "2020-12-24T00:10:10.738114Z",
     "iopub.status.idle": "2020-12-24T00:10:11.182309Z",
     "shell.execute_reply": "2020-12-24T00:10:11.182864Z"
    },
    "papermill": {
     "duration": 0.550685,
     "end_time": "2020-12-24T00:10:11.183002",
     "exception": false,
     "start_time": "2020-12-24T00:10:10.632317",
     "status": "completed"
    },
    "tags": []
   },
   "outputs": [
    {
     "data": {
      "text/plain": [
       "emp_length\n",
       "1 year       0.199135\n",
       "10+ years    0.184186\n",
       "2 years      0.193262\n",
       "3 years      0.195231\n",
       "4 years      0.192385\n",
       "5 years      0.192187\n",
       "6 years      0.189194\n",
       "7 years      0.194774\n",
       "8 years      0.199760\n",
       "9 years      0.200470\n",
       "< 1 year     0.206872\n",
       "Name: loan_status, dtype: float64"
      ]
     },
     "execution_count": 31,
     "metadata": {},
     "output_type": "execute_result"
    }
   ],
   "source": [
    "(df[df[\"loan_status\"]==\"Charged Off\"].groupby(\"emp_length\").count()[\"loan_status\"])/(df.groupby(\"emp_length\").count()[\"loan_status\"])"
   ]
  },
  {
   "cell_type": "code",
   "execution_count": 32,
   "metadata": {
    "execution": {
     "iopub.execute_input": "2020-12-24T00:10:11.368534Z",
     "iopub.status.busy": "2020-12-24T00:10:11.367781Z",
     "iopub.status.idle": "2020-12-24T00:10:12.053339Z",
     "shell.execute_reply": "2020-12-24T00:10:12.052732Z"
    },
    "papermill": {
     "duration": 0.793082,
     "end_time": "2020-12-24T00:10:12.053470",
     "exception": false,
     "start_time": "2020-12-24T00:10:11.260388",
     "status": "completed"
    },
    "tags": []
   },
   "outputs": [
    {
     "data": {
      "text/plain": [
       "<matplotlib.axes._subplots.AxesSubplot at 0x7f6916b28090>"
      ]
     },
     "execution_count": 32,
     "metadata": {},
     "output_type": "execute_result"
    },
    {
     "data": {
      "image/png": "[encoded data removed]",
      "text/plain": [
       "<Figure size 1080x720 with 1 Axes>"
      ]
     },
     "metadata": {},
     "output_type": "display_data"
    }
   ],
   "source": [
    "plt.figure(figsize=(15,10))\n",
    "((df[df[\"loan_status\"]==\"Charged Off\"].groupby(\"emp_length\").count()[\"loan_status\"])/(df.groupby(\"emp_length\").count()[\"loan_status\"])).plot(kind=\"bar\",color=\"green\")\n",
    "# here we understand that the length of employment foes not make any difference, we can just drop this column"
   ]
  },
  {
   "cell_type": "code",
   "execution_count": 33,
   "metadata": {
    "execution": {
     "iopub.execute_input": "2020-12-24T00:10:12.250599Z",
     "iopub.status.busy": "2020-12-24T00:10:12.225828Z",
     "iopub.status.idle": "2020-12-24T00:10:12.514640Z",
     "shell.execute_reply": "2020-12-24T00:10:12.514110Z"
    },
    "papermill": {
     "duration": 0.384892,
     "end_time": "2020-12-24T00:10:12.514760",
     "exception": false,
     "start_time": "2020-12-24T00:10:12.129868",
     "status": "completed"
    },
    "tags": []
   },
   "outputs": [
    {
     "data": {
      "text/plain": [
       "loan_amnt                   0\n",
       "term                        0\n",
       "int_rate                    0\n",
       "installment                 0\n",
       "grade                       0\n",
       "sub_grade                   0\n",
       "home_ownership              0\n",
       "annual_inc                  0\n",
       "verification_status         0\n",
       "issue_d                     0\n",
       "loan_status                 0\n",
       "purpose                     0\n",
       "title                    1755\n",
       "dti                         0\n",
       "earliest_cr_line            0\n",
       "open_acc                    0\n",
       "pub_rec                     0\n",
       "revol_bal                   0\n",
       "revol_util                276\n",
       "total_acc                   0\n",
       "initial_list_status         0\n",
       "application_type            0\n",
       "mort_acc                37795\n",
       "pub_rec_bankruptcies      535\n",
       "address                     0\n",
       "loan_repaid                 0\n",
       "dtype: int64"
      ]
     },
     "execution_count": 33,
     "metadata": {},
     "output_type": "execute_result"
    }
   ],
   "source": [
    "df.drop(\"emp_length\",axis=1,inplace=True)\n",
    "df.isnull().sum()\n",
    "#Now we have just 4 columns with missing values"
   ]
  },
  {
   "cell_type": "code",
   "execution_count": 34,
   "metadata": {
    "execution": {
     "iopub.execute_input": "2020-12-24T00:10:12.716217Z",
     "iopub.status.busy": "2020-12-24T00:10:12.682378Z",
     "iopub.status.idle": "2020-12-24T00:10:12.721759Z",
     "shell.execute_reply": "2020-12-24T00:10:12.721213Z"
    },
    "papermill": {
     "duration": 0.130336,
     "end_time": "2020-12-24T00:10:12.721869",
     "exception": false,
     "start_time": "2020-12-24T00:10:12.591533",
     "status": "completed"
    },
    "tags": []
   },
   "outputs": [
    {
     "data": {
      "text/plain": [
       "48817"
      ]
     },
     "execution_count": 34,
     "metadata": {},
     "output_type": "execute_result"
    }
   ],
   "source": [
    "df[\"title\"].nunique()\n",
    "#There are 48817 separate titles"
   ]
  },
  {
   "cell_type": "code",
   "execution_count": 35,
   "metadata": {
    "execution": {
     "iopub.execute_input": "2020-12-24T00:10:12.887675Z",
     "iopub.status.busy": "2020-12-24T00:10:12.886636Z",
     "iopub.status.idle": "2020-12-24T00:10:12.890618Z",
     "shell.execute_reply": "2020-12-24T00:10:12.890121Z"
    },
    "papermill": {
     "duration": 0.089727,
     "end_time": "2020-12-24T00:10:12.890724",
     "exception": false,
     "start_time": "2020-12-24T00:10:12.800997",
     "status": "completed"
    },
    "tags": []
   },
   "outputs": [
    {
     "data": {
      "text/plain": [
       "0                    Vacation\n",
       "1          Debt consolidation\n",
       "2     Credit card refinancing\n",
       "3     Credit card refinancing\n",
       "4       Credit Card Refinance\n",
       "5          Debt consolidation\n",
       "6            Home improvement\n",
       "7        No More Credit Cards\n",
       "8          Debt consolidation\n",
       "9          Debt Consolidation\n",
       "10         Debt Consolidation\n",
       "11    Credit card refinancing\n",
       "12         Debt consolidation\n",
       "13         Debt consolidation\n",
       "14                   Business\n",
       "15             Major purchase\n",
       "16         Debt consolidation\n",
       "17         Debt consolidation\n",
       "18         Debt consolidation\n",
       "19         Debt consolidation\n",
       "Name: title, dtype: object"
      ]
     },
     "execution_count": 35,
     "metadata": {},
     "output_type": "execute_result"
    }
   ],
   "source": [
    "df[\"title\"].head(20)"
   ]
  },
  {
   "cell_type": "code",
   "execution_count": 36,
   "metadata": {
    "execution": {
     "iopub.execute_input": "2020-12-24T00:10:13.064848Z",
     "iopub.status.busy": "2020-12-24T00:10:13.056734Z",
     "iopub.status.idle": "2020-12-24T00:10:13.081903Z",
     "shell.execute_reply": "2020-12-24T00:10:13.081259Z"
    },
    "papermill": {
     "duration": 0.114118,
     "end_time": "2020-12-24T00:10:13.082011",
     "exception": false,
     "start_time": "2020-12-24T00:10:12.967893",
     "status": "completed"
    },
    "tags": []
   },
   "outputs": [
    {
     "data": {
      "text/plain": [
       "14"
      ]
     },
     "execution_count": 36,
     "metadata": {},
     "output_type": "execute_result"
    }
   ],
   "source": [
    "df[\"purpose\"].nunique()\n",
    "#There are 14 different unique data in purpose column"
   ]
  },
  {
   "cell_type": "code",
   "execution_count": 37,
   "metadata": {
    "execution": {
     "iopub.execute_input": "2020-12-24T00:10:13.260568Z",
     "iopub.status.busy": "2020-12-24T00:10:13.252587Z",
     "iopub.status.idle": "2020-12-24T00:10:13.278213Z",
     "shell.execute_reply": "2020-12-24T00:10:13.277644Z"
    },
    "papermill": {
     "duration": 0.117245,
     "end_time": "2020-12-24T00:10:13.278328",
     "exception": false,
     "start_time": "2020-12-24T00:10:13.161083",
     "status": "completed"
    },
    "tags": []
   },
   "outputs": [
    {
     "data": {
      "text/plain": [
       "array(['vacation', 'debt_consolidation', 'credit_card',\n",
       "       'home_improvement', 'small_business', 'major_purchase', 'other',\n",
       "       'medical', 'wedding', 'car', 'moving', 'house', 'educational',\n",
       "       'renewable_energy'], dtype=object)"
      ]
     },
     "execution_count": 37,
     "metadata": {},
     "output_type": "execute_result"
    }
   ],
   "source": [
    "df[\"purpose\"].unique()\n",
    "# Here we see that the title column is simply a string subcategory/description of the purpose column"
   ]
  },
  {
   "cell_type": "code",
   "execution_count": 38,
   "metadata": {
    "execution": {
     "iopub.execute_input": "2020-12-24T00:10:13.502022Z",
     "iopub.status.busy": "2020-12-24T00:10:13.480736Z",
     "iopub.status.idle": "2020-12-24T00:10:13.504971Z",
     "shell.execute_reply": "2020-12-24T00:10:13.504403Z"
    },
    "papermill": {
     "duration": 0.147107,
     "end_time": "2020-12-24T00:10:13.505074",
     "exception": false,
     "start_time": "2020-12-24T00:10:13.357967",
     "status": "completed"
    },
    "tags": []
   },
   "outputs": [],
   "source": [
    "df.drop(\"title\",axis=1,inplace=True)\n",
    "#Therefore we will just drop this column because another column includes already the same features"
   ]
  },
  {
   "cell_type": "code",
   "execution_count": 39,
   "metadata": {
    "execution": {
     "iopub.execute_input": "2020-12-24T00:10:13.671915Z",
     "iopub.status.busy": "2020-12-24T00:10:13.670847Z",
     "iopub.status.idle": "2020-12-24T00:10:13.866801Z",
     "shell.execute_reply": "2020-12-24T00:10:13.866136Z"
    },
    "papermill": {
     "duration": 0.281909,
     "end_time": "2020-12-24T00:10:13.866918",
     "exception": false,
     "start_time": "2020-12-24T00:10:13.585009",
     "status": "completed"
    },
    "tags": []
   },
   "outputs": [
    {
     "data": {
      "text/plain": [
       "int_rate               -0.082583\n",
       "dti                    -0.025439\n",
       "revol_util              0.007514\n",
       "pub_rec                 0.011552\n",
       "pub_rec_bankruptcies    0.027239\n",
       "loan_repaid             0.073111\n",
       "open_acc                0.109205\n",
       "installment             0.193694\n",
       "revol_bal               0.194925\n",
       "loan_amnt               0.222315\n",
       "annual_inc              0.236320\n",
       "total_acc               0.381072\n",
       "mort_acc                1.000000\n",
       "Name: mort_acc, dtype: float64"
      ]
     },
     "execution_count": 39,
     "metadata": {},
     "output_type": "execute_result"
    }
   ],
   "source": [
    "df.corr()[\"mort_acc\"].sort_values()\n",
    "# we see thta the total_account feature correlates with the mort_acc"
   ]
  },
  {
   "cell_type": "code",
   "execution_count": 40,
   "metadata": {
    "execution": {
     "iopub.execute_input": "2020-12-24T00:10:14.090611Z",
     "iopub.status.busy": "2020-12-24T00:10:14.088428Z",
     "iopub.status.idle": "2020-12-24T00:10:14.137597Z",
     "shell.execute_reply": "2020-12-24T00:10:14.136960Z"
    },
    "papermill": {
     "duration": 0.191062,
     "end_time": "2020-12-24T00:10:14.137711",
     "exception": false,
     "start_time": "2020-12-24T00:10:13.946649",
     "status": "completed"
    },
    "tags": []
   },
   "outputs": [
    {
     "data": {
      "text/plain": [
       "total_acc\n",
       "2.0      0.000000\n",
       "3.0      0.052023\n",
       "4.0      0.066743\n",
       "5.0      0.103289\n",
       "6.0      0.151293\n",
       "           ...   \n",
       "124.0    1.000000\n",
       "129.0    1.000000\n",
       "135.0    3.000000\n",
       "150.0    2.000000\n",
       "151.0    0.000000\n",
       "Name: mort_acc, Length: 118, dtype: float64"
      ]
     },
     "execution_count": 40,
     "metadata": {},
     "output_type": "execute_result"
    }
   ],
   "source": [
    "total_acc_average=df.groupby(\"total_acc\").mean()[\"mort_acc\"]\n",
    "total_acc_average\n",
    "#Here wegroup the dataframe by the total_acc and calculate the mean value for the mort_acc per total_acc entry"
   ]
  },
  {
   "cell_type": "code",
   "execution_count": 41,
   "metadata": {
    "execution": {
     "iopub.execute_input": "2020-12-24T00:10:14.304208Z",
     "iopub.status.busy": "2020-12-24T00:10:14.303168Z",
     "iopub.status.idle": "2020-12-24T00:10:14.306805Z",
     "shell.execute_reply": "2020-12-24T00:10:14.306211Z"
    },
    "papermill": {
     "duration": 0.089758,
     "end_time": "2020-12-24T00:10:14.306915",
     "exception": false,
     "start_time": "2020-12-24T00:10:14.217157",
     "status": "completed"
    },
    "tags": []
   },
   "outputs": [],
   "source": [
    "#here we create a function in order to fill mort_account column with the mean of the corressponding total account column\n",
    "def fill_mort_acc(total_acc,mort_acc):\n",
    "    if np.isnan(mort_acc):\n",
    "        return total_acc_average[total_acc]\n",
    "    else:\n",
    "        return mort_acc"
   ]
  },
  {
   "cell_type": "code",
   "execution_count": 42,
   "metadata": {
    "execution": {
     "iopub.execute_input": "2020-12-24T00:10:14.474303Z",
     "iopub.status.busy": "2020-12-24T00:10:14.473702Z",
     "iopub.status.idle": "2020-12-24T00:10:21.151853Z",
     "shell.execute_reply": "2020-12-24T00:10:21.152424Z"
    },
    "papermill": {
     "duration": 6.76309,
     "end_time": "2020-12-24T00:10:21.152585",
     "exception": false,
     "start_time": "2020-12-24T00:10:14.389495",
     "status": "completed"
    },
    "tags": []
   },
   "outputs": [],
   "source": [
    "df[\"mort_acc\"]=df.apply(lambda x: fill_mort_acc(x[\"total_acc\"],x[\"mort_acc\"]),axis=1)"
   ]
  },
  {
   "cell_type": "code",
   "execution_count": 43,
   "metadata": {
    "execution": {
     "iopub.execute_input": "2020-12-24T00:10:21.316789Z",
     "iopub.status.busy": "2020-12-24T00:10:21.316138Z",
     "iopub.status.idle": "2020-12-24T00:10:21.539161Z",
     "shell.execute_reply": "2020-12-24T00:10:21.538643Z"
    },
    "papermill": {
     "duration": 0.306209,
     "end_time": "2020-12-24T00:10:21.539280",
     "exception": false,
     "start_time": "2020-12-24T00:10:21.233071",
     "status": "completed"
    },
    "tags": []
   },
   "outputs": [
    {
     "data": {
      "text/plain": [
       "loan_amnt                 0\n",
       "term                      0\n",
       "int_rate                  0\n",
       "installment               0\n",
       "grade                     0\n",
       "sub_grade                 0\n",
       "home_ownership            0\n",
       "annual_inc                0\n",
       "verification_status       0\n",
       "issue_d                   0\n",
       "loan_status               0\n",
       "purpose                   0\n",
       "dti                       0\n",
       "earliest_cr_line          0\n",
       "open_acc                  0\n",
       "pub_rec                   0\n",
       "revol_bal                 0\n",
       "revol_util              276\n",
       "total_acc                 0\n",
       "initial_list_status       0\n",
       "application_type          0\n",
       "mort_acc                  0\n",
       "pub_rec_bankruptcies    535\n",
       "address                   0\n",
       "loan_repaid               0\n",
       "dtype: int64"
      ]
     },
     "execution_count": 43,
     "metadata": {},
     "output_type": "execute_result"
    }
   ],
   "source": [
    "df.isnull().sum()\n",
    "#No we have revol_util and the pub_rec_bankruptcies have missing data points, with 0.5% of the total data."
   ]
  },
  {
   "cell_type": "code",
   "execution_count": 44,
   "metadata": {
    "execution": {
     "iopub.execute_input": "2020-12-24T00:10:21.706239Z",
     "iopub.status.busy": "2020-12-24T00:10:21.705554Z",
     "iopub.status.idle": "2020-12-24T00:10:21.999797Z",
     "shell.execute_reply": "2020-12-24T00:10:21.999231Z"
    },
    "papermill": {
     "duration": 0.379044,
     "end_time": "2020-12-24T00:10:21.999923",
     "exception": false,
     "start_time": "2020-12-24T00:10:21.620879",
     "status": "completed"
    },
    "tags": []
   },
   "outputs": [],
   "source": [
    "df.dropna(inplace=True)\n",
    "#Therefore we drop all the rows with missing values"
   ]
  },
  {
   "cell_type": "code",
   "execution_count": 45,
   "metadata": {
    "execution": {
     "iopub.execute_input": "2020-12-24T00:10:22.165663Z",
     "iopub.status.busy": "2020-12-24T00:10:22.164998Z",
     "iopub.status.idle": "2020-12-24T00:10:22.394523Z",
     "shell.execute_reply": "2020-12-24T00:10:22.394977Z"
    },
    "papermill": {
     "duration": 0.31466,
     "end_time": "2020-12-24T00:10:22.395108",
     "exception": false,
     "start_time": "2020-12-24T00:10:22.080448",
     "status": "completed"
    },
    "tags": []
   },
   "outputs": [
    {
     "data": {
      "text/plain": [
       "loan_amnt               0\n",
       "term                    0\n",
       "int_rate                0\n",
       "installment             0\n",
       "grade                   0\n",
       "sub_grade               0\n",
       "home_ownership          0\n",
       "annual_inc              0\n",
       "verification_status     0\n",
       "issue_d                 0\n",
       "loan_status             0\n",
       "purpose                 0\n",
       "dti                     0\n",
       "earliest_cr_line        0\n",
       "open_acc                0\n",
       "pub_rec                 0\n",
       "revol_bal               0\n",
       "revol_util              0\n",
       "total_acc               0\n",
       "initial_list_status     0\n",
       "application_type        0\n",
       "mort_acc                0\n",
       "pub_rec_bankruptcies    0\n",
       "address                 0\n",
       "loan_repaid             0\n",
       "dtype: int64"
      ]
     },
     "execution_count": 45,
     "metadata": {},
     "output_type": "execute_result"
    }
   ],
   "source": [
    "df.isnull().sum()\n",
    "# Now we have not missing values in any column"
   ]
  },
  {
   "cell_type": "markdown",
   "metadata": {
    "papermill": {
     "duration": 0.081821,
     "end_time": "2020-12-24T00:10:22.558143",
     "exception": false,
     "start_time": "2020-12-24T00:10:22.476322",
     "status": "completed"
    },
    "tags": []
   },
   "source": [
    "# 4.Dealing with Categorical Variables and Transforming them for the Algorithm:"
   ]
  },
  {
   "cell_type": "code",
   "execution_count": 46,
   "metadata": {
    "execution": {
     "iopub.execute_input": "2020-12-24T00:10:22.780369Z",
     "iopub.status.busy": "2020-12-24T00:10:22.779404Z",
     "iopub.status.idle": "2020-12-24T00:10:22.783966Z",
     "shell.execute_reply": "2020-12-24T00:10:22.783419Z"
    },
    "papermill": {
     "duration": 0.145287,
     "end_time": "2020-12-24T00:10:22.784086",
     "exception": false,
     "start_time": "2020-12-24T00:10:22.638799",
     "status": "completed"
    },
    "tags": []
   },
   "outputs": [
    {
     "data": {
      "text/plain": [
       "Index(['term', 'grade', 'sub_grade', 'home_ownership', 'verification_status',\n",
       "       'issue_d', 'loan_status', 'purpose', 'earliest_cr_line',\n",
       "       'initial_list_status', 'application_type', 'address'],\n",
       "      dtype='object')"
      ]
     },
     "execution_count": 46,
     "metadata": {},
     "output_type": "execute_result"
    }
   ],
   "source": [
    "df.select_dtypes(\"object\").columns\n",
    "#These are the columns with non numerical data"
   ]
  },
  {
   "cell_type": "code",
   "execution_count": 47,
   "metadata": {
    "execution": {
     "iopub.execute_input": "2020-12-24T00:10:22.992948Z",
     "iopub.status.busy": "2020-12-24T00:10:22.990527Z",
     "iopub.status.idle": "2020-12-24T00:10:22.997341Z",
     "shell.execute_reply": "2020-12-24T00:10:22.996777Z"
    },
    "papermill": {
     "duration": 0.131565,
     "end_time": "2020-12-24T00:10:22.997466",
     "exception": false,
     "start_time": "2020-12-24T00:10:22.865901",
     "status": "completed"
    },
    "tags": []
   },
   "outputs": [
    {
     "data": {
      "text/plain": [
       " 36 months    301247\n",
       " 60 months     93972\n",
       "Name: term, dtype: int64"
      ]
     },
     "execution_count": 47,
     "metadata": {},
     "output_type": "execute_result"
    }
   ],
   "source": [
    "df[\"term\"].value_counts()"
   ]
  },
  {
   "cell_type": "code",
   "execution_count": 48,
   "metadata": {
    "execution": {
     "iopub.execute_input": "2020-12-24T00:10:23.211920Z",
     "iopub.status.busy": "2020-12-24T00:10:23.210981Z",
     "iopub.status.idle": "2020-12-24T00:10:23.488340Z",
     "shell.execute_reply": "2020-12-24T00:10:23.487775Z"
    },
    "papermill": {
     "duration": 0.363235,
     "end_time": "2020-12-24T00:10:23.488479",
     "exception": false,
     "start_time": "2020-12-24T00:10:23.125244",
     "status": "completed"
    },
    "tags": []
   },
   "outputs": [],
   "source": [
    "df[\"term\"]=df[\"term\"].apply(lambda term:int(term[:3]))\n",
    "#Here we get the numerical data from the string form of the column term"
   ]
  },
  {
   "cell_type": "code",
   "execution_count": 49,
   "metadata": {
    "execution": {
     "iopub.execute_input": "2020-12-24T00:10:23.656044Z",
     "iopub.status.busy": "2020-12-24T00:10:23.655350Z",
     "iopub.status.idle": "2020-12-24T00:10:23.664093Z",
     "shell.execute_reply": "2020-12-24T00:10:23.663552Z"
    },
    "papermill": {
     "duration": 0.09442,
     "end_time": "2020-12-24T00:10:23.664287",
     "exception": false,
     "start_time": "2020-12-24T00:10:23.569867",
     "status": "completed"
    },
    "tags": []
   },
   "outputs": [
    {
     "data": {
      "text/plain": [
       "36    301247\n",
       "60     93972\n",
       "Name: term, dtype: int64"
      ]
     },
     "execution_count": 49,
     "metadata": {},
     "output_type": "execute_result"
    }
   ],
   "source": [
    "df[\"term\"].value_counts()\n",
    "#Now this column is also  numerical"
   ]
  },
  {
   "cell_type": "code",
   "execution_count": 50,
   "metadata": {
    "execution": {
     "iopub.execute_input": "2020-12-24T00:10:23.836088Z",
     "iopub.status.busy": "2020-12-24T00:10:23.835413Z",
     "iopub.status.idle": "2020-12-24T00:10:23.896036Z",
     "shell.execute_reply": "2020-12-24T00:10:23.895409Z"
    },
    "papermill": {
     "duration": 0.149065,
     "end_time": "2020-12-24T00:10:23.896161",
     "exception": false,
     "start_time": "2020-12-24T00:10:23.747096",
     "status": "completed"
    },
    "tags": []
   },
   "outputs": [],
   "source": [
    "df.drop(\"grade\",axis=1, inplace=True)\n",
    "#This column is already represented in sub_grade columns, so we can just drop it"
   ]
  },
  {
   "cell_type": "code",
   "execution_count": 51,
   "metadata": {
    "execution": {
     "iopub.execute_input": "2020-12-24T00:10:24.072394Z",
     "iopub.status.busy": "2020-12-24T00:10:24.071713Z",
     "iopub.status.idle": "2020-12-24T00:10:24.145821Z",
     "shell.execute_reply": "2020-12-24T00:10:24.145270Z"
    },
    "papermill": {
     "duration": 0.167792,
     "end_time": "2020-12-24T00:10:24.145933",
     "exception": false,
     "start_time": "2020-12-24T00:10:23.978141",
     "status": "completed"
    },
    "tags": []
   },
   "outputs": [
    {
     "data": {
      "text/html": [
       "<div>\n",
       "<style scoped>\n",
       "    .dataframe tbody tr th:only-of-type {\n",
       "        vertical-align: middle;\n",
       "    }\n",
       "\n",
       "    .dataframe tbody tr th {\n",
       "        vertical-align: top;\n",
       "    }\n",
       "\n",
       "    .dataframe thead th {\n",
       "        text-align: right;\n",
       "    }\n",
       "</style>\n",
       "<table border=\"1\" class=\"dataframe\">\n",
       "  <thead>\n",
       "    <tr style=\"text-align: right;\">\n",
       "      <th></th>\n",
       "      <th>A2</th>\n",
       "      <th>A3</th>\n",
       "      <th>A4</th>\n",
       "      <th>A5</th>\n",
       "      <th>B1</th>\n",
       "      <th>B2</th>\n",
       "      <th>B3</th>\n",
       "      <th>B4</th>\n",
       "      <th>B5</th>\n",
       "      <th>C1</th>\n",
       "      <th>...</th>\n",
       "      <th>F1</th>\n",
       "      <th>F2</th>\n",
       "      <th>F3</th>\n",
       "      <th>F4</th>\n",
       "      <th>F5</th>\n",
       "      <th>G1</th>\n",
       "      <th>G2</th>\n",
       "      <th>G3</th>\n",
       "      <th>G4</th>\n",
       "      <th>G5</th>\n",
       "    </tr>\n",
       "  </thead>\n",
       "  <tbody>\n",
       "    <tr>\n",
       "      <th>0</th>\n",
       "      <td>0</td>\n",
       "      <td>0</td>\n",
       "      <td>0</td>\n",
       "      <td>0</td>\n",
       "      <td>0</td>\n",
       "      <td>0</td>\n",
       "      <td>0</td>\n",
       "      <td>1</td>\n",
       "      <td>0</td>\n",
       "      <td>0</td>\n",
       "      <td>...</td>\n",
       "      <td>0</td>\n",
       "      <td>0</td>\n",
       "      <td>0</td>\n",
       "      <td>0</td>\n",
       "      <td>0</td>\n",
       "      <td>0</td>\n",
       "      <td>0</td>\n",
       "      <td>0</td>\n",
       "      <td>0</td>\n",
       "      <td>0</td>\n",
       "    </tr>\n",
       "    <tr>\n",
       "      <th>1</th>\n",
       "      <td>0</td>\n",
       "      <td>0</td>\n",
       "      <td>0</td>\n",
       "      <td>0</td>\n",
       "      <td>0</td>\n",
       "      <td>0</td>\n",
       "      <td>0</td>\n",
       "      <td>0</td>\n",
       "      <td>1</td>\n",
       "      <td>0</td>\n",
       "      <td>...</td>\n",
       "      <td>0</td>\n",
       "      <td>0</td>\n",
       "      <td>0</td>\n",
       "      <td>0</td>\n",
       "      <td>0</td>\n",
       "      <td>0</td>\n",
       "      <td>0</td>\n",
       "      <td>0</td>\n",
       "      <td>0</td>\n",
       "      <td>0</td>\n",
       "    </tr>\n",
       "    <tr>\n",
       "      <th>2</th>\n",
       "      <td>0</td>\n",
       "      <td>0</td>\n",
       "      <td>0</td>\n",
       "      <td>0</td>\n",
       "      <td>0</td>\n",
       "      <td>0</td>\n",
       "      <td>1</td>\n",
       "      <td>0</td>\n",
       "      <td>0</td>\n",
       "      <td>0</td>\n",
       "      <td>...</td>\n",
       "      <td>0</td>\n",
       "      <td>0</td>\n",
       "      <td>0</td>\n",
       "      <td>0</td>\n",
       "      <td>0</td>\n",
       "      <td>0</td>\n",
       "      <td>0</td>\n",
       "      <td>0</td>\n",
       "      <td>0</td>\n",
       "      <td>0</td>\n",
       "    </tr>\n",
       "    <tr>\n",
       "      <th>3</th>\n",
       "      <td>1</td>\n",
       "      <td>0</td>\n",
       "      <td>0</td>\n",
       "      <td>0</td>\n",
       "      <td>0</td>\n",
       "      <td>0</td>\n",
       "      <td>0</td>\n",
       "      <td>0</td>\n",
       "      <td>0</td>\n",
       "      <td>0</td>\n",
       "      <td>...</td>\n",
       "      <td>0</td>\n",
       "      <td>0</td>\n",
       "      <td>0</td>\n",
       "      <td>0</td>\n",
       "      <td>0</td>\n",
       "      <td>0</td>\n",
       "      <td>0</td>\n",
       "      <td>0</td>\n",
       "      <td>0</td>\n",
       "      <td>0</td>\n",
       "    </tr>\n",
       "    <tr>\n",
       "      <th>4</th>\n",
       "      <td>0</td>\n",
       "      <td>0</td>\n",
       "      <td>0</td>\n",
       "      <td>0</td>\n",
       "      <td>0</td>\n",
       "      <td>0</td>\n",
       "      <td>0</td>\n",
       "      <td>0</td>\n",
       "      <td>0</td>\n",
       "      <td>0</td>\n",
       "      <td>...</td>\n",
       "      <td>0</td>\n",
       "      <td>0</td>\n",
       "      <td>0</td>\n",
       "      <td>0</td>\n",
       "      <td>0</td>\n",
       "      <td>0</td>\n",
       "      <td>0</td>\n",
       "      <td>0</td>\n",
       "      <td>0</td>\n",
       "      <td>0</td>\n",
       "    </tr>\n",
       "    <tr>\n",
       "      <th>...</th>\n",
       "      <td>...</td>\n",
       "      <td>...</td>\n",
       "      <td>...</td>\n",
       "      <td>...</td>\n",
       "      <td>...</td>\n",
       "      <td>...</td>\n",
       "      <td>...</td>\n",
       "      <td>...</td>\n",
       "      <td>...</td>\n",
       "      <td>...</td>\n",
       "      <td>...</td>\n",
       "      <td>...</td>\n",
       "      <td>...</td>\n",
       "      <td>...</td>\n",
       "      <td>...</td>\n",
       "      <td>...</td>\n",
       "      <td>...</td>\n",
       "      <td>...</td>\n",
       "      <td>...</td>\n",
       "      <td>...</td>\n",
       "      <td>...</td>\n",
       "    </tr>\n",
       "    <tr>\n",
       "      <th>396025</th>\n",
       "      <td>0</td>\n",
       "      <td>0</td>\n",
       "      <td>0</td>\n",
       "      <td>0</td>\n",
       "      <td>0</td>\n",
       "      <td>0</td>\n",
       "      <td>0</td>\n",
       "      <td>1</td>\n",
       "      <td>0</td>\n",
       "      <td>0</td>\n",
       "      <td>...</td>\n",
       "      <td>0</td>\n",
       "      <td>0</td>\n",
       "      <td>0</td>\n",
       "      <td>0</td>\n",
       "      <td>0</td>\n",
       "      <td>0</td>\n",
       "      <td>0</td>\n",
       "      <td>0</td>\n",
       "      <td>0</td>\n",
       "      <td>0</td>\n",
       "    </tr>\n",
       "    <tr>\n",
       "      <th>396026</th>\n",
       "      <td>0</td>\n",
       "      <td>0</td>\n",
       "      <td>0</td>\n",
       "      <td>0</td>\n",
       "      <td>0</td>\n",
       "      <td>0</td>\n",
       "      <td>0</td>\n",
       "      <td>0</td>\n",
       "      <td>0</td>\n",
       "      <td>1</td>\n",
       "      <td>...</td>\n",
       "      <td>0</td>\n",
       "      <td>0</td>\n",
       "      <td>0</td>\n",
       "      <td>0</td>\n",
       "      <td>0</td>\n",
       "      <td>0</td>\n",
       "      <td>0</td>\n",
       "      <td>0</td>\n",
       "      <td>0</td>\n",
       "      <td>0</td>\n",
       "    </tr>\n",
       "    <tr>\n",
       "      <th>396027</th>\n",
       "      <td>0</td>\n",
       "      <td>0</td>\n",
       "      <td>0</td>\n",
       "      <td>0</td>\n",
       "      <td>1</td>\n",
       "      <td>0</td>\n",
       "      <td>0</td>\n",
       "      <td>0</td>\n",
       "      <td>0</td>\n",
       "      <td>0</td>\n",
       "      <td>...</td>\n",
       "      <td>0</td>\n",
       "      <td>0</td>\n",
       "      <td>0</td>\n",
       "      <td>0</td>\n",
       "      <td>0</td>\n",
       "      <td>0</td>\n",
       "      <td>0</td>\n",
       "      <td>0</td>\n",
       "      <td>0</td>\n",
       "      <td>0</td>\n",
       "    </tr>\n",
       "    <tr>\n",
       "      <th>396028</th>\n",
       "      <td>0</td>\n",
       "      <td>0</td>\n",
       "      <td>0</td>\n",
       "      <td>0</td>\n",
       "      <td>0</td>\n",
       "      <td>0</td>\n",
       "      <td>0</td>\n",
       "      <td>0</td>\n",
       "      <td>0</td>\n",
       "      <td>0</td>\n",
       "      <td>...</td>\n",
       "      <td>0</td>\n",
       "      <td>0</td>\n",
       "      <td>0</td>\n",
       "      <td>0</td>\n",
       "      <td>0</td>\n",
       "      <td>0</td>\n",
       "      <td>0</td>\n",
       "      <td>0</td>\n",
       "      <td>0</td>\n",
       "      <td>0</td>\n",
       "    </tr>\n",
       "    <tr>\n",
       "      <th>396029</th>\n",
       "      <td>0</td>\n",
       "      <td>0</td>\n",
       "      <td>0</td>\n",
       "      <td>0</td>\n",
       "      <td>0</td>\n",
       "      <td>0</td>\n",
       "      <td>0</td>\n",
       "      <td>0</td>\n",
       "      <td>0</td>\n",
       "      <td>0</td>\n",
       "      <td>...</td>\n",
       "      <td>0</td>\n",
       "      <td>0</td>\n",
       "      <td>0</td>\n",
       "      <td>0</td>\n",
       "      <td>0</td>\n",
       "      <td>0</td>\n",
       "      <td>0</td>\n",
       "      <td>0</td>\n",
       "      <td>0</td>\n",
       "      <td>0</td>\n",
       "    </tr>\n",
       "  </tbody>\n",
       "</table>\n",
       "<p>395219 rows × 34 columns</p>\n",
       "</div>"
      ],
      "text/plain": [
       "        A2  A3  A4  A5  B1  B2  B3  B4  B5  C1  ...  F1  F2  F3  F4  F5  G1  \\\n",
       "0        0   0   0   0   0   0   0   1   0   0  ...   0   0   0   0   0   0   \n",
       "1        0   0   0   0   0   0   0   0   1   0  ...   0   0   0   0   0   0   \n",
       "2        0   0   0   0   0   0   1   0   0   0  ...   0   0   0   0   0   0   \n",
       "3        1   0   0   0   0   0   0   0   0   0  ...   0   0   0   0   0   0   \n",
       "4        0   0   0   0   0   0   0   0   0   0  ...   0   0   0   0   0   0   \n",
       "...     ..  ..  ..  ..  ..  ..  ..  ..  ..  ..  ...  ..  ..  ..  ..  ..  ..   \n",
       "396025   0   0   0   0   0   0   0   1   0   0  ...   0   0   0   0   0   0   \n",
       "396026   0   0   0   0   0   0   0   0   0   1  ...   0   0   0   0   0   0   \n",
       "396027   0   0   0   0   1   0   0   0   0   0  ...   0   0   0   0   0   0   \n",
       "396028   0   0   0   0   0   0   0   0   0   0  ...   0   0   0   0   0   0   \n",
       "396029   0   0   0   0   0   0   0   0   0   0  ...   0   0   0   0   0   0   \n",
       "\n",
       "        G2  G3  G4  G5  \n",
       "0        0   0   0   0  \n",
       "1        0   0   0   0  \n",
       "2        0   0   0   0  \n",
       "3        0   0   0   0  \n",
       "4        0   0   0   0  \n",
       "...     ..  ..  ..  ..  \n",
       "396025   0   0   0   0  \n",
       "396026   0   0   0   0  \n",
       "396027   0   0   0   0  \n",
       "396028   0   0   0   0  \n",
       "396029   0   0   0   0  \n",
       "\n",
       "[395219 rows x 34 columns]"
      ]
     },
     "execution_count": 51,
     "metadata": {},
     "output_type": "execute_result"
    }
   ],
   "source": [
    "dummies=pd.get_dummies(df[\"sub_grade\"], drop_first=True)\n",
    "dummies"
   ]
  },
  {
   "cell_type": "code",
   "execution_count": 52,
   "metadata": {
    "execution": {
     "iopub.execute_input": "2020-12-24T00:10:24.364533Z",
     "iopub.status.busy": "2020-12-24T00:10:24.332222Z",
     "iopub.status.idle": "2020-12-24T00:10:24.499810Z",
     "shell.execute_reply": "2020-12-24T00:10:24.500286Z"
    },
    "papermill": {
     "duration": 0.272319,
     "end_time": "2020-12-24T00:10:24.500437",
     "exception": false,
     "start_time": "2020-12-24T00:10:24.228118",
     "status": "completed"
    },
    "tags": []
   },
   "outputs": [
    {
     "data": {
      "text/html": [
       "<div>\n",
       "<style scoped>\n",
       "    .dataframe tbody tr th:only-of-type {\n",
       "        vertical-align: middle;\n",
       "    }\n",
       "\n",
       "    .dataframe tbody tr th {\n",
       "        vertical-align: top;\n",
       "    }\n",
       "\n",
       "    .dataframe thead th {\n",
       "        text-align: right;\n",
       "    }\n",
       "</style>\n",
       "<table border=\"1\" class=\"dataframe\">\n",
       "  <thead>\n",
       "    <tr style=\"text-align: right;\">\n",
       "      <th></th>\n",
       "      <th>loan_amnt</th>\n",
       "      <th>term</th>\n",
       "      <th>int_rate</th>\n",
       "      <th>installment</th>\n",
       "      <th>home_ownership</th>\n",
       "      <th>annual_inc</th>\n",
       "      <th>verification_status</th>\n",
       "      <th>issue_d</th>\n",
       "      <th>loan_status</th>\n",
       "      <th>purpose</th>\n",
       "      <th>...</th>\n",
       "      <th>F1</th>\n",
       "      <th>F2</th>\n",
       "      <th>F3</th>\n",
       "      <th>F4</th>\n",
       "      <th>F5</th>\n",
       "      <th>G1</th>\n",
       "      <th>G2</th>\n",
       "      <th>G3</th>\n",
       "      <th>G4</th>\n",
       "      <th>G5</th>\n",
       "    </tr>\n",
       "  </thead>\n",
       "  <tbody>\n",
       "    <tr>\n",
       "      <th>0</th>\n",
       "      <td>10000.0</td>\n",
       "      <td>36</td>\n",
       "      <td>11.44</td>\n",
       "      <td>329.48</td>\n",
       "      <td>RENT</td>\n",
       "      <td>117000.0</td>\n",
       "      <td>Not Verified</td>\n",
       "      <td>Jan-2015</td>\n",
       "      <td>Fully Paid</td>\n",
       "      <td>vacation</td>\n",
       "      <td>...</td>\n",
       "      <td>0</td>\n",
       "      <td>0</td>\n",
       "      <td>0</td>\n",
       "      <td>0</td>\n",
       "      <td>0</td>\n",
       "      <td>0</td>\n",
       "      <td>0</td>\n",
       "      <td>0</td>\n",
       "      <td>0</td>\n",
       "      <td>0</td>\n",
       "    </tr>\n",
       "    <tr>\n",
       "      <th>1</th>\n",
       "      <td>8000.0</td>\n",
       "      <td>36</td>\n",
       "      <td>11.99</td>\n",
       "      <td>265.68</td>\n",
       "      <td>MORTGAGE</td>\n",
       "      <td>65000.0</td>\n",
       "      <td>Not Verified</td>\n",
       "      <td>Jan-2015</td>\n",
       "      <td>Fully Paid</td>\n",
       "      <td>debt_consolidation</td>\n",
       "      <td>...</td>\n",
       "      <td>0</td>\n",
       "      <td>0</td>\n",
       "      <td>0</td>\n",
       "      <td>0</td>\n",
       "      <td>0</td>\n",
       "      <td>0</td>\n",
       "      <td>0</td>\n",
       "      <td>0</td>\n",
       "      <td>0</td>\n",
       "      <td>0</td>\n",
       "    </tr>\n",
       "    <tr>\n",
       "      <th>2</th>\n",
       "      <td>15600.0</td>\n",
       "      <td>36</td>\n",
       "      <td>10.49</td>\n",
       "      <td>506.97</td>\n",
       "      <td>RENT</td>\n",
       "      <td>43057.0</td>\n",
       "      <td>Source Verified</td>\n",
       "      <td>Jan-2015</td>\n",
       "      <td>Fully Paid</td>\n",
       "      <td>credit_card</td>\n",
       "      <td>...</td>\n",
       "      <td>0</td>\n",
       "      <td>0</td>\n",
       "      <td>0</td>\n",
       "      <td>0</td>\n",
       "      <td>0</td>\n",
       "      <td>0</td>\n",
       "      <td>0</td>\n",
       "      <td>0</td>\n",
       "      <td>0</td>\n",
       "      <td>0</td>\n",
       "    </tr>\n",
       "    <tr>\n",
       "      <th>3</th>\n",
       "      <td>7200.0</td>\n",
       "      <td>36</td>\n",
       "      <td>6.49</td>\n",
       "      <td>220.65</td>\n",
       "      <td>RENT</td>\n",
       "      <td>54000.0</td>\n",
       "      <td>Not Verified</td>\n",
       "      <td>Nov-2014</td>\n",
       "      <td>Fully Paid</td>\n",
       "      <td>credit_card</td>\n",
       "      <td>...</td>\n",
       "      <td>0</td>\n",
       "      <td>0</td>\n",
       "      <td>0</td>\n",
       "      <td>0</td>\n",
       "      <td>0</td>\n",
       "      <td>0</td>\n",
       "      <td>0</td>\n",
       "      <td>0</td>\n",
       "      <td>0</td>\n",
       "      <td>0</td>\n",
       "    </tr>\n",
       "    <tr>\n",
       "      <th>4</th>\n",
       "      <td>24375.0</td>\n",
       "      <td>60</td>\n",
       "      <td>17.27</td>\n",
       "      <td>609.33</td>\n",
       "      <td>MORTGAGE</td>\n",
       "      <td>55000.0</td>\n",
       "      <td>Verified</td>\n",
       "      <td>Apr-2013</td>\n",
       "      <td>Charged Off</td>\n",
       "      <td>credit_card</td>\n",
       "      <td>...</td>\n",
       "      <td>0</td>\n",
       "      <td>0</td>\n",
       "      <td>0</td>\n",
       "      <td>0</td>\n",
       "      <td>0</td>\n",
       "      <td>0</td>\n",
       "      <td>0</td>\n",
       "      <td>0</td>\n",
       "      <td>0</td>\n",
       "      <td>0</td>\n",
       "    </tr>\n",
       "  </tbody>\n",
       "</table>\n",
       "<p>5 rows × 57 columns</p>\n",
       "</div>"
      ],
      "text/plain": [
       "   loan_amnt  term  int_rate  installment home_ownership  annual_inc  \\\n",
       "0    10000.0    36     11.44       329.48           RENT    117000.0   \n",
       "1     8000.0    36     11.99       265.68       MORTGAGE     65000.0   \n",
       "2    15600.0    36     10.49       506.97           RENT     43057.0   \n",
       "3     7200.0    36      6.49       220.65           RENT     54000.0   \n",
       "4    24375.0    60     17.27       609.33       MORTGAGE     55000.0   \n",
       "\n",
       "  verification_status   issue_d  loan_status             purpose  ...  F1 F2  \\\n",
       "0        Not Verified  Jan-2015   Fully Paid            vacation  ...   0  0   \n",
       "1        Not Verified  Jan-2015   Fully Paid  debt_consolidation  ...   0  0   \n",
       "2     Source Verified  Jan-2015   Fully Paid         credit_card  ...   0  0   \n",
       "3        Not Verified  Nov-2014   Fully Paid         credit_card  ...   0  0   \n",
       "4            Verified  Apr-2013  Charged Off         credit_card  ...   0  0   \n",
       "\n",
       "   F3  F4  F5  G1  G2 G3 G4  G5  \n",
       "0   0   0   0   0   0  0  0   0  \n",
       "1   0   0   0   0   0  0  0   0  \n",
       "2   0   0   0   0   0  0  0   0  \n",
       "3   0   0   0   0   0  0  0   0  \n",
       "4   0   0   0   0   0  0  0   0  \n",
       "\n",
       "[5 rows x 57 columns]"
      ]
     },
     "execution_count": 52,
     "metadata": {},
     "output_type": "execute_result"
    }
   ],
   "source": [
    "df=pd.concat([df.drop(\"sub_grade\", axis=1), dummies],axis=1)\n",
    "df.head()\n",
    "#here we concetenate the dummies with the original data withou sub_grade column"
   ]
  },
  {
   "cell_type": "code",
   "execution_count": 53,
   "metadata": {
    "execution": {
     "iopub.execute_input": "2020-12-24T00:10:24.676870Z",
     "iopub.status.busy": "2020-12-24T00:10:24.676147Z",
     "iopub.status.idle": "2020-12-24T00:10:24.770059Z",
     "shell.execute_reply": "2020-12-24T00:10:24.769421Z"
    },
    "papermill": {
     "duration": 0.18421,
     "end_time": "2020-12-24T00:10:24.770173",
     "exception": false,
     "start_time": "2020-12-24T00:10:24.585963",
     "status": "completed"
    },
    "tags": []
   },
   "outputs": [
    {
     "data": {
      "text/plain": [
       "Index(['home_ownership', 'verification_status', 'issue_d', 'loan_status',\n",
       "       'purpose', 'earliest_cr_line', 'initial_list_status',\n",
       "       'application_type', 'address'],\n",
       "      dtype='object')"
      ]
     },
     "execution_count": 53,
     "metadata": {},
     "output_type": "execute_result"
    }
   ],
   "source": [
    "df.select_dtypes(\"object\").columns\n",
    "#There are 8 categorical columns left"
   ]
  },
  {
   "cell_type": "code",
   "execution_count": 54,
   "metadata": {
    "execution": {
     "iopub.execute_input": "2020-12-24T00:10:24.943586Z",
     "iopub.status.busy": "2020-12-24T00:10:24.942928Z",
     "iopub.status.idle": "2020-12-24T00:10:24.964517Z",
     "shell.execute_reply": "2020-12-24T00:10:24.963912Z"
    },
    "papermill": {
     "duration": 0.110929,
     "end_time": "2020-12-24T00:10:24.964627",
     "exception": false,
     "start_time": "2020-12-24T00:10:24.853698",
     "status": "completed"
    },
    "tags": []
   },
   "outputs": [
    {
     "data": {
      "text/html": [
       "<div>\n",
       "<style scoped>\n",
       "    .dataframe tbody tr th:only-of-type {\n",
       "        vertical-align: middle;\n",
       "    }\n",
       "\n",
       "    .dataframe tbody tr th {\n",
       "        vertical-align: top;\n",
       "    }\n",
       "\n",
       "    .dataframe thead th {\n",
       "        text-align: right;\n",
       "    }\n",
       "</style>\n",
       "<table border=\"1\" class=\"dataframe\">\n",
       "  <thead>\n",
       "    <tr style=\"text-align: right;\">\n",
       "      <th></th>\n",
       "      <th>verification_status</th>\n",
       "      <th>application_type</th>\n",
       "      <th>initial_list_status</th>\n",
       "      <th>purpose</th>\n",
       "    </tr>\n",
       "  </thead>\n",
       "  <tbody>\n",
       "    <tr>\n",
       "      <th>0</th>\n",
       "      <td>Not Verified</td>\n",
       "      <td>INDIVIDUAL</td>\n",
       "      <td>w</td>\n",
       "      <td>vacation</td>\n",
       "    </tr>\n",
       "    <tr>\n",
       "      <th>1</th>\n",
       "      <td>Not Verified</td>\n",
       "      <td>INDIVIDUAL</td>\n",
       "      <td>f</td>\n",
       "      <td>debt_consolidation</td>\n",
       "    </tr>\n",
       "    <tr>\n",
       "      <th>2</th>\n",
       "      <td>Source Verified</td>\n",
       "      <td>INDIVIDUAL</td>\n",
       "      <td>f</td>\n",
       "      <td>credit_card</td>\n",
       "    </tr>\n",
       "    <tr>\n",
       "      <th>3</th>\n",
       "      <td>Not Verified</td>\n",
       "      <td>INDIVIDUAL</td>\n",
       "      <td>f</td>\n",
       "      <td>credit_card</td>\n",
       "    </tr>\n",
       "    <tr>\n",
       "      <th>4</th>\n",
       "      <td>Verified</td>\n",
       "      <td>INDIVIDUAL</td>\n",
       "      <td>f</td>\n",
       "      <td>credit_card</td>\n",
       "    </tr>\n",
       "    <tr>\n",
       "      <th>...</th>\n",
       "      <td>...</td>\n",
       "      <td>...</td>\n",
       "      <td>...</td>\n",
       "      <td>...</td>\n",
       "    </tr>\n",
       "    <tr>\n",
       "      <th>396025</th>\n",
       "      <td>Source Verified</td>\n",
       "      <td>INDIVIDUAL</td>\n",
       "      <td>w</td>\n",
       "      <td>debt_consolidation</td>\n",
       "    </tr>\n",
       "    <tr>\n",
       "      <th>396026</th>\n",
       "      <td>Source Verified</td>\n",
       "      <td>INDIVIDUAL</td>\n",
       "      <td>f</td>\n",
       "      <td>debt_consolidation</td>\n",
       "    </tr>\n",
       "    <tr>\n",
       "      <th>396027</th>\n",
       "      <td>Verified</td>\n",
       "      <td>INDIVIDUAL</td>\n",
       "      <td>f</td>\n",
       "      <td>debt_consolidation</td>\n",
       "    </tr>\n",
       "    <tr>\n",
       "      <th>396028</th>\n",
       "      <td>Verified</td>\n",
       "      <td>INDIVIDUAL</td>\n",
       "      <td>f</td>\n",
       "      <td>debt_consolidation</td>\n",
       "    </tr>\n",
       "    <tr>\n",
       "      <th>396029</th>\n",
       "      <td>Verified</td>\n",
       "      <td>INDIVIDUAL</td>\n",
       "      <td>f</td>\n",
       "      <td>debt_consolidation</td>\n",
       "    </tr>\n",
       "  </tbody>\n",
       "</table>\n",
       "<p>395219 rows × 4 columns</p>\n",
       "</div>"
      ],
      "text/plain": [
       "       verification_status application_type initial_list_status  \\\n",
       "0             Not Verified       INDIVIDUAL                   w   \n",
       "1             Not Verified       INDIVIDUAL                   f   \n",
       "2          Source Verified       INDIVIDUAL                   f   \n",
       "3             Not Verified       INDIVIDUAL                   f   \n",
       "4                 Verified       INDIVIDUAL                   f   \n",
       "...                    ...              ...                 ...   \n",
       "396025     Source Verified       INDIVIDUAL                   w   \n",
       "396026     Source Verified       INDIVIDUAL                   f   \n",
       "396027            Verified       INDIVIDUAL                   f   \n",
       "396028            Verified       INDIVIDUAL                   f   \n",
       "396029            Verified       INDIVIDUAL                   f   \n",
       "\n",
       "                   purpose  \n",
       "0                 vacation  \n",
       "1       debt_consolidation  \n",
       "2              credit_card  \n",
       "3              credit_card  \n",
       "4              credit_card  \n",
       "...                    ...  \n",
       "396025  debt_consolidation  \n",
       "396026  debt_consolidation  \n",
       "396027  debt_consolidation  \n",
       "396028  debt_consolidation  \n",
       "396029  debt_consolidation  \n",
       "\n",
       "[395219 rows x 4 columns]"
      ]
     },
     "execution_count": 54,
     "metadata": {},
     "output_type": "execute_result"
    }
   ],
   "source": [
    "df[['verification_status', 'application_type','initial_list_status','purpose']]"
   ]
  },
  {
   "cell_type": "code",
   "execution_count": 55,
   "metadata": {
    "execution": {
     "iopub.execute_input": "2020-12-24T00:10:25.139139Z",
     "iopub.status.busy": "2020-12-24T00:10:25.138432Z",
     "iopub.status.idle": "2020-12-24T00:10:25.421841Z",
     "shell.execute_reply": "2020-12-24T00:10:25.421232Z"
    },
    "papermill": {
     "duration": 0.373498,
     "end_time": "2020-12-24T00:10:25.421999",
     "exception": false,
     "start_time": "2020-12-24T00:10:25.048501",
     "status": "completed"
    },
    "tags": []
   },
   "outputs": [
    {
     "data": {
      "text/plain": [
       "Index(['loan_amnt', 'term', 'int_rate', 'installment', 'home_ownership',\n",
       "       'annual_inc', 'issue_d', 'loan_status', 'dti', 'earliest_cr_line',\n",
       "       'open_acc', 'pub_rec', 'revol_bal', 'revol_util', 'total_acc',\n",
       "       'mort_acc', 'pub_rec_bankruptcies', 'address', 'loan_repaid', 'A2',\n",
       "       'A3', 'A4', 'A5', 'B1', 'B2', 'B3', 'B4', 'B5', 'C1', 'C2', 'C3', 'C4',\n",
       "       'C5', 'D1', 'D2', 'D3', 'D4', 'D5', 'E1', 'E2', 'E3', 'E4', 'E5', 'F1',\n",
       "       'F2', 'F3', 'F4', 'F5', 'G1', 'G2', 'G3', 'G4', 'G5',\n",
       "       'verification_status_Source Verified', 'verification_status_Verified',\n",
       "       'application_type_INDIVIDUAL', 'application_type_JOINT',\n",
       "       'initial_list_status_w', 'purpose_credit_card',\n",
       "       'purpose_debt_consolidation', 'purpose_educational',\n",
       "       'purpose_home_improvement', 'purpose_house', 'purpose_major_purchase',\n",
       "       'purpose_medical', 'purpose_moving', 'purpose_other',\n",
       "       'purpose_renewable_energy', 'purpose_small_business',\n",
       "       'purpose_vacation', 'purpose_wedding'],\n",
       "      dtype='object')"
      ]
     },
     "execution_count": 55,
     "metadata": {},
     "output_type": "execute_result"
    }
   ],
   "source": [
    "dummies=pd.get_dummies(df[['verification_status', 'application_type','initial_list_status','purpose']],drop_first=True)\n",
    "df=pd.concat([df.drop(['verification_status', 'application_type','initial_list_status','purpose'],axis=1), dummies],axis=1)\n",
    "df.columns"
   ]
  },
  {
   "cell_type": "code",
   "execution_count": 56,
   "metadata": {
    "execution": {
     "iopub.execute_input": "2020-12-24T00:10:25.599264Z",
     "iopub.status.busy": "2020-12-24T00:10:25.598633Z",
     "iopub.status.idle": "2020-12-24T00:10:25.687430Z",
     "shell.execute_reply": "2020-12-24T00:10:25.686829Z"
    },
    "papermill": {
     "duration": 0.178911,
     "end_time": "2020-12-24T00:10:25.687542",
     "exception": false,
     "start_time": "2020-12-24T00:10:25.508631",
     "status": "completed"
    },
    "tags": []
   },
   "outputs": [
    {
     "data": {
      "text/plain": [
       "Index(['home_ownership', 'issue_d', 'loan_status', 'earliest_cr_line',\n",
       "       'address'],\n",
       "      dtype='object')"
      ]
     },
     "execution_count": 56,
     "metadata": {},
     "output_type": "execute_result"
    }
   ],
   "source": [
    "df.select_dtypes(\"object\").columns"
   ]
  },
  {
   "cell_type": "code",
   "execution_count": 57,
   "metadata": {
    "execution": {
     "iopub.execute_input": "2020-12-24T00:10:25.906224Z",
     "iopub.status.busy": "2020-12-24T00:10:25.903951Z",
     "iopub.status.idle": "2020-12-24T00:10:25.910622Z",
     "shell.execute_reply": "2020-12-24T00:10:25.911043Z"
    },
    "papermill": {
     "duration": 0.13777,
     "end_time": "2020-12-24T00:10:25.911228",
     "exception": false,
     "start_time": "2020-12-24T00:10:25.773458",
     "status": "completed"
    },
    "tags": []
   },
   "outputs": [
    {
     "data": {
      "text/plain": [
       "MORTGAGE    198022\n",
       "RENT        159395\n",
       "OWN          37660\n",
       "OTHER          110\n",
       "NONE            29\n",
       "ANY              3\n",
       "Name: home_ownership, dtype: int64"
      ]
     },
     "execution_count": 57,
     "metadata": {},
     "output_type": "execute_result"
    }
   ],
   "source": [
    "df[\"home_ownership\"].value_counts()"
   ]
  },
  {
   "cell_type": "code",
   "execution_count": 58,
   "metadata": {
    "execution": {
     "iopub.execute_input": "2020-12-24T00:10:26.101208Z",
     "iopub.status.busy": "2020-12-24T00:10:26.100579Z",
     "iopub.status.idle": "2020-12-24T00:10:26.153316Z",
     "shell.execute_reply": "2020-12-24T00:10:26.152772Z"
    },
    "papermill": {
     "duration": 0.156822,
     "end_time": "2020-12-24T00:10:26.153460",
     "exception": false,
     "start_time": "2020-12-24T00:10:25.996638",
     "status": "completed"
    },
    "tags": []
   },
   "outputs": [
    {
     "data": {
      "text/plain": [
       "MORTGAGE    198022\n",
       "RENT        159395\n",
       "OWN          37660\n",
       "OTHER          142\n",
       "Name: home_ownership, dtype: int64"
      ]
     },
     "execution_count": 58,
     "metadata": {},
     "output_type": "execute_result"
    }
   ],
   "source": [
    "df[\"home_ownership\"]=df[\"home_ownership\"].replace([\"NONE\",\"ANY\"],\"OTHER\")\n",
    "df[\"home_ownership\"].value_counts()\n",
    "#we replace NONE and ANY with OTHER before we get dummies because there are very few people in these two status"
   ]
  },
  {
   "cell_type": "code",
   "execution_count": 59,
   "metadata": {
    "execution": {
     "iopub.execute_input": "2020-12-24T00:10:26.344690Z",
     "iopub.status.busy": "2020-12-24T00:10:26.343755Z",
     "iopub.status.idle": "2020-12-24T00:10:26.531043Z",
     "shell.execute_reply": "2020-12-24T00:10:26.529946Z"
    },
    "papermill": {
     "duration": 0.291647,
     "end_time": "2020-12-24T00:10:26.531173",
     "exception": false,
     "start_time": "2020-12-24T00:10:26.239526",
     "status": "completed"
    },
    "tags": []
   },
   "outputs": [
    {
     "data": {
      "text/html": [
       "<div>\n",
       "<style scoped>\n",
       "    .dataframe tbody tr th:only-of-type {\n",
       "        vertical-align: middle;\n",
       "    }\n",
       "\n",
       "    .dataframe tbody tr th {\n",
       "        vertical-align: top;\n",
       "    }\n",
       "\n",
       "    .dataframe thead th {\n",
       "        text-align: right;\n",
       "    }\n",
       "</style>\n",
       "<table border=\"1\" class=\"dataframe\">\n",
       "  <thead>\n",
       "    <tr style=\"text-align: right;\">\n",
       "      <th></th>\n",
       "      <th>issue_d</th>\n",
       "      <th>loan_status</th>\n",
       "      <th>earliest_cr_line</th>\n",
       "      <th>address</th>\n",
       "    </tr>\n",
       "  </thead>\n",
       "  <tbody>\n",
       "    <tr>\n",
       "      <th>0</th>\n",
       "      <td>Jan-2015</td>\n",
       "      <td>Fully Paid</td>\n",
       "      <td>Jun-1990</td>\n",
       "      <td>0174 Michelle Gateway\\nMendozaberg, OK 22690</td>\n",
       "    </tr>\n",
       "    <tr>\n",
       "      <th>1</th>\n",
       "      <td>Jan-2015</td>\n",
       "      <td>Fully Paid</td>\n",
       "      <td>Jul-2004</td>\n",
       "      <td>1076 Carney Fort Apt. 347\\nLoganmouth, SD 05113</td>\n",
       "    </tr>\n",
       "    <tr>\n",
       "      <th>2</th>\n",
       "      <td>Jan-2015</td>\n",
       "      <td>Fully Paid</td>\n",
       "      <td>Aug-2007</td>\n",
       "      <td>87025 Mark Dale Apt. 269\\nNew Sabrina, WV 05113</td>\n",
       "    </tr>\n",
       "    <tr>\n",
       "      <th>3</th>\n",
       "      <td>Nov-2014</td>\n",
       "      <td>Fully Paid</td>\n",
       "      <td>Sep-2006</td>\n",
       "      <td>823 Reid Ford\\nDelacruzside, MA 00813</td>\n",
       "    </tr>\n",
       "    <tr>\n",
       "      <th>4</th>\n",
       "      <td>Apr-2013</td>\n",
       "      <td>Charged Off</td>\n",
       "      <td>Mar-1999</td>\n",
       "      <td>679 Luna Roads\\nGreggshire, VA 11650</td>\n",
       "    </tr>\n",
       "    <tr>\n",
       "      <th>...</th>\n",
       "      <td>...</td>\n",
       "      <td>...</td>\n",
       "      <td>...</td>\n",
       "      <td>...</td>\n",
       "    </tr>\n",
       "    <tr>\n",
       "      <th>396025</th>\n",
       "      <td>Oct-2015</td>\n",
       "      <td>Fully Paid</td>\n",
       "      <td>Nov-2004</td>\n",
       "      <td>12951 Williams Crossing\\nJohnnyville, DC 30723</td>\n",
       "    </tr>\n",
       "    <tr>\n",
       "      <th>396026</th>\n",
       "      <td>Feb-2015</td>\n",
       "      <td>Fully Paid</td>\n",
       "      <td>Feb-2006</td>\n",
       "      <td>0114 Fowler Field Suite 028\\nRachelborough, LA...</td>\n",
       "    </tr>\n",
       "    <tr>\n",
       "      <th>396027</th>\n",
       "      <td>Oct-2013</td>\n",
       "      <td>Fully Paid</td>\n",
       "      <td>Mar-1997</td>\n",
       "      <td>953 Matthew Points Suite 414\\nReedfort, NY 70466</td>\n",
       "    </tr>\n",
       "    <tr>\n",
       "      <th>396028</th>\n",
       "      <td>Aug-2012</td>\n",
       "      <td>Fully Paid</td>\n",
       "      <td>Nov-1990</td>\n",
       "      <td>7843 Blake Freeway Apt. 229\\nNew Michael, FL 2...</td>\n",
       "    </tr>\n",
       "    <tr>\n",
       "      <th>396029</th>\n",
       "      <td>Jun-2010</td>\n",
       "      <td>Fully Paid</td>\n",
       "      <td>Sep-1998</td>\n",
       "      <td>787 Michelle Causeway\\nBriannaton, AR 48052</td>\n",
       "    </tr>\n",
       "  </tbody>\n",
       "</table>\n",
       "<p>395219 rows × 4 columns</p>\n",
       "</div>"
      ],
      "text/plain": [
       "         issue_d  loan_status earliest_cr_line  \\\n",
       "0       Jan-2015   Fully Paid         Jun-1990   \n",
       "1       Jan-2015   Fully Paid         Jul-2004   \n",
       "2       Jan-2015   Fully Paid         Aug-2007   \n",
       "3       Nov-2014   Fully Paid         Sep-2006   \n",
       "4       Apr-2013  Charged Off         Mar-1999   \n",
       "...          ...          ...              ...   \n",
       "396025  Oct-2015   Fully Paid         Nov-2004   \n",
       "396026  Feb-2015   Fully Paid         Feb-2006   \n",
       "396027  Oct-2013   Fully Paid         Mar-1997   \n",
       "396028  Aug-2012   Fully Paid         Nov-1990   \n",
       "396029  Jun-2010   Fully Paid         Sep-1998   \n",
       "\n",
       "                                                  address  \n",
       "0            0174 Michelle Gateway\\nMendozaberg, OK 22690  \n",
       "1         1076 Carney Fort Apt. 347\\nLoganmouth, SD 05113  \n",
       "2         87025 Mark Dale Apt. 269\\nNew Sabrina, WV 05113  \n",
       "3                   823 Reid Ford\\nDelacruzside, MA 00813  \n",
       "4                    679 Luna Roads\\nGreggshire, VA 11650  \n",
       "...                                                   ...  \n",
       "396025     12951 Williams Crossing\\nJohnnyville, DC 30723  \n",
       "396026  0114 Fowler Field Suite 028\\nRachelborough, LA...  \n",
       "396027   953 Matthew Points Suite 414\\nReedfort, NY 70466  \n",
       "396028  7843 Blake Freeway Apt. 229\\nNew Michael, FL 2...  \n",
       "396029        787 Michelle Causeway\\nBriannaton, AR 48052  \n",
       "\n",
       "[395219 rows x 4 columns]"
      ]
     },
     "execution_count": 59,
     "metadata": {},
     "output_type": "execute_result"
    }
   ],
   "source": [
    "dummies=pd.get_dummies(df[\"home_ownership\"],drop_first=True)\n",
    "df=pd.concat([df.drop(\"home_ownership\",axis=1),dummies],axis=1)\n",
    "df.select_dtypes(\"object\")\n",
    "#here we convert this column into dummy values"
   ]
  },
  {
   "cell_type": "code",
   "execution_count": 60,
   "metadata": {
    "execution": {
     "iopub.execute_input": "2020-12-24T00:10:26.710941Z",
     "iopub.status.busy": "2020-12-24T00:10:26.709966Z",
     "iopub.status.idle": "2020-12-24T00:10:26.713595Z",
     "shell.execute_reply": "2020-12-24T00:10:26.714146Z"
    },
    "papermill": {
     "duration": 0.096467,
     "end_time": "2020-12-24T00:10:26.714287",
     "exception": false,
     "start_time": "2020-12-24T00:10:26.617820",
     "status": "completed"
    },
    "tags": []
   },
   "outputs": [
    {
     "data": {
      "text/plain": [
       "0              0174 Michelle Gateway\\nMendozaberg, OK 22690\n",
       "1           1076 Carney Fort Apt. 347\\nLoganmouth, SD 05113\n",
       "2           87025 Mark Dale Apt. 269\\nNew Sabrina, WV 05113\n",
       "3                     823 Reid Ford\\nDelacruzside, MA 00813\n",
       "4                      679 Luna Roads\\nGreggshire, VA 11650\n",
       "                                ...                        \n",
       "396025       12951 Williams Crossing\\nJohnnyville, DC 30723\n",
       "396026    0114 Fowler Field Suite 028\\nRachelborough, LA...\n",
       "396027     953 Matthew Points Suite 414\\nReedfort, NY 70466\n",
       "396028    7843 Blake Freeway Apt. 229\\nNew Michael, FL 2...\n",
       "396029          787 Michelle Causeway\\nBriannaton, AR 48052\n",
       "Name: address, Length: 395219, dtype: object"
      ]
     },
     "execution_count": 60,
     "metadata": {},
     "output_type": "execute_result"
    }
   ],
   "source": [
    "df[\"address\"] \n",
    "#we will get just numerical zip codes by creating a new column adn dropping address column"
   ]
  },
  {
   "cell_type": "code",
   "execution_count": 61,
   "metadata": {
    "execution": {
     "iopub.execute_input": "2020-12-24T00:10:26.891147Z",
     "iopub.status.busy": "2020-12-24T00:10:26.890522Z",
     "iopub.status.idle": "2020-12-24T00:10:27.054657Z",
     "shell.execute_reply": "2020-12-24T00:10:27.054115Z"
    },
    "papermill": {
     "duration": 0.254034,
     "end_time": "2020-12-24T00:10:27.054780",
     "exception": false,
     "start_time": "2020-12-24T00:10:26.800746",
     "status": "completed"
    },
    "tags": []
   },
   "outputs": [
    {
     "data": {
      "text/plain": [
       "70466    56880\n",
       "22690    56413\n",
       "30723    56402\n",
       "48052    55811\n",
       "00813    45725\n",
       "29597    45393\n",
       "05113    45300\n",
       "11650    11210\n",
       "93700    11126\n",
       "86630    10959\n",
       "Name: zip_code, dtype: int64"
      ]
     },
     "execution_count": 61,
     "metadata": {},
     "output_type": "execute_result"
    }
   ],
   "source": [
    "df[\"zip_code\"]=df[\"address\"].apply(lambda address: address[-5:])\n",
    "df[\"zip_code\"].value_counts()"
   ]
  },
  {
   "cell_type": "code",
   "execution_count": 62,
   "metadata": {
    "execution": {
     "iopub.execute_input": "2020-12-24T00:10:27.233406Z",
     "iopub.status.busy": "2020-12-24T00:10:27.232749Z",
     "iopub.status.idle": "2020-12-24T00:10:27.240739Z",
     "shell.execute_reply": "2020-12-24T00:10:27.240039Z"
    },
    "papermill": {
     "duration": 0.099067,
     "end_time": "2020-12-24T00:10:27.240852",
     "exception": false,
     "start_time": "2020-12-24T00:10:27.141785",
     "status": "completed"
    },
    "tags": []
   },
   "outputs": [
    {
     "data": {
      "text/plain": [
       "1    317696\n",
       "0     77523\n",
       "Name: loan_repaid, dtype: int64"
      ]
     },
     "execution_count": 62,
     "metadata": {},
     "output_type": "execute_result"
    }
   ],
   "source": [
    "df[\"loan_repaid\"].value_counts()"
   ]
  },
  {
   "cell_type": "code",
   "execution_count": 63,
   "metadata": {
    "execution": {
     "iopub.execute_input": "2020-12-24T00:10:27.421300Z",
     "iopub.status.busy": "2020-12-24T00:10:27.420670Z",
     "iopub.status.idle": "2020-12-24T00:10:27.658044Z",
     "shell.execute_reply": "2020-12-24T00:10:27.657474Z"
    },
    "papermill": {
     "duration": 0.328107,
     "end_time": "2020-12-24T00:10:27.658150",
     "exception": false,
     "start_time": "2020-12-24T00:10:27.330043",
     "status": "completed"
    },
    "tags": []
   },
   "outputs": [
    {
     "data": {
      "text/plain": [
       "Index(['issue_d', 'loan_status', 'earliest_cr_line', 'address'], dtype='object')"
      ]
     },
     "execution_count": 63,
     "metadata": {},
     "output_type": "execute_result"
    }
   ],
   "source": [
    "dummies=pd.get_dummies(df[\"zip_code\"],drop_first=True)\n",
    "df=pd.concat([df.drop(\"zip_code\",axis=1), dummies],axis=1)\n",
    "df.select_dtypes(\"object\").columns\n",
    "# we also transform this colum into dummy values"
   ]
  },
  {
   "cell_type": "code",
   "execution_count": 64,
   "metadata": {
    "execution": {
     "iopub.execute_input": "2020-12-24T00:10:27.853004Z",
     "iopub.status.busy": "2020-12-24T00:10:27.851130Z",
     "iopub.status.idle": "2020-12-24T00:10:27.895936Z",
     "shell.execute_reply": "2020-12-24T00:10:27.895411Z"
    },
    "papermill": {
     "duration": 0.150669,
     "end_time": "2020-12-24T00:10:27.896047",
     "exception": false,
     "start_time": "2020-12-24T00:10:27.745378",
     "status": "completed"
    },
    "tags": []
   },
   "outputs": [
    {
     "data": {
      "text/plain": [
       "Index(['issue_d', 'loan_status', 'earliest_cr_line'], dtype='object')"
      ]
     },
     "execution_count": 64,
     "metadata": {},
     "output_type": "execute_result"
    }
   ],
   "source": [
    "df.drop(\"address\",axis=1, inplace=True)\n",
    "df.select_dtypes(\"object\").columns\n",
    "#we drop the address column "
   ]
  },
  {
   "cell_type": "code",
   "execution_count": 65,
   "metadata": {
    "execution": {
     "iopub.execute_input": "2020-12-24T00:10:28.081832Z",
     "iopub.status.busy": "2020-12-24T00:10:28.081149Z",
     "iopub.status.idle": "2020-12-24T00:10:28.084123Z",
     "shell.execute_reply": "2020-12-24T00:10:28.084805Z"
    },
    "papermill": {
     "duration": 0.099678,
     "end_time": "2020-12-24T00:10:28.084938",
     "exception": false,
     "start_time": "2020-12-24T00:10:27.985260",
     "status": "completed"
    },
    "tags": []
   },
   "outputs": [
    {
     "data": {
      "text/plain": [
       "0         Jun-1990\n",
       "1         Jul-2004\n",
       "2         Aug-2007\n",
       "3         Sep-2006\n",
       "4         Mar-1999\n",
       "            ...   \n",
       "396025    Nov-2004\n",
       "396026    Feb-2006\n",
       "396027    Mar-1997\n",
       "396028    Nov-1990\n",
       "396029    Sep-1998\n",
       "Name: earliest_cr_line, Length: 395219, dtype: object"
      ]
     },
     "execution_count": 65,
     "metadata": {},
     "output_type": "execute_result"
    }
   ],
   "source": [
    "df[\"earliest_cr_line\"]"
   ]
  },
  {
   "cell_type": "code",
   "execution_count": 66,
   "metadata": {
    "execution": {
     "iopub.execute_input": "2020-12-24T00:10:28.265185Z",
     "iopub.status.busy": "2020-12-24T00:10:28.264597Z",
     "iopub.status.idle": "2020-12-24T00:10:28.631026Z",
     "shell.execute_reply": "2020-12-24T00:10:28.631622Z"
    },
    "papermill": {
     "duration": 0.45839,
     "end_time": "2020-12-24T00:10:28.631793",
     "exception": false,
     "start_time": "2020-12-24T00:10:28.173403",
     "status": "completed"
    },
    "tags": []
   },
   "outputs": [
    {
     "name": "stdout",
     "output_type": "stream",
     "text": [
      "<class 'pandas.core.frame.DataFrame'>\n",
      "Int64Index: 395219 entries, 0 to 396029\n",
      "Data columns (total 82 columns):\n",
      " #   Column                               Non-Null Count   Dtype  \n",
      "---  ------                               --------------   -----  \n",
      " 0   loan_amnt                            395219 non-null  float64\n",
      " 1   term                                 395219 non-null  int64  \n",
      " 2   int_rate                             395219 non-null  float64\n",
      " 3   installment                          395219 non-null  float64\n",
      " 4   annual_inc                           395219 non-null  float64\n",
      " 5   issue_d                              395219 non-null  object \n",
      " 6   loan_status                          395219 non-null  object \n",
      " 7   dti                                  395219 non-null  float64\n",
      " 8   earliest_cr_line                     395219 non-null  object \n",
      " 9   open_acc                             395219 non-null  float64\n",
      " 10  pub_rec                              395219 non-null  float64\n",
      " 11  revol_bal                            395219 non-null  float64\n",
      " 12  revol_util                           395219 non-null  float64\n",
      " 13  total_acc                            395219 non-null  float64\n",
      " 14  mort_acc                             395219 non-null  float64\n",
      " 15  pub_rec_bankruptcies                 395219 non-null  float64\n",
      " 16  loan_repaid                          395219 non-null  int64  \n",
      " 17  A2                                   395219 non-null  uint8  \n",
      " 18  A3                                   395219 non-null  uint8  \n",
      " 19  A4                                   395219 non-null  uint8  \n",
      " 20  A5                                   395219 non-null  uint8  \n",
      " 21  B1                                   395219 non-null  uint8  \n",
      " 22  B2                                   395219 non-null  uint8  \n",
      " 23  B3                                   395219 non-null  uint8  \n",
      " 24  B4                                   395219 non-null  uint8  \n",
      " 25  B5                                   395219 non-null  uint8  \n",
      " 26  C1                                   395219 non-null  uint8  \n",
      " 27  C2                                   395219 non-null  uint8  \n",
      " 28  C3                                   395219 non-null  uint8  \n",
      " 29  C4                                   395219 non-null  uint8  \n",
      " 30  C5                                   395219 non-null  uint8  \n",
      " 31  D1                                   395219 non-null  uint8  \n",
      " 32  D2                                   395219 non-null  uint8  \n",
      " 33  D3                                   395219 non-null  uint8  \n",
      " 34  D4                                   395219 non-null  uint8  \n",
      " 35  D5                                   395219 non-null  uint8  \n",
      " 36  E1                                   395219 non-null  uint8  \n",
      " 37  E2                                   395219 non-null  uint8  \n",
      " 38  E3                                   395219 non-null  uint8  \n",
      " 39  E4                                   395219 non-null  uint8  \n",
      " 40  E5                                   395219 non-null  uint8  \n",
      " 41  F1                                   395219 non-null  uint8  \n",
      " 42  F2                                   395219 non-null  uint8  \n",
      " 43  F3                                   395219 non-null  uint8  \n",
      " 44  F4                                   395219 non-null  uint8  \n",
      " 45  F5                                   395219 non-null  uint8  \n",
      " 46  G1                                   395219 non-null  uint8  \n",
      " 47  G2                                   395219 non-null  uint8  \n",
      " 48  G3                                   395219 non-null  uint8  \n",
      " 49  G4                                   395219 non-null  uint8  \n",
      " 50  G5                                   395219 non-null  uint8  \n",
      " 51  verification_status_Source Verified  395219 non-null  uint8  \n",
      " 52  verification_status_Verified         395219 non-null  uint8  \n",
      " 53  application_type_INDIVIDUAL          395219 non-null  uint8  \n",
      " 54  application_type_JOINT               395219 non-null  uint8  \n",
      " 55  initial_list_status_w                395219 non-null  uint8  \n",
      " 56  purpose_credit_card                  395219 non-null  uint8  \n",
      " 57  purpose_debt_consolidation           395219 non-null  uint8  \n",
      " 58  purpose_educational                  395219 non-null  uint8  \n",
      " 59  purpose_home_improvement             395219 non-null  uint8  \n",
      " 60  purpose_house                        395219 non-null  uint8  \n",
      " 61  purpose_major_purchase               395219 non-null  uint8  \n",
      " 62  purpose_medical                      395219 non-null  uint8  \n",
      " 63  purpose_moving                       395219 non-null  uint8  \n",
      " 64  purpose_other                        395219 non-null  uint8  \n",
      " 65  purpose_renewable_energy             395219 non-null  uint8  \n",
      " 66  purpose_small_business               395219 non-null  uint8  \n",
      " 67  purpose_vacation                     395219 non-null  uint8  \n",
      " 68  purpose_wedding                      395219 non-null  uint8  \n",
      " 69  OTHER                                395219 non-null  uint8  \n",
      " 70  OWN                                  395219 non-null  uint8  \n",
      " 71  RENT                                 395219 non-null  uint8  \n",
      " 72  05113                                395219 non-null  uint8  \n",
      " 73  11650                                395219 non-null  uint8  \n",
      " 74  22690                                395219 non-null  uint8  \n",
      " 75  29597                                395219 non-null  uint8  \n",
      " 76  30723                                395219 non-null  uint8  \n",
      " 77  48052                                395219 non-null  uint8  \n",
      " 78  70466                                395219 non-null  uint8  \n",
      " 79  86630                                395219 non-null  uint8  \n",
      " 80  93700                                395219 non-null  uint8  \n",
      " 81  earliest_cr_year                     395219 non-null  int64  \n",
      "dtypes: float64(12), int64(3), object(3), uint8(64)\n",
      "memory usage: 81.4+ MB\n"
     ]
    }
   ],
   "source": [
    "df[\"earliest_cr_year\"]=df[\"earliest_cr_line\"].apply(lambda date: int(date[-4:]))\n",
    "#here we get the year part of it\n",
    "df.info()"
   ]
  },
  {
   "cell_type": "code",
   "execution_count": 67,
   "metadata": {
    "execution": {
     "iopub.execute_input": "2020-12-24T00:10:28.824386Z",
     "iopub.status.busy": "2020-12-24T00:10:28.823023Z",
     "iopub.status.idle": "2020-12-24T00:10:28.860621Z",
     "shell.execute_reply": "2020-12-24T00:10:28.860119Z"
    },
    "papermill": {
     "duration": 0.14049,
     "end_time": "2020-12-24T00:10:28.860725",
     "exception": false,
     "start_time": "2020-12-24T00:10:28.720235",
     "status": "completed"
    },
    "tags": []
   },
   "outputs": [
    {
     "data": {
      "text/html": [
       "<div>\n",
       "<style scoped>\n",
       "    .dataframe tbody tr th:only-of-type {\n",
       "        vertical-align: middle;\n",
       "    }\n",
       "\n",
       "    .dataframe tbody tr th {\n",
       "        vertical-align: top;\n",
       "    }\n",
       "\n",
       "    .dataframe thead th {\n",
       "        text-align: right;\n",
       "    }\n",
       "</style>\n",
       "<table border=\"1\" class=\"dataframe\">\n",
       "  <thead>\n",
       "    <tr style=\"text-align: right;\">\n",
       "      <th></th>\n",
       "      <th>issue_d</th>\n",
       "      <th>loan_status</th>\n",
       "    </tr>\n",
       "  </thead>\n",
       "  <tbody>\n",
       "    <tr>\n",
       "      <th>0</th>\n",
       "      <td>Jan-2015</td>\n",
       "      <td>Fully Paid</td>\n",
       "    </tr>\n",
       "    <tr>\n",
       "      <th>1</th>\n",
       "      <td>Jan-2015</td>\n",
       "      <td>Fully Paid</td>\n",
       "    </tr>\n",
       "    <tr>\n",
       "      <th>2</th>\n",
       "      <td>Jan-2015</td>\n",
       "      <td>Fully Paid</td>\n",
       "    </tr>\n",
       "    <tr>\n",
       "      <th>3</th>\n",
       "      <td>Nov-2014</td>\n",
       "      <td>Fully Paid</td>\n",
       "    </tr>\n",
       "    <tr>\n",
       "      <th>4</th>\n",
       "      <td>Apr-2013</td>\n",
       "      <td>Charged Off</td>\n",
       "    </tr>\n",
       "    <tr>\n",
       "      <th>...</th>\n",
       "      <td>...</td>\n",
       "      <td>...</td>\n",
       "    </tr>\n",
       "    <tr>\n",
       "      <th>396025</th>\n",
       "      <td>Oct-2015</td>\n",
       "      <td>Fully Paid</td>\n",
       "    </tr>\n",
       "    <tr>\n",
       "      <th>396026</th>\n",
       "      <td>Feb-2015</td>\n",
       "      <td>Fully Paid</td>\n",
       "    </tr>\n",
       "    <tr>\n",
       "      <th>396027</th>\n",
       "      <td>Oct-2013</td>\n",
       "      <td>Fully Paid</td>\n",
       "    </tr>\n",
       "    <tr>\n",
       "      <th>396028</th>\n",
       "      <td>Aug-2012</td>\n",
       "      <td>Fully Paid</td>\n",
       "    </tr>\n",
       "    <tr>\n",
       "      <th>396029</th>\n",
       "      <td>Jun-2010</td>\n",
       "      <td>Fully Paid</td>\n",
       "    </tr>\n",
       "  </tbody>\n",
       "</table>\n",
       "<p>395219 rows × 2 columns</p>\n",
       "</div>"
      ],
      "text/plain": [
       "         issue_d  loan_status\n",
       "0       Jan-2015   Fully Paid\n",
       "1       Jan-2015   Fully Paid\n",
       "2       Jan-2015   Fully Paid\n",
       "3       Nov-2014   Fully Paid\n",
       "4       Apr-2013  Charged Off\n",
       "...          ...          ...\n",
       "396025  Oct-2015   Fully Paid\n",
       "396026  Feb-2015   Fully Paid\n",
       "396027  Oct-2013   Fully Paid\n",
       "396028  Aug-2012   Fully Paid\n",
       "396029  Jun-2010   Fully Paid\n",
       "\n",
       "[395219 rows x 2 columns]"
      ]
     },
     "execution_count": 67,
     "metadata": {},
     "output_type": "execute_result"
    }
   ],
   "source": [
    "df.drop(\"earliest_cr_line\",axis=1,inplace=True)\n",
    "df.select_dtypes(\"object\")"
   ]
  },
  {
   "cell_type": "code",
   "execution_count": 68,
   "metadata": {
    "execution": {
     "iopub.execute_input": "2020-12-24T00:10:29.044311Z",
     "iopub.status.busy": "2020-12-24T00:10:29.043745Z",
     "iopub.status.idle": "2020-12-24T00:10:29.076649Z",
     "shell.execute_reply": "2020-12-24T00:10:29.077191Z"
    },
    "papermill": {
     "duration": 0.126092,
     "end_time": "2020-12-24T00:10:29.077339",
     "exception": false,
     "start_time": "2020-12-24T00:10:28.951247",
     "status": "completed"
    },
    "tags": []
   },
   "outputs": [],
   "source": [
    "#We can not know beforehand whether or not a loan will be issued beforehand,so this data is useless for the algorithm\n",
    "df.drop([\"issue_d\",\"loan_status\"],axis=1, inplace=True)\n",
    "# Loan status is also numerically represented in another column, so we will just drop this column\n"
   ]
  },
  {
   "cell_type": "code",
   "execution_count": 69,
   "metadata": {
    "execution": {
     "iopub.execute_input": "2020-12-24T00:10:29.264686Z",
     "iopub.status.busy": "2020-12-24T00:10:29.263737Z",
     "iopub.status.idle": "2020-12-24T00:10:29.268571Z",
     "shell.execute_reply": "2020-12-24T00:10:29.267897Z"
    },
    "papermill": {
     "duration": 0.100462,
     "end_time": "2020-12-24T00:10:29.268714",
     "exception": false,
     "start_time": "2020-12-24T00:10:29.168252",
     "status": "completed"
    },
    "tags": []
   },
   "outputs": [
    {
     "data": {
      "text/plain": [
       "Index([], dtype='object')"
      ]
     },
     "execution_count": 69,
     "metadata": {},
     "output_type": "execute_result"
    }
   ],
   "source": [
    "df.select_dtypes(\"object\").columns\n",
    "#There is not any categorical column and the data is ready for machine learning algorithm"
   ]
  },
  {
   "cell_type": "markdown",
   "metadata": {
    "papermill": {
     "duration": 0.092052,
     "end_time": "2020-12-24T00:10:29.452250",
     "exception": false,
     "start_time": "2020-12-24T00:10:29.360198",
     "status": "completed"
    },
    "tags": []
   },
   "source": [
    "# 5. Training the Deep Learning Algorithm "
   ]
  },
  {
   "cell_type": "code",
   "execution_count": 70,
   "metadata": {
    "execution": {
     "iopub.execute_input": "2020-12-24T00:10:29.639190Z",
     "iopub.status.busy": "2020-12-24T00:10:29.638181Z",
     "iopub.status.idle": "2020-12-24T00:10:29.647170Z",
     "shell.execute_reply": "2020-12-24T00:10:29.646709Z"
    },
    "papermill": {
     "duration": 0.103258,
     "end_time": "2020-12-24T00:10:29.647298",
     "exception": false,
     "start_time": "2020-12-24T00:10:29.544040",
     "status": "completed"
    },
    "tags": []
   },
   "outputs": [
    {
     "data": {
      "text/plain": [
       "1    317696\n",
       "0     77523\n",
       "Name: loan_repaid, dtype: int64"
      ]
     },
     "execution_count": 70,
     "metadata": {},
     "output_type": "execute_result"
    }
   ],
   "source": [
    "df[\"loan_repaid\"].value_counts()"
   ]
  },
  {
   "cell_type": "code",
   "execution_count": 71,
   "metadata": {
    "execution": {
     "iopub.execute_input": "2020-12-24T00:10:29.844001Z",
     "iopub.status.busy": "2020-12-24T00:10:29.843324Z",
     "iopub.status.idle": "2020-12-24T00:10:29.948983Z",
     "shell.execute_reply": "2020-12-24T00:10:29.948191Z"
    },
    "papermill": {
     "duration": 0.21014,
     "end_time": "2020-12-24T00:10:29.949097",
     "exception": false,
     "start_time": "2020-12-24T00:10:29.738957",
     "status": "completed"
    },
    "tags": []
   },
   "outputs": [
    {
     "data": {
      "text/plain": [
       "array([[1.000e+04, 3.600e+01, 1.144e+01, ..., 0.000e+00, 0.000e+00,\n",
       "        1.990e+03],\n",
       "       [8.000e+03, 3.600e+01, 1.199e+01, ..., 0.000e+00, 0.000e+00,\n",
       "        2.004e+03],\n",
       "       [1.560e+04, 3.600e+01, 1.049e+01, ..., 0.000e+00, 0.000e+00,\n",
       "        2.007e+03],\n",
       "       ...,\n",
       "       [5.000e+03, 3.600e+01, 9.990e+00, ..., 0.000e+00, 0.000e+00,\n",
       "        1.997e+03],\n",
       "       [2.100e+04, 6.000e+01, 1.531e+01, ..., 0.000e+00, 0.000e+00,\n",
       "        1.990e+03],\n",
       "       [2.000e+03, 3.600e+01, 1.361e+01, ..., 0.000e+00, 0.000e+00,\n",
       "        1.998e+03]])"
      ]
     },
     "execution_count": 71,
     "metadata": {},
     "output_type": "execute_result"
    }
   ],
   "source": [
    "X=df.drop(\"loan_repaid\", axis=1).values\n",
    "X"
   ]
  },
  {
   "cell_type": "code",
   "execution_count": 72,
   "metadata": {
    "execution": {
     "iopub.execute_input": "2020-12-24T00:10:30.136054Z",
     "iopub.status.busy": "2020-12-24T00:10:30.135455Z",
     "iopub.status.idle": "2020-12-24T00:10:30.139846Z",
     "shell.execute_reply": "2020-12-24T00:10:30.139238Z"
    },
    "papermill": {
     "duration": 0.099257,
     "end_time": "2020-12-24T00:10:30.139954",
     "exception": false,
     "start_time": "2020-12-24T00:10:30.040697",
     "status": "completed"
    },
    "tags": []
   },
   "outputs": [
    {
     "data": {
      "text/plain": [
       "(395219, 78)"
      ]
     },
     "execution_count": 72,
     "metadata": {},
     "output_type": "execute_result"
    }
   ],
   "source": [
    "X.shape # Features has 78 columns and 395219 rows and we transformed the into a numpy array for deep learning algorithm"
   ]
  },
  {
   "cell_type": "code",
   "execution_count": 73,
   "metadata": {
    "execution": {
     "iopub.execute_input": "2020-12-24T00:10:30.329771Z",
     "iopub.status.busy": "2020-12-24T00:10:30.329128Z",
     "iopub.status.idle": "2020-12-24T00:10:30.332660Z",
     "shell.execute_reply": "2020-12-24T00:10:30.333108Z"
    },
    "papermill": {
     "duration": 0.100651,
     "end_time": "2020-12-24T00:10:30.333239",
     "exception": false,
     "start_time": "2020-12-24T00:10:30.232588",
     "status": "completed"
    },
    "tags": []
   },
   "outputs": [
    {
     "data": {
      "text/plain": [
       "array([1, 1, 1, ..., 1, 1, 1])"
      ]
     },
     "execution_count": 73,
     "metadata": {},
     "output_type": "execute_result"
    }
   ],
   "source": [
    "y=df[\"loan_repaid\"].values\n",
    "y"
   ]
  },
  {
   "cell_type": "code",
   "execution_count": 74,
   "metadata": {
    "execution": {
     "iopub.execute_input": "2020-12-24T00:10:30.524106Z",
     "iopub.status.busy": "2020-12-24T00:10:30.523415Z",
     "iopub.status.idle": "2020-12-24T00:10:30.527442Z",
     "shell.execute_reply": "2020-12-24T00:10:30.528034Z"
    },
    "papermill": {
     "duration": 0.102603,
     "end_time": "2020-12-24T00:10:30.528181",
     "exception": false,
     "start_time": "2020-12-24T00:10:30.425578",
     "status": "completed"
    },
    "tags": []
   },
   "outputs": [
    {
     "data": {
      "text/plain": [
       "(395219,)"
      ]
     },
     "execution_count": 74,
     "metadata": {},
     "output_type": "execute_result"
    }
   ],
   "source": [
    "y.shape"
   ]
  },
  {
   "cell_type": "code",
   "execution_count": 75,
   "metadata": {
    "execution": {
     "iopub.execute_input": "2020-12-24T00:10:30.742698Z",
     "iopub.status.busy": "2020-12-24T00:10:30.741375Z",
     "iopub.status.idle": "2020-12-24T00:10:30.883628Z",
     "shell.execute_reply": "2020-12-24T00:10:30.882918Z"
    },
    "papermill": {
     "duration": 0.261578,
     "end_time": "2020-12-24T00:10:30.883741",
     "exception": false,
     "start_time": "2020-12-24T00:10:30.622163",
     "status": "completed"
    },
    "tags": []
   },
   "outputs": [],
   "source": [
    "from sklearn.model_selection import train_test_split"
   ]
  },
  {
   "cell_type": "code",
   "execution_count": 76,
   "metadata": {
    "execution": {
     "iopub.execute_input": "2020-12-24T00:10:31.073023Z",
     "iopub.status.busy": "2020-12-24T00:10:31.072334Z",
     "iopub.status.idle": "2020-12-24T00:10:31.503468Z",
     "shell.execute_reply": "2020-12-24T00:10:31.502904Z"
    },
    "papermill": {
     "duration": 0.527627,
     "end_time": "2020-12-24T00:10:31.503606",
     "exception": false,
     "start_time": "2020-12-24T00:10:30.975979",
     "status": "completed"
    },
    "tags": []
   },
   "outputs": [],
   "source": [
    "X_train, X_test, y_train, y_test=train_test_split(X,y, test_size=0.3)\n"
   ]
  },
  {
   "cell_type": "code",
   "execution_count": 77,
   "metadata": {
    "execution": {
     "iopub.execute_input": "2020-12-24T00:10:31.697088Z",
     "iopub.status.busy": "2020-12-24T00:10:31.696136Z",
     "iopub.status.idle": "2020-12-24T00:10:31.700047Z",
     "shell.execute_reply": "2020-12-24T00:10:31.700571Z"
    },
    "papermill": {
     "duration": 0.103484,
     "end_time": "2020-12-24T00:10:31.700708",
     "exception": false,
     "start_time": "2020-12-24T00:10:31.597224",
     "status": "completed"
    },
    "tags": []
   },
   "outputs": [
    {
     "data": {
      "text/plain": [
       "(276653, 78)"
      ]
     },
     "execution_count": 77,
     "metadata": {},
     "output_type": "execute_result"
    }
   ],
   "source": [
    "X_train.shape"
   ]
  },
  {
   "cell_type": "code",
   "execution_count": 78,
   "metadata": {
    "execution": {
     "iopub.execute_input": "2020-12-24T00:10:31.892816Z",
     "iopub.status.busy": "2020-12-24T00:10:31.892205Z",
     "iopub.status.idle": "2020-12-24T00:10:31.894879Z",
     "shell.execute_reply": "2020-12-24T00:10:31.895268Z"
    },
    "papermill": {
     "duration": 0.100831,
     "end_time": "2020-12-24T00:10:31.895446",
     "exception": false,
     "start_time": "2020-12-24T00:10:31.794615",
     "status": "completed"
    },
    "tags": []
   },
   "outputs": [
    {
     "data": {
      "text/plain": [
       "(118566, 78)"
      ]
     },
     "execution_count": 78,
     "metadata": {},
     "output_type": "execute_result"
    }
   ],
   "source": [
    "X_test.shape"
   ]
  },
  {
   "cell_type": "code",
   "execution_count": 79,
   "metadata": {
    "execution": {
     "iopub.execute_input": "2020-12-24T00:10:32.084116Z",
     "iopub.status.busy": "2020-12-24T00:10:32.083489Z",
     "iopub.status.idle": "2020-12-24T00:10:32.088541Z",
     "shell.execute_reply": "2020-12-24T00:10:32.089069Z"
    },
    "papermill": {
     "duration": 0.101267,
     "end_time": "2020-12-24T00:10:32.089212",
     "exception": false,
     "start_time": "2020-12-24T00:10:31.987945",
     "status": "completed"
    },
    "tags": []
   },
   "outputs": [
    {
     "data": {
      "text/plain": [
       "(276653,)"
      ]
     },
     "execution_count": 79,
     "metadata": {},
     "output_type": "execute_result"
    }
   ],
   "source": [
    "y_train.shape"
   ]
  },
  {
   "cell_type": "code",
   "execution_count": 80,
   "metadata": {
    "execution": {
     "iopub.execute_input": "2020-12-24T00:10:32.279166Z",
     "iopub.status.busy": "2020-12-24T00:10:32.278593Z",
     "iopub.status.idle": "2020-12-24T00:10:32.283078Z",
     "shell.execute_reply": "2020-12-24T00:10:32.283630Z"
    },
    "papermill": {
     "duration": 0.100915,
     "end_time": "2020-12-24T00:10:32.283767",
     "exception": false,
     "start_time": "2020-12-24T00:10:32.182852",
     "status": "completed"
    },
    "tags": []
   },
   "outputs": [
    {
     "data": {
      "text/plain": [
       "(118566,)"
      ]
     },
     "execution_count": 80,
     "metadata": {},
     "output_type": "execute_result"
    }
   ],
   "source": [
    "y_test.shape"
   ]
  },
  {
   "cell_type": "code",
   "execution_count": 81,
   "metadata": {
    "execution": {
     "iopub.execute_input": "2020-12-24T00:10:32.477922Z",
     "iopub.status.busy": "2020-12-24T00:10:32.477314Z",
     "iopub.status.idle": "2020-12-24T00:10:32.481649Z",
     "shell.execute_reply": "2020-12-24T00:10:32.481069Z"
    },
    "papermill": {
     "duration": 0.10172,
     "end_time": "2020-12-24T00:10:32.481755",
     "exception": false,
     "start_time": "2020-12-24T00:10:32.380035",
     "status": "completed"
    },
    "tags": []
   },
   "outputs": [],
   "source": [
    "#Now we need to standartize the X features\n",
    "from sklearn.preprocessing import MinMaxScaler"
   ]
  },
  {
   "cell_type": "code",
   "execution_count": 82,
   "metadata": {
    "execution": {
     "iopub.execute_input": "2020-12-24T00:10:32.673449Z",
     "iopub.status.busy": "2020-12-24T00:10:32.672800Z",
     "iopub.status.idle": "2020-12-24T00:10:32.675707Z",
     "shell.execute_reply": "2020-12-24T00:10:32.675137Z"
    },
    "papermill": {
     "duration": 0.099986,
     "end_time": "2020-12-24T00:10:32.675811",
     "exception": false,
     "start_time": "2020-12-24T00:10:32.575825",
     "status": "completed"
    },
    "tags": []
   },
   "outputs": [],
   "source": [
    "scaler=MinMaxScaler()"
   ]
  },
  {
   "cell_type": "code",
   "execution_count": 83,
   "metadata": {
    "execution": {
     "iopub.execute_input": "2020-12-24T00:10:32.867973Z",
     "iopub.status.busy": "2020-12-24T00:10:32.867239Z",
     "iopub.status.idle": "2020-12-24T00:10:33.154287Z",
     "shell.execute_reply": "2020-12-24T00:10:33.153789Z"
    },
    "papermill": {
     "duration": 0.384933,
     "end_time": "2020-12-24T00:10:33.154422",
     "exception": false,
     "start_time": "2020-12-24T00:10:32.769489",
     "status": "completed"
    },
    "tags": []
   },
   "outputs": [],
   "source": [
    "X_train=scaler.fit_transform(X_train) # here the scaler fit and transform the X training set\n",
    "X_test=scaler.transform(X_test) #there is no need to fit again, so we just transform the X test set"
   ]
  },
  {
   "cell_type": "code",
   "execution_count": 84,
   "metadata": {
    "execution": {
     "iopub.execute_input": "2020-12-24T00:10:33.350338Z",
     "iopub.status.busy": "2020-12-24T00:10:33.349338Z",
     "iopub.status.idle": "2020-12-24T00:10:33.353667Z",
     "shell.execute_reply": "2020-12-24T00:10:33.353003Z"
    },
    "papermill": {
     "duration": 0.10434,
     "end_time": "2020-12-24T00:10:33.353778",
     "exception": false,
     "start_time": "2020-12-24T00:10:33.249438",
     "status": "completed"
    },
    "tags": []
   },
   "outputs": [
    {
     "data": {
      "text/plain": [
       "(276653, 78)"
      ]
     },
     "execution_count": 84,
     "metadata": {},
     "output_type": "execute_result"
    }
   ],
   "source": [
    "X_train.shape"
   ]
  },
  {
   "cell_type": "code",
   "execution_count": 85,
   "metadata": {
    "execution": {
     "iopub.execute_input": "2020-12-24T00:10:33.550515Z",
     "iopub.status.busy": "2020-12-24T00:10:33.549529Z",
     "iopub.status.idle": "2020-12-24T00:10:33.553441Z",
     "shell.execute_reply": "2020-12-24T00:10:33.553851Z"
    },
    "papermill": {
     "duration": 0.10484,
     "end_time": "2020-12-24T00:10:33.553988",
     "exception": false,
     "start_time": "2020-12-24T00:10:33.449148",
     "status": "completed"
    },
    "tags": []
   },
   "outputs": [
    {
     "data": {
      "text/plain": [
       "array([[0.87269255, 1.        , 0.50175302, ..., 0.        , 0.        ,\n",
       "        0.86956522],\n",
       "       [0.2616168 , 0.        , 0.21153097, ..., 0.        , 0.        ,\n",
       "        0.72463768],\n",
       "       [0.19541693, 0.        , 0.24191663, ..., 0.        , 0.        ,\n",
       "        0.7826087 ],\n",
       "       ...,\n",
       "       [0.68173138, 0.        , 0.27931437, ..., 0.        , 0.        ,\n",
       "        0.65217391],\n",
       "       [0.23615532, 0.        , 0.48500195, ..., 0.        , 0.        ,\n",
       "        0.88405797],\n",
       "       [0.18523234, 0.        , 0.25983638, ..., 0.        , 0.        ,\n",
       "        0.85507246]])"
      ]
     },
     "execution_count": 85,
     "metadata": {},
     "output_type": "execute_result"
    }
   ],
   "source": [
    "X_test"
   ]
  },
  {
   "cell_type": "code",
   "execution_count": 86,
   "metadata": {
    "execution": {
     "iopub.execute_input": "2020-12-24T00:10:33.749777Z",
     "iopub.status.busy": "2020-12-24T00:10:33.749068Z",
     "iopub.status.idle": "2020-12-24T00:10:33.752765Z",
     "shell.execute_reply": "2020-12-24T00:10:33.752148Z"
    },
    "papermill": {
     "duration": 0.10353,
     "end_time": "2020-12-24T00:10:33.752876",
     "exception": false,
     "start_time": "2020-12-24T00:10:33.649346",
     "status": "completed"
    },
    "tags": []
   },
   "outputs": [
    {
     "data": {
      "text/plain": [
       "array([1, 0, 1, ..., 1, 0, 1])"
      ]
     },
     "execution_count": 86,
     "metadata": {},
     "output_type": "execute_result"
    }
   ],
   "source": [
    "y_train"
   ]
  },
  {
   "cell_type": "code",
   "execution_count": 87,
   "metadata": {
    "execution": {
     "iopub.execute_input": "2020-12-24T00:10:33.948265Z",
     "iopub.status.busy": "2020-12-24T00:10:33.947670Z",
     "iopub.status.idle": "2020-12-24T00:10:33.951512Z",
     "shell.execute_reply": "2020-12-24T00:10:33.950932Z"
    },
    "papermill": {
     "duration": 0.103636,
     "end_time": "2020-12-24T00:10:33.951619",
     "exception": false,
     "start_time": "2020-12-24T00:10:33.847983",
     "status": "completed"
    },
    "tags": []
   },
   "outputs": [
    {
     "data": {
      "text/plain": [
       "array([1, 1, 1, ..., 1, 1, 1])"
      ]
     },
     "execution_count": 87,
     "metadata": {},
     "output_type": "execute_result"
    }
   ],
   "source": [
    "y_test"
   ]
  },
  {
   "cell_type": "markdown",
   "metadata": {
    "papermill": {
     "duration": 0.095989,
     "end_time": "2020-12-24T00:10:34.142799",
     "exception": false,
     "start_time": "2020-12-24T00:10:34.046810",
     "status": "completed"
    },
    "tags": []
   },
   "source": [
    "**The next step is to create the deep learning algorithm**"
   ]
  },
  {
   "cell_type": "code",
   "execution_count": 88,
   "metadata": {
    "execution": {
     "iopub.execute_input": "2020-12-24T00:10:34.340783Z",
     "iopub.status.busy": "2020-12-24T00:10:34.339998Z",
     "iopub.status.idle": "2020-12-24T00:10:40.133681Z",
     "shell.execute_reply": "2020-12-24T00:10:40.133103Z"
    },
    "papermill": {
     "duration": 5.895111,
     "end_time": "2020-12-24T00:10:40.133801",
     "exception": false,
     "start_time": "2020-12-24T00:10:34.238690",
     "status": "completed"
    },
    "tags": []
   },
   "outputs": [],
   "source": [
    "import tensorflow as tf\n",
    "from tensorflow.keras.models import Sequential\n",
    "from tensorflow.keras.layers import Dense,Dropout"
   ]
  },
  {
   "cell_type": "code",
   "execution_count": 89,
   "metadata": {
    "execution": {
     "iopub.execute_input": "2020-12-24T00:10:40.331476Z",
     "iopub.status.busy": "2020-12-24T00:10:40.330775Z",
     "iopub.status.idle": "2020-12-24T00:10:40.413264Z",
     "shell.execute_reply": "2020-12-24T00:10:40.412562Z"
    },
    "papermill": {
     "duration": 0.18388,
     "end_time": "2020-12-24T00:10:40.413406",
     "exception": false,
     "start_time": "2020-12-24T00:10:40.229526",
     "status": "completed"
    },
    "tags": []
   },
   "outputs": [],
   "source": [
    "model=Sequential()\n",
    "model.add(Dense(units=78, activation=\"relu\"))\n",
    "model.add(Dense(units=35, activation=\"relu\"))\n",
    "model.add(Dense(units=17,activation=\"relu\"))\n",
    "model.add(Dense(units=1,activation=\"sigmoid\"))\n",
    "#In the last layer we will use sigmoid activation function because we will predict a binary class,not continuous\n"
   ]
  },
  {
   "cell_type": "code",
   "execution_count": 90,
   "metadata": {
    "execution": {
     "iopub.execute_input": "2020-12-24T00:10:40.621096Z",
     "iopub.status.busy": "2020-12-24T00:10:40.620491Z",
     "iopub.status.idle": "2020-12-24T00:10:40.630442Z",
     "shell.execute_reply": "2020-12-24T00:10:40.630894Z"
    },
    "papermill": {
     "duration": 0.11832,
     "end_time": "2020-12-24T00:10:40.631040",
     "exception": false,
     "start_time": "2020-12-24T00:10:40.512720",
     "status": "completed"
    },
    "tags": []
   },
   "outputs": [],
   "source": [
    "model.compile(loss=\"binary_crossentropy\",optimizer=\"adam\")\n",
    "#This configures model for training, we select binary cross entropy as the loss function and adam as the optimizer"
   ]
  },
  {
   "cell_type": "code",
   "execution_count": 91,
   "metadata": {
    "execution": {
     "iopub.execute_input": "2020-12-24T00:10:40.866670Z",
     "iopub.status.busy": "2020-12-24T00:10:40.865917Z",
     "iopub.status.idle": "2020-12-24T00:15:45.631228Z",
     "shell.execute_reply": "2020-12-24T00:15:45.630741Z"
    },
    "papermill": {
     "duration": 304.903208,
     "end_time": "2020-12-24T00:15:45.631371",
     "exception": false,
     "start_time": "2020-12-24T00:10:40.728163",
     "status": "completed"
    },
    "tags": []
   },
   "outputs": [
    {
     "name": "stdout",
     "output_type": "stream",
     "text": [
      "Epoch 1/25\n",
      "8646/8646 [==============================] - 12s 1ms/step - loss: 0.2709 - val_loss: 0.2657\n",
      "Epoch 2/25\n",
      "8646/8646 [==============================] - 13s 1ms/step - loss: 0.2610 - val_loss: 0.2621\n",
      "Epoch 3/25\n",
      "8646/8646 [==============================] - 13s 1ms/step - loss: 0.2600 - val_loss: 0.2606\n",
      "Epoch 4/25\n",
      "8646/8646 [==============================] - 12s 1ms/step - loss: 0.2594 - val_loss: 0.2617\n",
      "Epoch 5/25\n",
      "8646/8646 [==============================] - 12s 1ms/step - loss: 0.2587 - val_loss: 0.2607\n",
      "Epoch 6/25\n",
      "8646/8646 [==============================] - 12s 1ms/step - loss: 0.2583 - val_loss: 0.2605\n",
      "Epoch 7/25\n",
      "8646/8646 [==============================] - 12s 1ms/step - loss: 0.2579 - val_loss: 0.2607\n",
      "Epoch 8/25\n",
      "8646/8646 [==============================] - 13s 1ms/step - loss: 0.2574 - val_loss: 0.2599\n",
      "Epoch 9/25\n",
      "8646/8646 [==============================] - 12s 1ms/step - loss: 0.2570 - val_loss: 0.2601\n",
      "Epoch 10/25\n",
      "8646/8646 [==============================] - 12s 1ms/step - loss: 0.2565 - val_loss: 0.2603\n",
      "Epoch 11/25\n",
      "8646/8646 [==============================] - 12s 1ms/step - loss: 0.2562 - val_loss: 0.2600\n",
      "Epoch 12/25\n",
      "8646/8646 [==============================] - 12s 1ms/step - loss: 0.2559 - val_loss: 0.2602\n",
      "Epoch 13/25\n",
      "8646/8646 [==============================] - 12s 1ms/step - loss: 0.2554 - val_loss: 0.2614\n",
      "Epoch 14/25\n",
      "8646/8646 [==============================] - 12s 1ms/step - loss: 0.2552 - val_loss: 0.2649\n",
      "Epoch 15/25\n",
      "8646/8646 [==============================] - 12s 1ms/step - loss: 0.2548 - val_loss: 0.2605\n",
      "Epoch 16/25\n",
      "8646/8646 [==============================] - 12s 1ms/step - loss: 0.2546 - val_loss: 0.2621\n",
      "Epoch 17/25\n",
      "8646/8646 [==============================] - 12s 1ms/step - loss: 0.2541 - val_loss: 0.2611\n",
      "Epoch 18/25\n",
      "8646/8646 [==============================] - 13s 1ms/step - loss: 0.2537 - val_loss: 0.2615\n",
      "Epoch 19/25\n",
      "8646/8646 [==============================] - 12s 1ms/step - loss: 0.2535 - val_loss: 0.2606\n",
      "Epoch 20/25\n",
      "8646/8646 [==============================] - 12s 1ms/step - loss: 0.2531 - val_loss: 0.2613\n",
      "Epoch 21/25\n",
      "8646/8646 [==============================] - 12s 1ms/step - loss: 0.2527 - val_loss: 0.2636\n",
      "Epoch 22/25\n",
      "8646/8646 [==============================] - 12s 1ms/step - loss: 0.2525 - val_loss: 0.2625\n",
      "Epoch 23/25\n",
      "8646/8646 [==============================] - 12s 1ms/step - loss: 0.2521 - val_loss: 0.2628\n",
      "Epoch 24/25\n",
      "8646/8646 [==============================] - 12s 1ms/step - loss: 0.2517 - val_loss: 0.2638\n",
      "Epoch 25/25\n",
      "8646/8646 [==============================] - 12s 1ms/step - loss: 0.2517 - val_loss: 0.2636\n"
     ]
    },
    {
     "data": {
      "text/plain": [
       "<tensorflow.python.keras.callbacks.History at 0x7f68f447d350>"
      ]
     },
     "execution_count": 91,
     "metadata": {},
     "output_type": "execute_result"
    }
   ],
   "source": [
    "model.fit(x=X_train,y=y_train,epochs=25,validation_data=(X_test,y_test))"
   ]
  },
  {
   "cell_type": "markdown",
   "metadata": {
    "papermill": {
     "duration": 1.275858,
     "end_time": "2020-12-24T00:15:48.222836",
     "exception": false,
     "start_time": "2020-12-24T00:15:46.946978",
     "status": "completed"
    },
    "tags": []
   },
   "source": [
    "# 6. Evaluation of the Model's Performance:"
   ]
  },
  {
   "cell_type": "code",
   "execution_count": 92,
   "metadata": {
    "execution": {
     "iopub.execute_input": "2020-12-24T00:15:50.824786Z",
     "iopub.status.busy": "2020-12-24T00:15:50.823670Z",
     "iopub.status.idle": "2020-12-24T00:15:50.827952Z",
     "shell.execute_reply": "2020-12-24T00:15:50.828570Z"
    },
    "papermill": {
     "duration": 1.331529,
     "end_time": "2020-12-24T00:15:50.828717",
     "exception": false,
     "start_time": "2020-12-24T00:15:49.497188",
     "status": "completed"
    },
    "tags": []
   },
   "outputs": [
    {
     "data": {
      "text/html": [
       "<div>\n",
       "<style scoped>\n",
       "    .dataframe tbody tr th:only-of-type {\n",
       "        vertical-align: middle;\n",
       "    }\n",
       "\n",
       "    .dataframe tbody tr th {\n",
       "        vertical-align: top;\n",
       "    }\n",
       "\n",
       "    .dataframe thead th {\n",
       "        text-align: right;\n",
       "    }\n",
       "</style>\n",
       "<table border=\"1\" class=\"dataframe\">\n",
       "  <thead>\n",
       "    <tr style=\"text-align: right;\">\n",
       "      <th></th>\n",
       "      <th>loss</th>\n",
       "      <th>val_loss</th>\n",
       "    </tr>\n",
       "  </thead>\n",
       "  <tbody>\n",
       "    <tr>\n",
       "      <th>0</th>\n",
       "      <td>0.270931</td>\n",
       "      <td>0.265727</td>\n",
       "    </tr>\n",
       "    <tr>\n",
       "      <th>1</th>\n",
       "      <td>0.260978</td>\n",
       "      <td>0.262116</td>\n",
       "    </tr>\n",
       "    <tr>\n",
       "      <th>2</th>\n",
       "      <td>0.260017</td>\n",
       "      <td>0.260613</td>\n",
       "    </tr>\n",
       "    <tr>\n",
       "      <th>3</th>\n",
       "      <td>0.259367</td>\n",
       "      <td>0.261673</td>\n",
       "    </tr>\n",
       "    <tr>\n",
       "      <th>4</th>\n",
       "      <td>0.258737</td>\n",
       "      <td>0.260690</td>\n",
       "    </tr>\n",
       "    <tr>\n",
       "      <th>5</th>\n",
       "      <td>0.258281</td>\n",
       "      <td>0.260487</td>\n",
       "    </tr>\n",
       "    <tr>\n",
       "      <th>6</th>\n",
       "      <td>0.257885</td>\n",
       "      <td>0.260674</td>\n",
       "    </tr>\n",
       "    <tr>\n",
       "      <th>7</th>\n",
       "      <td>0.257437</td>\n",
       "      <td>0.259881</td>\n",
       "    </tr>\n",
       "    <tr>\n",
       "      <th>8</th>\n",
       "      <td>0.257030</td>\n",
       "      <td>0.260091</td>\n",
       "    </tr>\n",
       "    <tr>\n",
       "      <th>9</th>\n",
       "      <td>0.256549</td>\n",
       "      <td>0.260296</td>\n",
       "    </tr>\n",
       "    <tr>\n",
       "      <th>10</th>\n",
       "      <td>0.256192</td>\n",
       "      <td>0.260045</td>\n",
       "    </tr>\n",
       "    <tr>\n",
       "      <th>11</th>\n",
       "      <td>0.255912</td>\n",
       "      <td>0.260164</td>\n",
       "    </tr>\n",
       "    <tr>\n",
       "      <th>12</th>\n",
       "      <td>0.255413</td>\n",
       "      <td>0.261437</td>\n",
       "    </tr>\n",
       "    <tr>\n",
       "      <th>13</th>\n",
       "      <td>0.255174</td>\n",
       "      <td>0.264876</td>\n",
       "    </tr>\n",
       "    <tr>\n",
       "      <th>14</th>\n",
       "      <td>0.254807</td>\n",
       "      <td>0.260540</td>\n",
       "    </tr>\n",
       "    <tr>\n",
       "      <th>15</th>\n",
       "      <td>0.254551</td>\n",
       "      <td>0.262120</td>\n",
       "    </tr>\n",
       "    <tr>\n",
       "      <th>16</th>\n",
       "      <td>0.254059</td>\n",
       "      <td>0.261125</td>\n",
       "    </tr>\n",
       "    <tr>\n",
       "      <th>17</th>\n",
       "      <td>0.253738</td>\n",
       "      <td>0.261511</td>\n",
       "    </tr>\n",
       "    <tr>\n",
       "      <th>18</th>\n",
       "      <td>0.253470</td>\n",
       "      <td>0.260573</td>\n",
       "    </tr>\n",
       "    <tr>\n",
       "      <th>19</th>\n",
       "      <td>0.253073</td>\n",
       "      <td>0.261319</td>\n",
       "    </tr>\n",
       "    <tr>\n",
       "      <th>20</th>\n",
       "      <td>0.252656</td>\n",
       "      <td>0.263581</td>\n",
       "    </tr>\n",
       "    <tr>\n",
       "      <th>21</th>\n",
       "      <td>0.252459</td>\n",
       "      <td>0.262498</td>\n",
       "    </tr>\n",
       "    <tr>\n",
       "      <th>22</th>\n",
       "      <td>0.252089</td>\n",
       "      <td>0.262826</td>\n",
       "    </tr>\n",
       "    <tr>\n",
       "      <th>23</th>\n",
       "      <td>0.251740</td>\n",
       "      <td>0.263802</td>\n",
       "    </tr>\n",
       "    <tr>\n",
       "      <th>24</th>\n",
       "      <td>0.251659</td>\n",
       "      <td>0.263568</td>\n",
       "    </tr>\n",
       "  </tbody>\n",
       "</table>\n",
       "</div>"
      ],
      "text/plain": [
       "        loss  val_loss\n",
       "0   0.270931  0.265727\n",
       "1   0.260978  0.262116\n",
       "2   0.260017  0.260613\n",
       "3   0.259367  0.261673\n",
       "4   0.258737  0.260690\n",
       "5   0.258281  0.260487\n",
       "6   0.257885  0.260674\n",
       "7   0.257437  0.259881\n",
       "8   0.257030  0.260091\n",
       "9   0.256549  0.260296\n",
       "10  0.256192  0.260045\n",
       "11  0.255912  0.260164\n",
       "12  0.255413  0.261437\n",
       "13  0.255174  0.264876\n",
       "14  0.254807  0.260540\n",
       "15  0.254551  0.262120\n",
       "16  0.254059  0.261125\n",
       "17  0.253738  0.261511\n",
       "18  0.253470  0.260573\n",
       "19  0.253073  0.261319\n",
       "20  0.252656  0.263581\n",
       "21  0.252459  0.262498\n",
       "22  0.252089  0.262826\n",
       "23  0.251740  0.263802\n",
       "24  0.251659  0.263568"
      ]
     },
     "execution_count": 92,
     "metadata": {},
     "output_type": "execute_result"
    }
   ],
   "source": [
    "pd.DataFrame(model.history.history) #here we create a data fram that shows the values in our model and correspoding real values\n"
   ]
  },
  {
   "cell_type": "code",
   "execution_count": 93,
   "metadata": {
    "execution": {
     "iopub.execute_input": "2020-12-24T00:15:53.410583Z",
     "iopub.status.busy": "2020-12-24T00:15:53.409633Z",
     "iopub.status.idle": "2020-12-24T00:15:53.691765Z",
     "shell.execute_reply": "2020-12-24T00:15:53.692194Z"
    },
    "papermill": {
     "duration": 1.563958,
     "end_time": "2020-12-24T00:15:53.692330",
     "exception": false,
     "start_time": "2020-12-24T00:15:52.128372",
     "status": "completed"
    },
    "tags": []
   },
   "outputs": [
    {
     "data": {
      "text/plain": [
       "<matplotlib.axes._subplots.AxesSubplot at 0x7f68e3d2b6d0>"
      ]
     },
     "execution_count": 93,
     "metadata": {},
     "output_type": "execute_result"
    },
    {
     "data": {
      "image/png": "[encoded data removed]",
      "text/plain": [
       "<Figure size 1080x720 with 1 Axes>"
      ]
     },
     "metadata": {},
     "output_type": "display_data"
    }
   ],
   "source": [
    "pd.DataFrame(model.history.history).plot(figsize=(15,10))\n",
    "#There is huge distance between our model and validation data, so it means there is overfitting problem"
   ]
  },
  {
   "cell_type": "code",
   "execution_count": 94,
   "metadata": {
    "execution": {
     "iopub.execute_input": "2020-12-24T00:15:56.266925Z",
     "iopub.status.busy": "2020-12-24T00:15:56.266199Z",
     "iopub.status.idle": "2020-12-24T00:15:58.077491Z",
     "shell.execute_reply": "2020-12-24T00:15:58.076756Z"
    },
    "papermill": {
     "duration": 3.112503,
     "end_time": "2020-12-24T00:15:58.077604",
     "exception": false,
     "start_time": "2020-12-24T00:15:54.965101",
     "status": "completed"
    },
    "tags": []
   },
   "outputs": [
    {
     "data": {
      "text/plain": [
       "array([[1],\n",
       "       [1],\n",
       "       [1],\n",
       "       ...,\n",
       "       [1],\n",
       "       [1],\n",
       "       [1]], dtype=int32)"
      ]
     },
     "execution_count": 94,
     "metadata": {},
     "output_type": "execute_result"
    }
   ],
   "source": [
    "predictions=model.predict_classes(X_test)\n",
    "predictions"
   ]
  },
  {
   "cell_type": "code",
   "execution_count": 95,
   "metadata": {
    "execution": {
     "iopub.execute_input": "2020-12-24T00:16:00.780001Z",
     "iopub.status.busy": "2020-12-24T00:16:00.779021Z",
     "iopub.status.idle": "2020-12-24T00:16:00.782902Z",
     "shell.execute_reply": "2020-12-24T00:16:00.782307Z"
    },
    "papermill": {
     "duration": 1.383638,
     "end_time": "2020-12-24T00:16:00.783024",
     "exception": false,
     "start_time": "2020-12-24T00:15:59.399386",
     "status": "completed"
    },
    "tags": []
   },
   "outputs": [],
   "source": [
    "from sklearn.metrics import classification_report, confusion_matrix\n"
   ]
  },
  {
   "cell_type": "code",
   "execution_count": 96,
   "metadata": {
    "execution": {
     "iopub.execute_input": "2020-12-24T00:16:03.331708Z",
     "iopub.status.busy": "2020-12-24T00:16:03.330772Z",
     "iopub.status.idle": "2020-12-24T00:16:03.617459Z",
     "shell.execute_reply": "2020-12-24T00:16:03.616418Z"
    },
    "papermill": {
     "duration": 1.562512,
     "end_time": "2020-12-24T00:16:03.617647",
     "exception": false,
     "start_time": "2020-12-24T00:16:02.055135",
     "status": "completed"
    },
    "tags": []
   },
   "outputs": [
    {
     "name": "stdout",
     "output_type": "stream",
     "text": [
      "              precision    recall  f1-score   support\n",
      "\n",
      "           0       0.94      0.46      0.62     23277\n",
      "           1       0.88      0.99      0.93     95289\n",
      "\n",
      "    accuracy                           0.89    118566\n",
      "   macro avg       0.91      0.73      0.78    118566\n",
      "weighted avg       0.89      0.89      0.87    118566\n",
      "\n",
      "**************************\n",
      "[[10629 12648]\n",
      " [  619 94670]]\n"
     ]
    }
   ],
   "source": [
    "print(classification_report(y_test,predictions))\n",
    "print(\"**************************\")\n",
    "print(confusion_matrix(y_test,predictions))"
   ]
  },
  {
   "cell_type": "markdown",
   "metadata": {
    "papermill": {
     "duration": 1.356476,
     "end_time": "2020-12-24T00:16:06.259166",
     "exception": false,
     "start_time": "2020-12-24T00:16:04.902690",
     "status": "completed"
    },
    "tags": []
   },
   "source": [
    "The performance of the model is not good, so we will retrain our data and make new predictions"
   ]
  },
  {
   "cell_type": "code",
   "execution_count": 97,
   "metadata": {
    "execution": {
     "iopub.execute_input": "2020-12-24T00:16:08.867439Z",
     "iopub.status.busy": "2020-12-24T00:16:08.866525Z",
     "iopub.status.idle": "2020-12-24T00:16:08.869330Z",
     "shell.execute_reply": "2020-12-24T00:16:08.868869Z"
    },
    "papermill": {
     "duration": 1.332672,
     "end_time": "2020-12-24T00:16:08.869471",
     "exception": false,
     "start_time": "2020-12-24T00:16:07.536799",
     "status": "completed"
    },
    "tags": []
   },
   "outputs": [],
   "source": [
    "from tensorflow.keras.callbacks import EarlyStopping\n",
    "#we will add early stopping which will work when the divergence between the training data and validation data happen"
   ]
  },
  {
   "cell_type": "code",
   "execution_count": 98,
   "metadata": {
    "execution": {
     "iopub.execute_input": "2020-12-24T00:16:11.521387Z",
     "iopub.status.busy": "2020-12-24T00:16:11.520719Z",
     "iopub.status.idle": "2020-12-24T00:16:11.524049Z",
     "shell.execute_reply": "2020-12-24T00:16:11.523402Z"
    },
    "papermill": {
     "duration": 1.356281,
     "end_time": "2020-12-24T00:16:11.524171",
     "exception": false,
     "start_time": "2020-12-24T00:16:10.167890",
     "status": "completed"
    },
    "tags": []
   },
   "outputs": [],
   "source": [
    "early_stop=EarlyStopping(monitor=\"val_loss\",patience=10,verbose=1,mode=\"min\")\n",
    "#here we create our early stopping which will stop model after 10 number patience "
   ]
  },
  {
   "cell_type": "code",
   "execution_count": 99,
   "metadata": {
    "execution": {
     "iopub.execute_input": "2020-12-24T00:16:14.183994Z",
     "iopub.status.busy": "2020-12-24T00:16:14.182976Z",
     "iopub.status.idle": "2020-12-24T00:16:14.194178Z",
     "shell.execute_reply": "2020-12-24T00:16:14.193694Z"
    },
    "papermill": {
     "duration": 1.327746,
     "end_time": "2020-12-24T00:16:14.194303",
     "exception": false,
     "start_time": "2020-12-24T00:16:12.866557",
     "status": "completed"
    },
    "tags": []
   },
   "outputs": [],
   "source": [
    "model2=Sequential()\n",
    "model2.add(Dense(units=78, activation=\"relu\"))\n",
    "model2.add(Dropout(0.2)) # we can choose the precentage between 0 and 100, 0.5 represents %50 of the layer\n",
    "model2.add(Dense(units=39, activation=\"relu\"))\n",
    "model2.add(Dropout(0.2))\n",
    "model2.add(Dense(units=19,activation=\"relu\"))\n",
    "model2.add(Dropout(0.2))\n",
    "model2.add(Dense(units=1,activation=\"sigmoid\"))"
   ]
  },
  {
   "cell_type": "code",
   "execution_count": 100,
   "metadata": {
    "execution": {
     "iopub.execute_input": "2020-12-24T00:16:16.843190Z",
     "iopub.status.busy": "2020-12-24T00:16:16.842485Z",
     "iopub.status.idle": "2020-12-24T00:16:16.847875Z",
     "shell.execute_reply": "2020-12-24T00:16:16.847343Z"
    },
    "papermill": {
     "duration": 1.345095,
     "end_time": "2020-12-24T00:16:16.848058",
     "exception": false,
     "start_time": "2020-12-24T00:16:15.502963",
     "status": "completed"
    },
    "tags": []
   },
   "outputs": [],
   "source": [
    "model2.compile(loss=\"binary_crossentropy\",optimizer=\"adam\")"
   ]
  },
  {
   "cell_type": "code",
   "execution_count": 101,
   "metadata": {
    "execution": {
     "iopub.execute_input": "2020-12-24T00:16:19.422884Z",
     "iopub.status.busy": "2020-12-24T00:16:19.421931Z",
     "iopub.status.idle": "2020-12-24T00:21:04.322485Z",
     "shell.execute_reply": "2020-12-24T00:21:04.323213Z"
    },
    "papermill": {
     "duration": 286.183226,
     "end_time": "2020-12-24T00:21:04.323465",
     "exception": false,
     "start_time": "2020-12-24T00:16:18.140239",
     "status": "completed"
    },
    "tags": []
   },
   "outputs": [
    {
     "name": "stdout",
     "output_type": "stream",
     "text": [
      "Epoch 1/25\n",
      "8646/8646 [==============================] - 13s 1ms/step - loss: 0.2779 - val_loss: 0.2628\n",
      "Epoch 2/25\n",
      "8646/8646 [==============================] - 13s 1ms/step - loss: 0.2636 - val_loss: 0.2632\n",
      "Epoch 3/25\n",
      "8646/8646 [==============================] - 13s 1ms/step - loss: 0.2625 - val_loss: 0.2628\n",
      "Epoch 4/25\n",
      "8646/8646 [==============================] - 13s 1ms/step - loss: 0.2618 - val_loss: 0.2607\n",
      "Epoch 5/25\n",
      "8646/8646 [==============================] - 13s 2ms/step - loss: 0.2613 - val_loss: 0.2615\n",
      "Epoch 6/25\n",
      "8646/8646 [==============================] - 13s 1ms/step - loss: 0.2610 - val_loss: 0.2613\n",
      "Epoch 7/25\n",
      "8646/8646 [==============================] - 13s 1ms/step - loss: 0.2608 - val_loss: 0.2610\n",
      "Epoch 8/25\n",
      "8646/8646 [==============================] - 13s 1ms/step - loss: 0.2604 - val_loss: 0.2601\n",
      "Epoch 9/25\n",
      "8646/8646 [==============================] - 13s 2ms/step - loss: 0.2603 - val_loss: 0.2603\n",
      "Epoch 10/25\n",
      "8646/8646 [==============================] - 13s 2ms/step - loss: 0.2599 - val_loss: 0.2606\n",
      "Epoch 11/25\n",
      "8646/8646 [==============================] - 13s 1ms/step - loss: 0.2598 - val_loss: 0.2607\n",
      "Epoch 12/25\n",
      "8646/8646 [==============================] - 13s 1ms/step - loss: 0.2597 - val_loss: 0.2601\n",
      "Epoch 13/25\n",
      "8646/8646 [==============================] - 13s 2ms/step - loss: 0.2596 - val_loss: 0.2605\n",
      "Epoch 14/25\n",
      "8646/8646 [==============================] - 13s 1ms/step - loss: 0.2592 - val_loss: 0.2607\n",
      "Epoch 15/25\n",
      "8646/8646 [==============================] - 14s 2ms/step - loss: 0.2594 - val_loss: 0.2611\n",
      "Epoch 16/25\n",
      "8646/8646 [==============================] - 13s 2ms/step - loss: 0.2592 - val_loss: 0.2603\n",
      "Epoch 17/25\n",
      "8646/8646 [==============================] - 13s 1ms/step - loss: 0.2590 - val_loss: 0.2607\n",
      "Epoch 18/25\n",
      "8646/8646 [==============================] - 13s 2ms/step - loss: 0.2590 - val_loss: 0.2603\n",
      "Epoch 19/25\n",
      "8646/8646 [==============================] - 13s 1ms/step - loss: 0.2587 - val_loss: 0.2614\n",
      "Epoch 20/25\n",
      "8646/8646 [==============================] - 13s 1ms/step - loss: 0.2588 - val_loss: 0.2606\n",
      "Epoch 21/25\n",
      "8646/8646 [==============================] - 13s 2ms/step - loss: 0.2586 - val_loss: 0.2606\n",
      "Epoch 22/25\n",
      "8646/8646 [==============================] - 13s 1ms/step - loss: 0.2585 - val_loss: 0.2609\n",
      "Epoch 00022: early stopping\n"
     ]
    },
    {
     "data": {
      "text/plain": [
       "<tensorflow.python.keras.callbacks.History at 0x7f68f4471b50>"
      ]
     },
     "execution_count": 101,
     "metadata": {},
     "output_type": "execute_result"
    }
   ],
   "source": [
    "model2.fit(x=X_train,y=y_train,epochs=25, validation_data=(X_test, y_test), callbacks=[early_stop])"
   ]
  },
  {
   "cell_type": "code",
   "execution_count": 102,
   "metadata": {
    "execution": {
     "iopub.execute_input": "2020-12-24T00:21:09.313402Z",
     "iopub.status.busy": "2020-12-24T00:21:09.312344Z",
     "iopub.status.idle": "2020-12-24T00:21:09.599018Z",
     "shell.execute_reply": "2020-12-24T00:21:09.598378Z"
    },
    "papermill": {
     "duration": 2.848107,
     "end_time": "2020-12-24T00:21:09.599125",
     "exception": false,
     "start_time": "2020-12-24T00:21:06.751018",
     "status": "completed"
    },
    "tags": []
   },
   "outputs": [
    {
     "data": {
      "text/plain": [
       "<matplotlib.axes._subplots.AxesSubplot at 0x7f68e3c58a50>"
      ]
     },
     "execution_count": 102,
     "metadata": {},
     "output_type": "execute_result"
    },
    {
     "data": {
      "image/png": "[encoded data removed]",
      "text/plain": [
       "<Figure size 1080x720 with 1 Axes>"
      ]
     },
     "metadata": {},
     "output_type": "display_data"
    }
   ],
   "source": [
    "pd.DataFrame(model2.history.history).plot(figsize=(15,10))\n",
    "#This plot is far better than previous one"
   ]
  },
  {
   "cell_type": "code",
   "execution_count": 103,
   "metadata": {
    "execution": {
     "iopub.execute_input": "2020-12-24T00:21:14.491274Z",
     "iopub.status.busy": "2020-12-24T00:21:14.490026Z",
     "iopub.status.idle": "2020-12-24T00:21:16.194993Z",
     "shell.execute_reply": "2020-12-24T00:21:16.195493Z"
    },
    "papermill": {
     "duration": 4.179294,
     "end_time": "2020-12-24T00:21:16.195636",
     "exception": false,
     "start_time": "2020-12-24T00:21:12.016342",
     "status": "completed"
    },
    "tags": []
   },
   "outputs": [],
   "source": [
    "predictions2=model2.predict_classes(X_test)"
   ]
  },
  {
   "cell_type": "code",
   "execution_count": 104,
   "metadata": {
    "execution": {
     "iopub.execute_input": "2020-12-24T00:21:21.149093Z",
     "iopub.status.busy": "2020-12-24T00:21:21.148005Z",
     "iopub.status.idle": "2020-12-24T00:21:21.432623Z",
     "shell.execute_reply": "2020-12-24T00:21:21.431846Z"
    },
    "papermill": {
     "duration": 2.794921,
     "end_time": "2020-12-24T00:21:21.432753",
     "exception": false,
     "start_time": "2020-12-24T00:21:18.637832",
     "status": "completed"
    },
    "tags": []
   },
   "outputs": [
    {
     "name": "stdout",
     "output_type": "stream",
     "text": [
      "              precision    recall  f1-score   support\n",
      "\n",
      "           0       0.99      0.43      0.60     23277\n",
      "           1       0.88      1.00      0.93     95289\n",
      "\n",
      "    accuracy                           0.89    118566\n",
      "   macro avg       0.94      0.72      0.77    118566\n",
      "weighted avg       0.90      0.89      0.87    118566\n",
      "\n",
      "**************************\n",
      "[[10057 13220]\n",
      " [   69 95220]]\n"
     ]
    }
   ],
   "source": [
    "print(classification_report(y_test,predictions2))\n",
    "print(\"**************************\")\n",
    "print(confusion_matrix(y_test,predictions2))"
   ]
  },
  {
   "cell_type": "markdown",
   "metadata": {
    "papermill": {
     "duration": 2.39154,
     "end_time": "2020-12-24T00:21:26.250349",
     "exception": false,
     "start_time": "2020-12-24T00:21:23.858809",
     "status": "completed"
    },
    "tags": []
   },
   "source": [
    "TP:10269, FP:13235, TN=94928, FN:134. This model is very good to predict the 0 class, but not as goog as in prediction of 1 class.Overall it is better than the previous one"
   ]
  }
 ],
 "metadata": {
  "kernelspec": {
   "display_name": "Python 3",
   "language": "python",
   "name": "python3"
  },
  "language_info": {
   "codemirror_mode": {
    "name": "ipython",
    "version": 3
   },
   "file_extension": ".py",
   "mimetype": "text/x-python",
   "name": "python",
   "nbconvert_exporter": "python",
   "pygments_lexer": "ipython3",
   "version": "3.7.6"
  },
  "papermill": {
   "duration": 700.627893,
   "end_time": "2020-12-24T00:21:28.785623",
   "environment_variables": {},
   "exception": null,
   "input_path": "__notebook__.ipynb",
   "output_path": "__notebook__.ipynb",
   "parameters": {},
   "start_time": "2020-12-24T00:09:48.157730",
   "version": "2.1.0"
  }
 },
 "nbformat": 4,
 "nbformat_minor": 4
}
